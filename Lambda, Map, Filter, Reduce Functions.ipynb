{
 "cells": [
  {
   "cell_type": "markdown",
   "metadata": {},
   "source": [
    "### Lambda, Map, Filter, Reduce Functions\n",
    "\n",
    "ref. [Joe James](https://www.youtube.com/watch?v=cKlnR-CB3tk)"
   ]
  },
  {
   "cell_type": "markdown",
   "metadata": {},
   "source": [
    "#### Lambda function\n",
    "\n",
    "- a simple 1-line function\n",
    "- do not use def or return keywords. These are implicit"
   ]
  },
  {
   "cell_type": "code",
   "execution_count": 1,
   "metadata": {},
   "outputs": [
    {
     "data": {
      "text/plain": [
       "4"
      ]
     },
     "execution_count": 1,
     "metadata": {},
     "output_type": "execute_result"
    }
   ],
   "source": [
    "# ex \n",
    "\n",
    "def double(x):\n",
    "    return x * 2\n",
    "\n",
    "\n",
    "double(2)"
   ]
  },
  {
   "cell_type": "code",
   "execution_count": 6,
   "metadata": {},
   "outputs": [
    {
     "name": "stdout",
     "output_type": "stream",
     "text": [
      "4\n"
     ]
    }
   ],
   "source": [
    "double = lambda x: x * 2\n",
    "print(double(2))"
   ]
  },
  {
   "cell_type": "code",
   "execution_count": 5,
   "metadata": {},
   "outputs": [
    {
     "data": {
      "text/plain": [
       "6"
      ]
     },
     "execution_count": 5,
     "metadata": {},
     "output_type": "execute_result"
    }
   ],
   "source": [
    "# ex \n",
    "\n",
    "def add(x, y):\n",
    "    return x + y\n",
    "\n",
    "\n",
    "add(2, 4)"
   ]
  },
  {
   "cell_type": "code",
   "execution_count": 7,
   "metadata": {},
   "outputs": [
    {
     "name": "stdout",
     "output_type": "stream",
     "text": [
      "6\n"
     ]
    }
   ],
   "source": [
    "add = lambda x, y: x + y\n",
    "print(add(2, 4))"
   ]
  },
  {
   "cell_type": "code",
   "execution_count": 8,
   "metadata": {},
   "outputs": [
    {
     "data": {
      "text/plain": [
       "8"
      ]
     },
     "execution_count": 8,
     "metadata": {},
     "output_type": "execute_result"
    }
   ],
   "source": [
    "def mx(x, y):\n",
    "    if x > y:\n",
    "        return x\n",
    "    else:\n",
    "        return y\n",
    "    \n",
    "mx(5, 8)"
   ]
  },
  {
   "cell_type": "code",
   "execution_count": 9,
   "metadata": {},
   "outputs": [
    {
     "data": {
      "text/plain": [
       "8"
      ]
     },
     "execution_count": 9,
     "metadata": {},
     "output_type": "execute_result"
    }
   ],
   "source": [
    "mx = lambda x, y: x if x > y else y\n",
    "\n",
    "mx(5, 8)"
   ]
  },
  {
   "cell_type": "markdown",
   "metadata": {},
   "source": [
    "#### Map \n",
    "\n",
    "- apply same function to each element of a sequence\n",
    "- return the modified list\n",
    "\n",
    "``` \n",
    "List, [m, n, p]\n",
    "Function, f()\n",
    "\n",
    "map\n",
    "\n",
    "New list, [f(m), f(n), f(p)]\n",
    "```"
   ]
  },
  {
   "cell_type": "code",
   "execution_count": 10,
   "metadata": {},
   "outputs": [
    {
     "data": {
      "text/plain": [
       "[16, 9, 4, 1]"
      ]
     },
     "execution_count": 10,
     "metadata": {},
     "output_type": "execute_result"
    }
   ],
   "source": [
    "n = [4, 3, 2, 1]\n",
    "def square(list1):\n",
    "    list2 = []\n",
    "    for num in list1:\n",
    "        list2.append(num ** 2)\n",
    "    return list2\n",
    "\n",
    "\n",
    "square(n)"
   ]
  },
  {
   "cell_type": "code",
   "execution_count": 11,
   "metadata": {},
   "outputs": [
    {
     "name": "stdout",
     "output_type": "stream",
     "text": [
      "[16, 9, 4, 1]\n"
     ]
    }
   ],
   "source": [
    "n = [4, 3, 2, 1]\n",
    "\n",
    "print(list(map(lambda x:x**2, n)))"
   ]
  },
  {
   "cell_type": "code",
   "execution_count": 14,
   "metadata": {},
   "outputs": [
    {
     "name": "stdout",
     "output_type": "stream",
     "text": [
      "[16, 9, 4, 1]\n"
     ]
    }
   ],
   "source": [
    "# needn't necessarily use a lambda function:\n",
    "def square(num):\n",
    "    return num**2\n",
    "\n",
    "print(list(map(square, n)))"
   ]
  },
  {
   "cell_type": "code",
   "execution_count": 15,
   "metadata": {},
   "outputs": [
    {
     "name": "stdout",
     "output_type": "stream",
     "text": [
      "[16, 9, 4, 1]\n"
     ]
    }
   ],
   "source": [
    "# list comprehension solution\n",
    "\n",
    "print([x**2 for x in n]) # para cada x em n faça x vezes 2"
   ]
  },
  {
   "cell_type": "markdown",
   "metadata": {},
   "source": [
    "#### filter\n",
    "\n",
    "- filter items out of a sequence\n",
    "- return filtered list\n",
    "\n",
    "```\n",
    "List, [m, n, p]\n",
    "Condition, c()\n",
    "\n",
    "if (m == condition)\n",
    "\n",
    "New list, [m, n]"
   ]
  },
  {
   "cell_type": "code",
   "execution_count": 17,
   "metadata": {},
   "outputs": [
    {
     "name": "stdout",
     "output_type": "stream",
     "text": [
      "[4, 3]\n"
     ]
    }
   ],
   "source": [
    "def over_two(list1):\n",
    "    list2 = [x for x in list1 if x > 2]\n",
    "    return list2\n",
    "\n",
    "print(over_two([4, 3, 2, 1]))"
   ]
  },
  {
   "cell_type": "code",
   "execution_count": 18,
   "metadata": {},
   "outputs": [
    {
     "name": "stdout",
     "output_type": "stream",
     "text": [
      "[4, 3]\n"
     ]
    }
   ],
   "source": [
    "n = [4, 3, 2, 1]\n",
    "print(list(filter(lambda x:x > 2, n)))"
   ]
  },
  {
   "cell_type": "markdown",
   "metadata": {},
   "source": [
    "#### Reduce\n",
    "\n",
    "- applies same operation to items of a sequence\n",
    "- uses result of operation as first param of next operation\n",
    "- returns an item, not a list\n",
    "\n",
    "```\n",
    "List, [m, n, p]\n",
    "Function, f()\n",
    "\n",
    "f(f(m, n), p)\n",
    "```"
   ]
  },
  {
   "cell_type": "code",
   "execution_count": 23,
   "metadata": {},
   "outputs": [
    {
     "name": "stdout",
     "output_type": "stream",
     "text": [
      "24\n"
     ]
    }
   ],
   "source": [
    "def mult(list1):\n",
    "    prod = list1[0]\n",
    "    for i in range(1, len(list1)):\n",
    "        prod*=list1[i]\n",
    "    return prod\n",
    "\n",
    "print(mult([4, 3, 2, 1]))"
   ]
  },
  {
   "cell_type": "code",
   "execution_count": 27,
   "metadata": {},
   "outputs": [
    {
     "name": "stdout",
     "output_type": "stream",
     "text": [
      "24\n"
     ]
    }
   ],
   "source": [
    "import functools\n",
    "\n",
    "n = [4, 3, 2, 1]\n",
    "\n",
    "print(functools.reduce(lambda x, y:x*y, n))\n",
    "\n",
    "# 4 * 3 = 12\n",
    "# 12 * 2 = 24\n",
    "# 24 * 1 = 24"
   ]
  },
  {
   "cell_type": "markdown",
   "metadata": {},
   "source": [
    "study list comprehension [...]"
   ]
  },
  {
   "cell_type": "code",
   "execution_count": null,
   "metadata": {},
   "outputs": [],
   "source": []
  }
 ],
 "metadata": {
  "kernelspec": {
   "display_name": "Python 3",
   "language": "python",
   "name": "python3"
  },
  "language_info": {
   "codemirror_mode": {
    "name": "ipython",
    "version": 3
   },
   "file_extension": ".py",
   "mimetype": "text/x-python",
   "name": "python",
   "nbconvert_exporter": "python",
   "pygments_lexer": "ipython3",
   "version": "3.8.5"
  }
 },
 "nbformat": 4,
 "nbformat_minor": 4
}
