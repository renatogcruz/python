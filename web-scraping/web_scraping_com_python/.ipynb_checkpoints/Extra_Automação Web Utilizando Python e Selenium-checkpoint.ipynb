{
 "cells": [
  {
   "cell_type": "markdown",
   "metadata": {},
   "source": [
    "# Como Fazer uma Automação Web Utilizando Python e Selenium\n",
    "\n",
    "https://www.youtube.com/watch?v=y7OhuSGBt8o&t=1184s\n",
    "\n",
    "https://selenium-python.readthedocs.io/"
   ]
  },
  {
   "cell_type": "code",
   "execution_count": 11,
   "metadata": {},
   "outputs": [],
   "source": [
    "from selenium import webdriver\n",
    "\n",
    "navegador = webdriver.Chrome()\n",
    "\n",
    "navegador.get('https://ri.magazineluiza.com.br')\n",
    "navegador.find_element_by_xpath('//*[@id=\"owl-destaques\"]/div[1]/div/div[4]/div/a/p').click()\n",
    "navegador.find_element_by_xpath('//*[@id=\"qh+HU4D7Db023fFZvApelg==\"]').click()"
   ]
  },
  {
   "cell_type": "code",
   "execution_count": null,
   "metadata": {},
   "outputs": [],
   "source": []
  },
  {
   "cell_type": "code",
   "execution_count": null,
   "metadata": {},
   "outputs": [],
   "source": []
  },
  {
   "cell_type": "code",
   "execution_count": null,
   "metadata": {},
   "outputs": [],
   "source": []
  }
 ],
 "metadata": {
  "kernelspec": {
   "display_name": "Python 3",
   "language": "python",
   "name": "python3"
  },
  "language_info": {
   "codemirror_mode": {
    "name": "ipython",
    "version": 3
   },
   "file_extension": ".py",
   "mimetype": "text/x-python",
   "name": "python",
   "nbconvert_exporter": "python",
   "pygments_lexer": "ipython3",
   "version": "3.8.5"
  }
 },
 "nbformat": 4,
 "nbformat_minor": 4
}
