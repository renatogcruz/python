{
 "cells": [
  {
   "cell_type": "markdown",
   "metadata": {},
   "source": [
    "# Programação Orientada a Objetos com Python\n",
    "\n",
    "Fundamentos de OOP com Python 3\n",
    "\n",
    "À venda em http://leanpub.com/PythonOOP\n",
    "\n",
    "© 2016 - 2017 Ashwin Pajankar e Sushant Garg"
   ]
  },
  {
   "cell_type": "markdown",
   "metadata": {},
   "source": [
    "## 4 Herança\n",
    "\n",
    "Linguagens de programação modernas têm mecanismos diferentes para reutilização de código. Os procedimentos são uma excelente maneira de reutilizar o código. Funções em Python é um ótimo exemplo de como a reutilização de código pode ser alcançada por procedimento.\n",
    "\n",
    "Linguagens de programação orientadas a objetos, como Python, também têm outra abordagem para a reutilização de código.\n",
    "\n",
    "É conhecido como Herança. Python tem mecanismo para herança baseada em classe. Uma classe em Python pode herdar os atributos e os comportamentos da outra classe. A classe base da qual derivamos outra (s) classe (s) também é conhecida como Classe Pai ou SuperClasse. A classe que herda (ou deriva ou estende, tenha em mente que essas palavras são usadas indistintamente no mundo da programação orientada a objetos) os atributos e os comportamentos é conhecida como classe filho ou subclasse"
   ]
  },
  {
   "cell_type": "markdown",
   "metadata": {},
   "source": [
    "## 4.1 Herança básica em Python\n",
    "\n",
    "Tecnicamente, todas as classes Python são subclasses de uma classe interna especial conhecida como objeto. Esse mecanismo permite que o Python trate objetos da mesma forma. Portanto, se você está criando qualquer classe em Python, significa que está usando herança implicitamente. Está implícito porque você não tem que fazer nenhuma provisão especial no código para isso.\n",
    "\n",
    "Você também pode derivar explicitamente sua classe personalizada do objeto de classe da seguinte maneira:\n",
    "\n",
    "```python\n",
    "prog01.py\n",
    "1 class MyClass(object):\n",
    "2 pass\n",
    "```"
   ]
  },
  {
   "cell_type": "code",
   "execution_count": 1,
   "metadata": {},
   "outputs": [],
   "source": [
    "# prog01.py\n",
    "class MyClass(object):\n",
    "    pass"
   ]
  },
  {
   "cell_type": "markdown",
   "metadata": {},
   "source": [
    "O código acima tem o mesmo significado e funcionalidade que o código a seguir:\n",
    "\n",
    "```python\n",
    "prog01.py\n",
    "1 class MyClass():\n",
    "2 pass\n",
    "```\n",
    "\n",
    "Vamos definir uma classe personalizada e derivar outra classe dela da seguinte maneira:\n",
    "\n",
    "```python\n",
    "prog02.py\n",
    "1 class Person:\n",
    "2 pass\n",
    "3\n",
    "4\n",
    "5 class Employee:\n",
    "6 pass\n",
    "7\n",
    "8\n",
    "9 def main():\n",
    "10 print(issubclass(Employee, Person))\n",
    "11\n",
    "12\n",
    "13 if __name__ == \"__main__\":\n",
    "14 main()\n",
    "```\n"
   ]
  },
  {
   "cell_type": "code",
   "execution_count": 2,
   "metadata": {},
   "outputs": [
    {
     "name": "stdout",
     "output_type": "stream",
     "text": [
      "False\n"
     ]
    }
   ],
   "source": [
    "#prog02.py\n",
    "class Person:\n",
    "    pass\n",
    "\n",
    "class Employee:\n",
    "    pass\n",
    "\n",
    "def main():\n",
    "    print(issubclass(Employee, Person))\n",
    "    \n",
    "if __name__ == \"__main__\":\n",
    "    main()"
   ]
  },
  {
   "cell_type": "markdown",
   "metadata": {},
   "source": [
    "\n",
    "Execute o código acima. issubclass () retorna true se a classe mencionada no primeiro argumento é uma subclasse da classe mencionada no segundo argumento. O programa acima imprime falso. OOPS!\n",
    "Esquecemos de derivar Employee de Person. Vamos fazer isso modificando o código da seguinte maneira:\n",
    "\n",
    "```python\n",
    "prog02.py\n",
    "1 class Person:\n",
    "2 pass\n",
    "3\n",
    "4\n",
    "5 class Employee(Person):\n",
    "6 pass\n",
    "7\n",
    "8\n",
    "9 def main():\n",
    "10 print(issubclass(Employee, Person))\n",
    "11 print(issubclass(Person, object))\n",
    "12 print(issubclass(Employee, object))\n",
    "13\n",
    "14\n",
    "15 if __name__ == \"__main__\":\n",
    "16 main()\n",
    "```"
   ]
  },
  {
   "cell_type": "code",
   "execution_count": 3,
   "metadata": {},
   "outputs": [
    {
     "name": "stdout",
     "output_type": "stream",
     "text": [
      "True\n",
      "True\n",
      "True\n"
     ]
    }
   ],
   "source": [
    "#prog02.py\n",
    "\n",
    "class Person:\n",
    "    pass\n",
    "\n",
    "class Employee(Person):\n",
    "    pass\n",
    "\n",
    "def main():\n",
    "    print(issubclass(Employee, Person))\n",
    "    print(issubclass(Person, object))\n",
    "    print(issubclass(Employee, object))\n",
    "    \n",
    "if __name__ == \"__main__\":\n",
    "    main()"
   ]
  },
  {
   "cell_type": "markdown",
   "metadata": {},
   "source": [
    "Você deve ter notado que adicionamos mais duas instruções na função main (). Execute o código. Deve imprimir True três vezes."
   ]
  },
  {
   "cell_type": "markdown",
   "metadata": {},
   "source": [
    "## 4.2 Substituição de Método\n",
    "\n",
    "Vamos adicionar mais funcionalidades à classe Person. Modifique o módulo prog01.py da seguinte forma:\n",
    "\n",
    "```python\n",
    "#prog02.py\n",
    "1 class Person:\n",
    "2\n",
    "3 def __init__(self, first, last, age):\n",
    "4 self.firstname = first\n",
    "5 self.lastname = last\n",
    "6 self.age = age\n",
    "7\n",
    "8 def __str__(self):\n",
    "9 return self.firstname + \" \" + self.lastname + \", \" + str(self.age)\n",
    "10\n",
    "11\n",
    "12 class Employee(Person):\n",
    "13 pass\n",
    "14\n",
    "15\n",
    "16 def main():\n",
    "17 x = Person(\"Ashwin\", \"Pajankar\", 31)\n",
    "18 print(x)\n",
    "19\n",
    "20 if __name__ == \"__main__\":\n",
    "21 main()\n",
    "```"
   ]
  },
  {
   "cell_type": "code",
   "execution_count": 7,
   "metadata": {},
   "outputs": [
    {
     "name": "stdout",
     "output_type": "stream",
     "text": [
      "Renato Cruz, 36\n"
     ]
    }
   ],
   "source": [
    "#prog02.py\n",
    "class Person:\n",
    "    \n",
    "    def __init__(self, first, last, age):\n",
    "        self.firstname = first\n",
    "        self.lastname = last\n",
    "        self.age = age\n",
    "        \n",
    "    def __str__(self):\n",
    "        return self.firstname + \" \" + self.lastname + \", \" + str(self.age)\n",
    "    \n",
    "class Employee(Person):\n",
    "    pass\n",
    "\n",
    "def main():\n",
    "    x = Person('Renato', 'Cruz', 36)\n",
    "    print(x)\n",
    "    \n",
    "if __name__ == \"__main__\":\n",
    "    main()"
   ]
  },
  {
   "cell_type": "markdown",
   "metadata": {},
   "source": [
    "Agora, queremos definir o comportamento da classe Employee. Como o derivamos de Person, podemos reutilizar os métodos da classe Person para definir o comportamento de Employee da seguinte forma:\n",
    "\n",
    "```python\n",
    "prog02.py\n",
    "1 class Person:\n",
    "2\n",
    "3 def __init__(self, first, last, age):\n",
    "4 self.firstname = first\n",
    "5 self.lastname = last\n",
    "6 self.age = age\n",
    "7\n",
    "8 def __str__(self):\n",
    "9 return self.firstname + \" \" + self.lastname + \", \" + str(self.age)\n",
    "10\n",
    "11\n",
    "12 class Employee(Person):\n",
    "13 pass\n",
    "14\n",
    "15\n",
    "16 def main():\n",
    "17 x = Person(\"Ashwin\", \"Pajankar\", 31)\n",
    "18 print(x)\n",
    "19\n",
    "20 y = Employee(\"James\", \"Bond\", 32)\n",
    "21 print(y)\n",
    "22\n",
    "23 if __name__ == \"__main__\":\n",
    "24 main()\n",
    "```"
   ]
  },
  {
   "cell_type": "code",
   "execution_count": 6,
   "metadata": {},
   "outputs": [
    {
     "name": "stdout",
     "output_type": "stream",
     "text": [
      "Renato Cruz, 36\n",
      "Nina Simone, 60\n"
     ]
    }
   ],
   "source": [
    "#prog02.py\n",
    "class Person:\n",
    "    \n",
    "    def __init__(self, first, last, age):\n",
    "        self.firstname = first\n",
    "        self.lastname = last\n",
    "        self.age = age\n",
    "        \n",
    "    def __str__(self):\n",
    "        return self.firstname + \" \" + self.lastname + \", \" + str(self.age)\n",
    "    \n",
    "class Employee(Person):\n",
    "    pass\n",
    "\n",
    "def main():\n",
    "    x = Person('Renato', 'Cruz', 36)\n",
    "    print(x)\n",
    "    \n",
    "    y = Person('Nina', 'Simone', 60)\n",
    "    print(y)\n",
    "    \n",
    "if __name__ == \"__main__\":\n",
    "    main()"
   ]
  },
  {
   "cell_type": "markdown",
   "metadata": {},
   "source": [
    "Como você pode ver, a classe Employee herda o inicializador e o método __ str __ () da classe Person.\n",
    "\n",
    "No entanto, queremos adicionar outro atributo a Employee, empno. Também temos que mudar o comportamento do método __ str __ () de acordo. O código a seguir faz isso:\n",
    "\n",
    "```python\n",
    "prog02.py\n",
    "1 class Person:\n",
    "2\n",
    "3 def __init__(self, first, last, age):\n",
    "4 self.firstname = first\n",
    "5 self.lastname = last\n",
    "6 self.age = age\n",
    "7\n",
    "8 def __str__(self):\n",
    "9 return self.firstname + \" \" + self.lastname + \", \" + str(self.age)\n",
    "10\n",
    "11\n",
    "12 class Employee(Person):\n",
    "13 def __init__(self, first, last, age, empno):\n",
    "14 self.firstname = first\n",
    "15 self.lastname = last\n",
    "16 self.age = age\n",
    "17 self.empno = empno\n",
    "18\n",
    "19 def __str__(self):\n",
    "20 return self.firstname + \" \" + self.lastname + \", \" + str(self.age) + \", \\\n",
    "21 \" + str(self.empno)\n",
    "22\n",
    "23\n",
    "24 def main():\n",
    "25 x = Person(\"Ashwin\", \"Pajankar\", 31)\n",
    "26 print(x)\n",
    "27\n",
    "28 y = Employee(\"James\", \"Bond\", 32, 1007)\n",
    "29 print(y)\n",
    "30\n",
    "31 if __name__ == \"__main__\":\n",
    "32 main()\n",
    "```"
   ]
  },
  {
   "cell_type": "code",
   "execution_count": 10,
   "metadata": {},
   "outputs": [
    {
     "name": "stdout",
     "output_type": "stream",
     "text": [
      "Renato Cruz, 36\n",
      "Nina Simone, 60,         1007\n"
     ]
    }
   ],
   "source": [
    "#prog02.py\n",
    "\n",
    "class Person:\n",
    "    \n",
    "    def __init__(self, first, last, age):\n",
    "        self.firstname = first\n",
    "        self.lastname = last\n",
    "        self.age = age\n",
    "        \n",
    "    def __str__(self):\n",
    "        return self.firstname + \" \" + self.lastname + \", \" + str(self.age)\n",
    "    \n",
    "class Employee(Person):\n",
    "    \n",
    "    def __init__(self, first, last, age, empno):        \n",
    "        self.firstname = first\n",
    "        self.lastname = last\n",
    "        self.age = age\n",
    "        self.empno = empno\n",
    "            \n",
    "    def __str__(self):\n",
    "        return self.firstname + \" \" + self.lastname + \", \" + str(self.age) + \", \\\n",
    "        \" + str(self.empno)\n",
    "    \n",
    "\n",
    "def main():\n",
    "    x = Person('Renato', 'Cruz', 36)\n",
    "    print(x)\n",
    "    \n",
    "    y = Employee('Nina', 'Simone', 60, 1007)\n",
    "    print(y)\n",
    "    \n",
    "if __name__ == \"__main__\":\n",
    "    main()"
   ]
  },
  {
   "cell_type": "markdown",
   "metadata": {},
   "source": [
    "No código acima, estamos substituindo as definições dos métodos __ init __ () e __ str __ () de Person in Employee para atender às nossas necessidades. Execute o código e veja o resultado. Dessa forma, podemos substituir qualquer método da classe base na subclasse."
   ]
  },
  {
   "cell_type": "markdown",
   "metadata": {},
   "source": [
    "## 4.3 super ()\n",
    "\n",
    "No último exemplo, vimos como substituir os métodos da classe base na subclasse. Existe outra maneira de fazer isso. Veja o exemplo de código abaixo:\n",
    "\n",
    "```python\n",
    "prog02.py\n",
    "1 class Person:\n",
    "2\n",
    "3 def __init__(self, first, last, age):\n",
    "4 self.firstname = first\n",
    "5 self.lastname = last\n",
    "6 self.age = age\n",
    "7\n",
    "8 def __str__(self):\n",
    "9 return self.firstname + \" \" + self.lastname + \", \" + str(self.age)\n",
    "10\n",
    "11\n",
    "12 class Employee(Person):\n",
    "13 def __init__(self, first, last, age, empno):\n",
    "14 super().__init__(first, last, age)\n",
    "15 self.empno = empno\n",
    "16\n",
    "17 def __str__(self):\n",
    "18 return super().__str__() + \", \" + str(self.empno)\n",
    "19\n",
    "20\n",
    "21 def main():\n",
    "22 x = Person(\"Ashwin\", \"Pajankar\", 31)\n",
    "23 print(x)\n",
    "24\n",
    "25 y = Employee(\"James\", \"Bond\", 32, 1007)\n",
    "26 print(y)\n",
    "27\n",
    "28 if __name__ == \"__main__\":\n",
    "29 main()\n",
    "```"
   ]
  },
  {
   "cell_type": "code",
   "execution_count": 11,
   "metadata": {},
   "outputs": [
    {
     "name": "stdout",
     "output_type": "stream",
     "text": [
      "Renato Cruz, 36\n",
      "Nina Simone, 60,         1007\n"
     ]
    }
   ],
   "source": [
    "#prog02.py\n",
    "\n",
    "class Person:\n",
    "    \n",
    "    def __init__(self, first, last, age):\n",
    "        self.firstname = first\n",
    "        self.lastname = last\n",
    "        self.age = age\n",
    "        \n",
    "    def __str__(self):\n",
    "        return self.firstname + \" \" + self.lastname + \", \" + str(self.age)\n",
    "    \n",
    "class Employee(Person):\n",
    "    \n",
    "    def __init__(self, first, last, age, empno):        \n",
    "        super().__init__(first, last, age)\n",
    "        self.empno = empno\n",
    "            \n",
    "    def __str__(self):\n",
    "        return self.firstname + \" \" + self.lastname + \", \" + str(self.age) + \", \\\n",
    "        \" + str(self.empno)\n",
    "    \n",
    "\n",
    "def main():\n",
    "    x = Person('Renato', 'Cruz', 36)\n",
    "    print(x)\n",
    "    \n",
    "    y = Employee('Nina', 'Simone', 60, 1007)\n",
    "    print(y)\n",
    "    \n",
    "if __name__ == \"__main__\":\n",
    "    main()"
   ]
  },
  {
   "cell_type": "markdown",
   "metadata": {},
   "source": [
    "Como você pode ver, usamos super (). É um método especial que retorna o objeto como uma instância da classe base. Podemos usar super () em qualquer método. Como super retorna o objeto como uma instância da classe base, o código super (). <Method ()> chama o respectivo método da classe base. super () pode ser usado dentro de qualquer método de uma subclasse para invocar uma instância da classe pai como um objeto. Além disso, não precisa ser chamado na primeira linha da definição do método da subclasse. Pode ser chamado em qualquer lugar do corpo. Assim, também podemos escrever o método __ init __ () de Employee da seguinte forma:\n",
    "\n",
    "```python\n",
    "1 class Employee(Person):\n",
    "2 def __init__(self, first, last, age, empno):\n",
    "3 self.empno = empno\n",
    "4 super().__init__(first, last, age)\n",
    "5\n",
    "6 def __str__(self):\n",
    "7 return super().__str__() + \", \" + str(self.empno)\n",
    "```"
   ]
  },
  {
   "cell_type": "code",
   "execution_count": 20,
   "metadata": {},
   "outputs": [
    {
     "name": "stdout",
     "output_type": "stream",
     "text": [
      "Renato Cruz, 36\n"
     ]
    },
    {
     "ename": "TypeError",
     "evalue": "__init__() takes 4 positional arguments but 5 were given",
     "output_type": "error",
     "traceback": [
      "\u001b[1;31m---------------------------------------------------------------------------\u001b[0m",
      "\u001b[1;31mTypeError\u001b[0m                                 Traceback (most recent call last)",
      "\u001b[1;32m<ipython-input-20-a8109a12a447>\u001b[0m in \u001b[0;36m<module>\u001b[1;34m\u001b[0m\n\u001b[0;32m     28\u001b[0m \u001b[1;33m\u001b[0m\u001b[0m\n\u001b[0;32m     29\u001b[0m \u001b[1;32mif\u001b[0m \u001b[0m__name__\u001b[0m \u001b[1;33m==\u001b[0m \u001b[1;34m\"__main__\"\u001b[0m\u001b[1;33m:\u001b[0m\u001b[1;33m\u001b[0m\u001b[1;33m\u001b[0m\u001b[0m\n\u001b[1;32m---> 30\u001b[1;33m     \u001b[0mmain\u001b[0m\u001b[1;33m(\u001b[0m\u001b[1;33m)\u001b[0m\u001b[1;33m\u001b[0m\u001b[1;33m\u001b[0m\u001b[0m\n\u001b[0m",
      "\u001b[1;32m<ipython-input-20-a8109a12a447>\u001b[0m in \u001b[0;36mmain\u001b[1;34m()\u001b[0m\n\u001b[0;32m     24\u001b[0m     \u001b[0mprint\u001b[0m\u001b[1;33m(\u001b[0m\u001b[0mx\u001b[0m\u001b[1;33m)\u001b[0m\u001b[1;33m\u001b[0m\u001b[1;33m\u001b[0m\u001b[0m\n\u001b[0;32m     25\u001b[0m \u001b[1;33m\u001b[0m\u001b[0m\n\u001b[1;32m---> 26\u001b[1;33m     \u001b[0my\u001b[0m \u001b[1;33m=\u001b[0m \u001b[0mEmployee\u001b[0m\u001b[1;33m(\u001b[0m\u001b[1;34m'Nina'\u001b[0m\u001b[1;33m,\u001b[0m \u001b[1;34m'Simone'\u001b[0m\u001b[1;33m,\u001b[0m \u001b[1;36m60\u001b[0m\u001b[1;33m,\u001b[0m \u001b[1;36m1007\u001b[0m\u001b[1;33m)\u001b[0m\u001b[1;33m\u001b[0m\u001b[1;33m\u001b[0m\u001b[0m\n\u001b[0m\u001b[0;32m     27\u001b[0m     \u001b[0mprint\u001b[0m\u001b[1;33m(\u001b[0m\u001b[0my\u001b[0m\u001b[1;33m)\u001b[0m\u001b[1;33m\u001b[0m\u001b[1;33m\u001b[0m\u001b[0m\n\u001b[0;32m     28\u001b[0m \u001b[1;33m\u001b[0m\u001b[0m\n",
      "\u001b[1;31mTypeError\u001b[0m: __init__() takes 4 positional arguments but 5 were given"
     ]
    }
   ],
   "source": [
    "#prog02.py\n",
    "class Person:\n",
    "    \n",
    "    def __init__(self, first, last, age):\n",
    "        self.firstname = first\n",
    "        self.lastname = last\n",
    "        self.age = age\n",
    "        \n",
    "    def __str__(self):\n",
    "        return self.firstname + \" \" + self.lastname + \", \" + str(self.age)\n",
    "    \n",
    "class Employee(Person):\n",
    "    def __init__(self, last, age, empno):\n",
    "        self.empno = empno\n",
    "        super().__init__(first, last, age)\n",
    "        \n",
    "    def __str__(self):\n",
    "        return super().__str__() + \", \" + str(self.empno)\n",
    "    \n",
    "    \n",
    "def main():\n",
    "    x = Person('Renato', 'Cruz', 36)\n",
    "    print(x)\n",
    "    \n",
    "    y = Employee('Nina', 'Simone', 60, 1007)\n",
    "    print(y)\n",
    "    \n",
    "if __name__ == \"__main__\":\n",
    "    main()"
   ]
  },
  {
   "cell_type": "markdown",
   "metadata": {},
   "source": [
    "Ele produz exatamente a mesma saída."
   ]
  },
  {
   "cell_type": "code",
   "execution_count": null,
   "metadata": {},
   "outputs": [],
   "source": []
  }
 ],
 "metadata": {
  "kernelspec": {
   "display_name": "Python 3",
   "language": "python",
   "name": "python3"
  },
  "language_info": {
   "codemirror_mode": {
    "name": "ipython",
    "version": 3
   },
   "file_extension": ".py",
   "mimetype": "text/x-python",
   "name": "python",
   "nbconvert_exporter": "python",
   "pygments_lexer": "ipython3",
   "version": "3.8.5"
  }
 },
 "nbformat": 4,
 "nbformat_minor": 4
}
