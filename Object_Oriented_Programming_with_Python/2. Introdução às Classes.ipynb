{
 "cells": [
  {
   "cell_type": "markdown",
   "metadata": {},
   "source": [
    "# Programação Orientada a Objetos com Python\n",
    "\n",
    "Fundamentos de OOP com Python 3\n",
    "\n",
    "À venda em http://leanpub.com/PythonOOP\n",
    "\n",
    "© 2016 - 2017 Ashwin Pajankar e Sushant Garg"
   ]
  },
  {
   "cell_type": "markdown",
   "metadata": {},
   "source": [
    "## Introdução às Classes\n",
    "\n",
    "Neste caderno veremos:\n",
    "\n",
    "- como criar documentação embutida no arquivo de código Python com docstrings\n",
    "- membros de uma classe em detalhes"
   ]
  },
  {
   "cell_type": "markdown",
   "metadata": {},
   "source": [
    "### 2.1 Docstrings\n",
    "\n",
    "Pode-se fornecer documentação embutida para o código Python atráves de [docstrings](https://www.python.org/dev/peps/pep-0257/). \n",
    "\n",
    "As docstrings representam strings de documentação do Python. É a maneira mais conveniente e recomendada de fornecer documentação para os desenvolvedores de código. \n",
    "\n",
    "A seguir está um exemplo simples de docstring:"
   ]
  },
  {
   "cell_type": "code",
   "execution_count": 1,
   "metadata": {},
   "outputs": [
    {
     "name": "stdout",
     "output_type": "stream",
     "text": [
      "This class represent the data-structure Point.\n"
     ]
    }
   ],
   "source": [
    "# Este é o exemplo DocString\n",
    "\n",
    "class Point:\n",
    "    'This class represent the data-structure Point.'\n",
    "    pass\n",
    "\n",
    "p1 = Point()\n",
    "\n",
    "print(p1.__doc__)"
   ]
  },
  {
   "cell_type": "code",
   "execution_count": 2,
   "metadata": {},
   "outputs": [
    {
     "name": "stdout",
     "output_type": "stream",
     "text": [
      "Help on Point in module __main__ object:\n",
      "\n",
      "class Point(builtins.object)\n",
      " |  This class represent the data-structure Point.\n",
      " |  \n",
      " |  Data descriptors defined here:\n",
      " |  \n",
      " |  __dict__\n",
      " |      dictionary for instance variables (if defined)\n",
      " |  \n",
      " |  __weakref__\n",
      " |      list of weak references to the object (if defined)\n",
      "\n",
      "None\n"
     ]
    }
   ],
   "source": [
    "print(help(p1))"
   ]
  },
  {
   "cell_type": "markdown",
   "metadata": {},
   "source": [
    "Podemos usar a rotina .__ doc__ embutida para imprimir os docstrings, quando disponível. Também podemos usar a função help() para exibir as docstrings, quando disponíveis."
   ]
  },
  {
   "cell_type": "markdown",
   "metadata": {},
   "source": [
    "### 2.2 Adicionando atributos à classe\n",
    "\n",
    "Se você estiver familiarizado com Java ou C ++, declaramos a variável de classe na definição da classe. Em Python, não existe declaração de variável. Podemos adicionar os atributos à classe Point adicionando uma variável para cada coordenada da seguinte maneira."
   ]
  },
  {
   "cell_type": "code",
   "execution_count": 9,
   "metadata": {},
   "outputs": [
    {
     "name": "stdout",
     "output_type": "stream",
     "text": [
      "1 2 3\n"
     ]
    }
   ],
   "source": [
    "# Adicionando uma variável para cada coordenada da Point\n",
    "\n",
    "class Point:\n",
    "    'This class represent the data-structure Point.'\n",
    "    pass\n",
    "\n",
    "p1.x = 1\n",
    "p1.y = 2\n",
    "p1.z = 3\n",
    "\n",
    "print(p1.x, p1.y, p1.z)"
   ]
  },
  {
   "cell_type": "markdown",
   "metadata": {},
   "source": [
    "### 2.3 Adicionando um método à classe\n",
    "\n",
    "Podemos adicionar comportamentos à classe adicionando métodos à classe. A seguir um exemplo da classe Point com métodos personalizados assign() e printPoint()"
   ]
  },
  {
   "cell_type": "code",
   "execution_count": 10,
   "metadata": {},
   "outputs": [],
   "source": [
    "# Adicionando métodos à classe Point\n",
    "\n",
    "class Point:\n",
    "    'This class represent the data-structure Point'\n",
    "    \n",
    "    def assign(self, x, y, z):\n",
    "        'This assigns the value to the coordinates'\n",
    "        self.x = x\n",
    "        self.y = y\n",
    "        self.z = z\n",
    "        \n",
    "    def printPoint(self):\n",
    "        'This prints the values of coordinates'\n",
    "        print(self.x, self.y, self.z)"
   ]
  },
  {
   "cell_type": "code",
   "execution_count": 11,
   "metadata": {},
   "outputs": [],
   "source": [
    "# Instaciando a classe Point\n",
    "\n",
    "p1 = Point()"
   ]
  },
  {
   "cell_type": "code",
   "execution_count": 12,
   "metadata": {},
   "outputs": [
    {
     "name": "stdout",
     "output_type": "stream",
     "text": [
      "1 2 3\n"
     ]
    }
   ],
   "source": [
    "# Testando os métodos criados\n",
    "\n",
    "p1.assign(1, 2, 3)  # Este método atribui valores às coordenadas\n",
    "p1.printPoint()     # Este método imprime os valores das coordenadas"
   ]
  },
  {
   "cell_type": "markdown",
   "metadata": {},
   "source": [
    "Como podemos notar, a declaração do método não é muito diferente de uma declaração de função. A principal diferença é que é obrigatório ter um parâmetro de autorreferência denominado **self**. \n",
    "\n",
    "A outra diferença entre uma função e um método é que um método está sempre associado a uma classe. No código acima, o método assign() atribui valores às coordenadas e printPoint() imprime os valores das coordenadas do ponto."
   ]
  },
  {
   "cell_type": "markdown",
   "metadata": {},
   "source": [
    "### 2.4 Método inicializador\n",
    "\n",
    "Existe um método especial em Python para inicializar objetos. É __ init__. Podemos usá-lo para atribuir valores às variáveis de atributo do objeto. A seguir um exemplo disso."
   ]
  },
  {
   "cell_type": "code",
   "execution_count": 13,
   "metadata": {},
   "outputs": [],
   "source": [
    "# Adicionando o método inicializador à classe Point\n",
    "\n",
    "class Point:\n",
    "    'This class represent the data-structure Point'\n",
    "    \n",
    "    def __init__(self, x, y, z):\n",
    "        'The initializer'\n",
    "        self.assign(x, y, z)\n",
    "    \n",
    "    def assign(self, x, y, z):\n",
    "        'This assigns the value to the coordinates'\n",
    "        self.x = x\n",
    "        self.y = y\n",
    "        self.z = z\n",
    "        \n",
    "    def printPoint(self):\n",
    "        'This prints the values of coordinates'\n",
    "        print(self.x, self.y, self.z)"
   ]
  },
  {
   "cell_type": "code",
   "execution_count": 29,
   "metadata": {},
   "outputs": [],
   "source": [
    "# Instaciando a classe Point\n",
    "\n",
    "p2 = Point(1, 2, 6)"
   ]
  },
  {
   "cell_type": "code",
   "execution_count": 32,
   "metadata": {},
   "outputs": [
    {
     "name": "stdout",
     "output_type": "stream",
     "text": [
      "1 2 6\n"
     ]
    }
   ],
   "source": [
    "# Testando os métodos criados\n",
    "\n",
    "p2.assign(1, 2, 6)  # Este método atribui valores às coordenadas\n",
    "p2.printPoint()     # Este método imprime os valores das coordenadas"
   ]
  },
  {
   "cell_type": "markdown",
   "metadata": {},
   "source": [
    "### 2.5 Docstrings multilinha em Python\n",
    "\n",
    "Vejamos um exemplo de docstrings multilinhas em Python. Docstrings multilinhas são usados para espalhar as docstrings em várias linhas. A seguir está um exemplo de uma docstring de várias linhas."
   ]
  },
  {
   "cell_type": "code",
   "execution_count": 18,
   "metadata": {},
   "outputs": [],
   "source": [
    "# Adicionando docstrings multilinha à classe Point\n",
    "\n",
    "class Point:\n",
    "    \"\"\"This class represent the data-structure Point\n",
    "    This is an example of the multiline docstring...\n",
    "    \"\"\"\n",
    "        \n",
    "    def __init__(self, x, y, z):\n",
    "        '''The initializer ---\n",
    "        This initializes the object with the passed arguments\n",
    "        '''\n",
    "        self.assign(x, y, z)\n",
    "    \n",
    "    def assign(self, x, y, z):\n",
    "        'This assigns the value to the coordinates'\n",
    "        self.x = x\n",
    "        self.y = y\n",
    "        self.z = z\n",
    "        \n",
    "    def printPoint(self):\n",
    "        'This prints the values of coordinates'\n",
    "        print(self.x, self.y, self.z)"
   ]
  },
  {
   "cell_type": "code",
   "execution_count": 25,
   "metadata": {},
   "outputs": [],
   "source": [
    "# Instaciando a classe Point\n",
    "\n",
    "p3 = Point(1, 2, 5)"
   ]
  },
  {
   "cell_type": "markdown",
   "metadata": {},
   "source": [
    "#### Exercício: No exemplo acima, adicione o código para exibir as docstrings."
   ]
  },
  {
   "cell_type": "code",
   "execution_count": 34,
   "metadata": {},
   "outputs": [
    {
     "name": "stdout",
     "output_type": "stream",
     "text": [
      "This class represent the data-structure Point\n",
      "    This is an example of the multiline docstring...\n",
      "    \n"
     ]
    }
   ],
   "source": [
    "# testando docstrings multilinhas\n",
    "\n",
    "print(p3.__doc__)"
   ]
  },
  {
   "cell_type": "code",
   "execution_count": 35,
   "metadata": {},
   "outputs": [
    {
     "name": "stdout",
     "output_type": "stream",
     "text": [
      "Help on Point in module __main__ object:\n",
      "\n",
      "class Point(builtins.object)\n",
      " |  Point(x, y, z)\n",
      " |  \n",
      " |  This class represent the data-structure Point\n",
      " |  This is an example of the multiline docstring...\n",
      " |  \n",
      " |  Methods defined here:\n",
      " |  \n",
      " |  __init__(self, x, y, z)\n",
      " |      The initializer ---\n",
      " |      This initializes the object with the passed arguments\n",
      " |  \n",
      " |  assign(self, x, y, z)\n",
      " |      This assigns the value to the coordinates\n",
      " |  \n",
      " |  printPoint(self)\n",
      " |      This prints the values of coordinates\n",
      " |  \n",
      " |  ----------------------------------------------------------------------\n",
      " |  Data descriptors defined here:\n",
      " |  \n",
      " |  __dict__\n",
      " |      dictionary for instance variables (if defined)\n",
      " |  \n",
      " |  __weakref__\n",
      " |      list of weak references to the object (if defined)\n",
      "\n",
      "None\n"
     ]
    }
   ],
   "source": [
    "# testando docstrings multilinhas\n",
    "\n",
    "print(help(p3))"
   ]
  },
  {
   "cell_type": "code",
   "execution_count": null,
   "metadata": {},
   "outputs": [],
   "source": []
  }
 ],
 "metadata": {
  "kernelspec": {
   "display_name": "Python 3",
   "language": "python",
   "name": "python3"
  },
  "language_info": {
   "codemirror_mode": {
    "name": "ipython",
    "version": 3
   },
   "file_extension": ".py",
   "mimetype": "text/x-python",
   "name": "python",
   "nbconvert_exporter": "python",
   "pygments_lexer": "ipython3",
   "version": "3.8.5"
  }
 },
 "nbformat": 4,
 "nbformat_minor": 4
}
