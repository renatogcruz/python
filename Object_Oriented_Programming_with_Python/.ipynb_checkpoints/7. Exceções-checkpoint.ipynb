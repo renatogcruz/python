{
 "cells": [
  {
   "cell_type": "markdown",
   "metadata": {},
   "source": [
    "# Programação Orientada a Objetos com Python\n",
    "\n",
    "Fundamentos de OOP com Python 3\n",
    "\n",
    "À venda em http://leanpub.com/PythonOOP\n",
    "\n",
    "© 2016 - 2017 Ashwin Pajankar e Sushant Garg"
   ]
  },
  {
   "cell_type": "markdown",
   "metadata": {},
   "source": [
    "## 7. Exceções\n",
    "\n",
    "Quando escrevemos os programas em Python (ou qualquer linguagem de programação, nesse caso), normalmente não acertamos na primeira vez. É onde os termos Erros e Exceções entram em discussão. Neste capítulo, vamos começar com Erros e exceções em Python."
   ]
  },
  {
   "cell_type": "markdown",
   "metadata": {},
   "source": [
    "### 7.1 Erros de sintaxe\n",
    "\n",
    "Quando cometemos erros na sintaxe do código, eles são conhecidos como erros de sintaxe / análise. Considere o resultado da execução da instrução print (\"Hello) no modo interpretador:\n",
    "\n",
    "```python\n",
    "1 >>> print(\"Hello)\n",
    "2\n",
    "3\n",
    "4\n",
    "5 SyntaxError: EOL while scanning string literal\n",
    "```\n",
    "\n",
    "Na instrução print () acima, esquecemos de adicionar \" após a string Hello. Este é um erro de sintaxe. Portanto, o interpretador Python destacou o motivo de lançar SyntaxError."
   ]
  },
  {
   "cell_type": "code",
   "execution_count": 1,
   "metadata": {},
   "outputs": [
    {
     "ename": "SyntaxError",
     "evalue": "EOL while scanning string literal (<ipython-input-1-865f94abc3fd>, line 3)",
     "output_type": "error",
     "traceback": [
      "\u001b[1;36m  File \u001b[1;32m\"<ipython-input-1-865f94abc3fd>\"\u001b[1;36m, line \u001b[1;32m3\u001b[0m\n\u001b[1;33m    print(\"Hello)\u001b[0m\n\u001b[1;37m                 ^\u001b[0m\n\u001b[1;31mSyntaxError\u001b[0m\u001b[1;31m:\u001b[0m EOL while scanning string literal\n"
     ]
    }
   ],
   "source": [
    "# testando erro de sintaxe\n",
    "\n",
    "print(\"Hello)"
   ]
  },
  {
   "cell_type": "markdown",
   "metadata": {},
   "source": [
    "### 7.2 Exceções\n",
    "\n",
    "Dizemos que os erros de sintaxe / análise são tratados com SyntaxError. Mesmo que uma instrução esteja correta na sintaxe, ela pode encontrar um erro (que não está relacionado à sintaxe) durante a execução. Os erros detectados durante a execução são chamados de exceções.\n",
    "\n",
    "Considere as seguintes declarações e suas execuções no intérprete:\n",
    "\n",
    "```python\n",
    "1 >>> 1/0\n",
    "2\n",
    "3 Traceback (most recent call last):\n",
    "4\n",
    "5 File \"<pyshell#0>\", line 1, in <module>\n",
    "6\n",
    "7 1/0\n",
    "8\n",
    "9 ZeroDivisionError: division by zero\n",
    "10\n",
    "11 >>> '1' + 1\n",
    "12\n",
    "13 Traceback (most recent call last):\n",
    "14\n",
    "15 File \"<pyshell#1>\", line 1, in <module>\n",
    "16\n",
    "17 '1' + 1\n",
    "18\n",
    "19 TypeError: must be str, not int\n",
    "20\n",
    "21 >>> a = 8 + b\n",
    "22\n",
    "23 Traceback (most recent call last):\n",
    "24\n",
    "25 File \"<pyshell#2>\", line 1, in <module>\n",
    "26\n",
    "27 a = 8 + b\n",
    "28\n",
    "29 NameError: name 'b' is not defined\n",
    "```\n",
    "\n",
    "A última linha da saída da execução de cada instrução mostra o que há de errado na instrução. Isso demonstra que uma exceção é gerada implicitamente sempre que ocorre um erro durante a execução.\n",
    "\n",
    "As exceções definidas na biblioteca Python são conhecidas como exceções integradas. Este [link](https://docs.python.org/3/library/exceptions.html#bltin-exceptions) contém uma lista de todos eles."
   ]
  },
  {
   "cell_type": "markdown",
   "metadata": {},
   "source": [
    "## 7.3 Manipulação de exceções\n",
    "\n",
    "Agora sabemos que o interpretador levanta automaticamente uma exceção quando um erro é encontrado durante o tempo de execução. Considere o seguinte trecho de código:\n",
    "\n",
    "```python\n",
    "1 def main():\n",
    "2\n",
    "3 a = 1/0\n",
    "4\n",
    "5 print(\"DEBUG: We are here...\")\n",
    "6\n",
    "7 if __name__ == \"__main__\":\n",
    "8\n",
    "9 main()\n",
    "```\n",
    "\n",
    "Quando o executamos, podemos notar que o interpretador encontra uma exceção na linha a = 1/0.\n",
    "\n",
    "Depois que essa exceção é encontrada, ele não executa as instruções que seguem a instrução em que a exceção foi encontrada. É assim que as exceções são tratadas por padrão no Python.\n",
    "\n",
    "No entanto, Python tem uma melhor provisão para lidar com as exceções. Podemos incluir o código em um bloco try, onde provavelmente encontraremos uma exceção e a lógica para tratá-la no bloco except como segue:\n",
    "\n",
    "```python\n",
    "#prog02.py\n",
    "1 def main():\n",
    "2\n",
    "3 try:\n",
    "4\n",
    "5 a = 1/0\n",
    "6\n",
    "7 print(\"DEBUG: We are here...\")\n",
    "8\n",
    "9 except Exception:\n",
    "10\n",
    "11 print(\"Exception Occured\")\n",
    "12\n",
    "13 if __name__ == \"__main__\":\n",
    "14\n",
    "15 main()\n",
    "```\n",
    "\n",
    "Execute o código e ele invocará o bloco except quando uma exceção for encontrada, em vez de encerrar abruptamente. Observe que o código após a instrução em que ocorreu a exceção não é executado."
   ]
  },
  {
   "cell_type": "code",
   "execution_count": 2,
   "metadata": {},
   "outputs": [
    {
     "name": "stdout",
     "output_type": "stream",
     "text": [
      "Exception Occured\n"
     ]
    }
   ],
   "source": [
    "# prog02.py\n",
    "\n",
    "def main():\n",
    "    try:\n",
    "        a = 1/0\n",
    "        print('DEBUG: We are here...')\n",
    "    except Exception:\n",
    "        print('Exception Occured')\n",
    "        \n",
    "if __name__ == \"__main__\":\n",
    "    main()"
   ]
  },
  {
   "cell_type": "markdown",
   "metadata": {},
   "source": [
    "No bloco except, Exception é a classe base para todas as exceções integradas em Python. Em partes posteriores do capítulo, também estudaremos as exceções definidas pelo usuário que serão derivadas da classe Exception.\n",
    "Vamos modificar o código um pouco e adicionar mais código à função main () que não faz parte dos blocos try ou except:\n",
    "\n",
    "```python\n",
    "prog02.py\n",
    "1 def main():\n",
    "2\n",
    "3 try:\n",
    "4\n",
    "5 a = 1/0\n",
    "6\n",
    "7 print(\"DEBUG: This line will not be executed...\")\n",
    "8\n",
    "9 except Exception:\n",
    "10\n",
    "11 print(\"Exception Occured\")\n",
    "12\n",
    "13 print(\"This line will be executed...\")\n",
    "14\n",
    "15 if __name__ == \"__main__\":\n",
    "16\n",
    "17 main()\n",
    "```\n",
    "\n",
    "Quando executado, você notará que a linha fora do bloco try e except é executada apesar da exceção ser encontrada."
   ]
  },
  {
   "cell_type": "code",
   "execution_count": 3,
   "metadata": {},
   "outputs": [
    {
     "name": "stdout",
     "output_type": "stream",
     "text": [
      "Exception Occured\n",
      "This line will be executed...\n"
     ]
    }
   ],
   "source": [
    "# prog02.py\n",
    "\n",
    "def main():\n",
    "    try:\n",
    "        a = 1/0\n",
    "        print('DEBUG: We are here...')\n",
    "    except Exception:\n",
    "        print('Exception Occured')\n",
    "        print('This line will be executed...')\n",
    "        \n",
    "if __name__ == \"__main__\":\n",
    "    main()"
   ]
  },
  {
   "cell_type": "markdown",
   "metadata": {},
   "source": [
    "#### 7.3.1 Tratamento de exceções por tipos\n",
    "\n",
    "Quando executamos um programa, podemos encontrar exceções de vários tipos. Podemos ter a disposição de lidar com vários tipos diferentes de exceções. Um exemplo simples é o seguinte:\n",
    "\n",
    "```python\n",
    "prog02.py\n",
    "1 def main():\n",
    "2\n",
    "3 try:\n",
    "4\n",
    "5 a = 1/0\n",
    "6\n",
    "7 print(\"DEBUG: This line will not be executed...\")\n",
    "8\n",
    "9 except ZeroDivisionError as err:\n",
    "10\n",
    "11 print(\"Error: {0}\".format(err))\n",
    "12\n",
    "13 except TypeError as err:\n",
    "14\n",
    "15 print(\"Error: {0}\".format(err))\n",
    "16\n",
    "17 except Exception as err:\n",
    "18\n",
    "19 print(\"Error: {0}\".format(err))\n",
    "20\n",
    "21 print(\"This line will be executed...\")\n",
    "22\n",
    "23 if __name__ == \"__main__\":\n",
    "24\n",
    "25 main()\n",
    "```\n"
   ]
  },
  {
   "cell_type": "code",
   "execution_count": 4,
   "metadata": {},
   "outputs": [
    {
     "name": "stdout",
     "output_type": "stream",
     "text": [
      "Error: division by zero\n"
     ]
    }
   ],
   "source": [
    "# prog02.py\n",
    "\n",
    "def main():\n",
    "    try:\n",
    "        a = 1/0\n",
    "        print('DEBUG: This line will not be executed......')\n",
    "    except ZeroDivisionError as err:\n",
    "        print(\"Error: {0}\".format(err))\n",
    "    except TypeError as err:\n",
    "        print(\"Error: {0}\".format(err))\n",
    "    except Exception as err:\n",
    "        print(\"Error: {0}\".format(err))\n",
    "        \n",
    "if __name__ == \"__main__\":\n",
    "    main()"
   ]
  },
  {
   "cell_type": "markdown",
   "metadata": {},
   "source": [
    "No código acima, temos blocos de exceção para manipular ZeroDivisionError e TypeError. Se qualquer outra exceção inesperada for encontrada, ela será tratada pelo último bloco exceto, que é um bloco manipulador de exceção genérico. Observe que o bloco genérico deve ser sempre o último, exceto o bloco (conforme mostrado no código acima). Se for o primeiro, exceto bloco, então sempre que qualquer exceção for encontrada, o bloco genérico de tratamento de exceção será executado sempre. Isso ocorre porque a classe Exception é a classe base para todas as exceções e tem precedência."
   ]
  },
  {
   "cell_type": "markdown",
   "metadata": {},
   "source": [
    "### Exercício\n",
    "\n",
    "Reescreva o programa acima com except Exception como o primeiro bloco de tratamento de exceções.\n",
    "\n",
    "\n",
    "\n",
    "Como sabemos, tudo é um objeto em python. SyntaxError também é um tipo de exceção.\n",
    "\n",
    "Este é um tipo especial de exceção que não pode ser tratado no bloco except."
   ]
  },
  {
   "cell_type": "markdown",
   "metadata": {},
   "source": [
    "# 7.4 else block\n",
    "\n",
    "Podemos adicionar um bloco else ao código após o bloco except. Se algum erro não for encontrado no bloco try, então o bloco else é executado. O programa a seguir demonstra isso:\n",
    "\n",
    "```python\n",
    "prog02.py\n",
    "1 def main():\n",
    "2\n",
    "3 try:\n",
    "4\n",
    "5 a = 1/1\n",
    "6\n",
    "7 except ZeroDivisionError as err:\n",
    "8\n",
    "9 print(\"Error: {0}\".format(err))\n",
    "10\n",
    "11 except TypeError as err:\n",
    "12\n",
    "13 print(\"Error: {0}\".format(err))\n",
    "14\n",
    "15 except Exception as err:\n",
    "16\n",
    "17 print(\"Error: {0}\".format(err))\n",
    "18\n",
    "19 else:\n",
    "20\n",
    "21 print(\"This line will be executed...\")\n",
    "22\n",
    "23 if __name__ == \"__main__\":\n",
    "24\n",
    "25 main()\n",
    "```\n"
   ]
  },
  {
   "cell_type": "code",
   "execution_count": 5,
   "metadata": {},
   "outputs": [
    {
     "name": "stdout",
     "output_type": "stream",
     "text": [
      "DEBUG: This line will not be executed......\n",
      "This line will be executed...\n"
     ]
    }
   ],
   "source": [
    "# prog02.py\n",
    "\n",
    "def main():\n",
    "    try:\n",
    "        a = 1/1\n",
    "        print('DEBUG: This line will not be executed......')\n",
    "    except ZeroDivisionError as err:\n",
    "        print(\"Error: {0}\".format(err))\n",
    "    except TypeError as err:\n",
    "        print(\"Error: {0}\".format(err))\n",
    "    except Exception as err:\n",
    "        print(\"Error: {0}\".format(err))\n",
    "    else:\n",
    "        print(\"This line will be executed...\")\n",
    "        \n",
    "if __name__ == \"__main__\":\n",
    "    main()"
   ]
  },
  {
   "cell_type": "markdown",
   "metadata": {},
   "source": [
    "### 7.5 Levantando uma exceção\n",
    "\n",
    "Sabemos que uma exceção é gerada automaticamente quando há um erro de tempo de execução. Podemos levantar uma exceção de forma explícita e deliberada usando a instrução raise. O código a seguir demonstra que:\n",
    "\n",
    "```python\n",
    "prog03.py\n",
    "1 def main():\n",
    "2\n",
    "3 try:\n",
    "4\n",
    "5 raise Exception(\"Exception has been raised!\")\n",
    "6\n",
    "7 except Exception as err:\n",
    "8\n",
    "9 print(\"Error: {0}\".format(err))\n",
    "10\n",
    "11 else:\n",
    "12\n",
    "13 print(\"This line will be executed...\")\n",
    "14\n",
    "15 if __name__ == \"__main__\":\n",
    "16\n",
    "17 main()\n",
    "```\n",
    "\n"
   ]
  },
  {
   "cell_type": "code",
   "execution_count": 6,
   "metadata": {},
   "outputs": [
    {
     "name": "stdout",
     "output_type": "stream",
     "text": [
      "Error: Exception has been raised!\n"
     ]
    }
   ],
   "source": [
    "# prog03.py\n",
    "\n",
    "def main():\n",
    "    try:\n",
    "        raise Exception(\"Exception has been raised!\")\n",
    "    except Exception as err:\n",
    "        print(\"Error: {0}\".format(err))\n",
    "    else:\n",
    "        print(\"This line will be executed...\")\n",
    "    \n",
    "if __name__ == \"__main__\":\n",
    "    main()        "
   ]
  },
  {
   "cell_type": "markdown",
   "metadata": {},
   "source": [
    "### 7.6 cláusula final\n",
    "\n",
    "finalmente é uma cláusula para a instrução try, que é sempre executada na saída. Isso significa que é essencialmente a Cláusula de Limpeza. É sempre executado no final da cláusula try, independentemente de ter ocorrido uma exceção na instrução try. Se alguma exceção não for tratada no bloco except, então ela será novamente levantada em finally. A seguir está o exemplo do mesmo:\n",
    "\n",
    "```python\n",
    "prog04.py\n",
    "1 def divide(x, y):\n",
    "2\n",
    "3 try:\n",
    "4\n",
    "5 result = x / y\n",
    "6\n",
    "7 except ZeroDivisionError:\n",
    "8\n",
    "9 print(\"division by zero!\")\n",
    "10\n",
    "11 else:\n",
    "12\n",
    "13 print(\"result is\", result)\n",
    "14\n",
    "15 finally:\n",
    "16\n",
    "17 print(\"executing finally clause\")\n",
    "18\n",
    "19 def main():\n",
    "20\n",
    "21 divide(2, 1)\n",
    "22\n",
    "23 divide(\"2\", \"1\")\n",
    "24\n",
    "25 if __name__ == \"__main__\":\n",
    "26\n",
    "27 main()\n",
    "```"
   ]
  },
  {
   "cell_type": "code",
   "execution_count": 7,
   "metadata": {},
   "outputs": [
    {
     "ename": "TypeError",
     "evalue": "divide() takes 0 positional arguments but 2 were given",
     "output_type": "error",
     "traceback": [
      "\u001b[1;31m---------------------------------------------------------------------------\u001b[0m",
      "\u001b[1;31mTypeError\u001b[0m                                 Traceback (most recent call last)",
      "\u001b[1;32m<ipython-input-7-bf0f557dec76>\u001b[0m in \u001b[0;36m<module>\u001b[1;34m\u001b[0m\n\u001b[0;32m     18\u001b[0m \u001b[1;33m\u001b[0m\u001b[0m\n\u001b[0;32m     19\u001b[0m \u001b[1;32mif\u001b[0m \u001b[0m__name__\u001b[0m \u001b[1;33m==\u001b[0m \u001b[1;34m\"__main__\"\u001b[0m\u001b[1;33m:\u001b[0m\u001b[1;33m\u001b[0m\u001b[1;33m\u001b[0m\u001b[0m\n\u001b[1;32m---> 20\u001b[1;33m     \u001b[0mmain\u001b[0m\u001b[1;33m(\u001b[0m\u001b[1;33m)\u001b[0m\u001b[1;33m\u001b[0m\u001b[1;33m\u001b[0m\u001b[0m\n\u001b[0m\u001b[0;32m     21\u001b[0m \u001b[1;33m\u001b[0m\u001b[0m\n",
      "\u001b[1;32m<ipython-input-7-bf0f557dec76>\u001b[0m in \u001b[0;36mmain\u001b[1;34m()\u001b[0m\n\u001b[0;32m     12\u001b[0m \u001b[1;33m\u001b[0m\u001b[0m\n\u001b[0;32m     13\u001b[0m \u001b[1;32mdef\u001b[0m \u001b[0mmain\u001b[0m\u001b[1;33m(\u001b[0m\u001b[1;33m)\u001b[0m\u001b[1;33m:\u001b[0m\u001b[1;33m\u001b[0m\u001b[1;33m\u001b[0m\u001b[0m\n\u001b[1;32m---> 14\u001b[1;33m     \u001b[0mdivide\u001b[0m\u001b[1;33m(\u001b[0m\u001b[1;36m2\u001b[0m\u001b[1;33m,\u001b[0m \u001b[1;36m1\u001b[0m\u001b[1;33m)\u001b[0m\u001b[1;33m\u001b[0m\u001b[1;33m\u001b[0m\u001b[0m\n\u001b[0m\u001b[0;32m     15\u001b[0m \u001b[1;33m\u001b[0m\u001b[0m\n\u001b[0;32m     16\u001b[0m     \u001b[0mdivide\u001b[0m\u001b[1;33m(\u001b[0m\u001b[1;34m\"2\"\u001b[0m\u001b[1;33m,\u001b[0m \u001b[1;34m\"1\"\u001b[0m\u001b[1;33m)\u001b[0m\u001b[1;33m\u001b[0m\u001b[1;33m\u001b[0m\u001b[0m\n",
      "\u001b[1;31mTypeError\u001b[0m: divide() takes 0 positional arguments but 2 were given"
     ]
    }
   ],
   "source": [
    "# prog04.py\n",
    "\n",
    "def divide():\n",
    "    try:\n",
    "        result = x / y\n",
    "        \n",
    "    except ZeroDivisionError:\n",
    "        print(\"division by zero!\")\n",
    "        \n",
    "    else:\n",
    "        print(\"result is\", result)\n",
    "        \n",
    "    finally:\n",
    "        print(\"executing finally clause\")\n",
    "        \n",
    "def main():\n",
    "    \n",
    "    divide(2, 1)\n",
    "    \n",
    "    divide(\"2\", \"1\")\n",
    "    \n",
    "\n",
    "if __name__ == \"__main__\":\n",
    "    \n",
    "    main()           \n",
    "            "
   ]
  },
  {
   "cell_type": "markdown",
   "metadata": {},
   "source": [
    "### 7.7 Exceções definidas pelo usuário\n",
    "\n",
    "Podemos definir nossa própria exceção derivada da classe Exception. Normalmente em um módulo, definimos uma única classe base derivada de Exception e derivamos todas as outras exceções classificadas a partir dela. O exemplo disso é mostrado abaixo:\n",
    "\n",
    "```python\n",
    "prog05.py\n",
    "1 class Error(Exception):\n",
    "2\n",
    "3 pass\n",
    "4\n",
    "5 class ValueTooSmallError(Error):\n",
    "6\n",
    "7 pass\n",
    "8\n",
    "9 class ValueTooLargeError(Error):\n",
    "10\n",
    "11 pass\n",
    "12\n",
    "13 def main():\n",
    "14\n",
    "15 number = 10\n",
    "16\n",
    "17 try:\n",
    "18\n",
    "19 i_num = int(input(\"Enter a number: \"))\n",
    "20\n",
    "21 if i_num < number:\n",
    "22\n",
    "23 raise ValueTooSmallError\n",
    "24\n",
    "25 elif i_num > number:\n",
    "26\n",
    "27 raise ValueTooLargeError\n",
    "28\n",
    "29 else:\n",
    "30\n",
    "31 print(\"Perfect!\")\n",
    "32\n",
    "33 except ValueTooSmallError:\n",
    "34\n",
    "35 print(\"This value is too small!\")\n",
    "Exceptions 62\n",
    "36\n",
    "37 except ValueTooLargeError:\n",
    "38\n",
    "39 print(\"This value is too large!\")\n",
    "40\n",
    "41 if __name__ == \"__main__\":\n",
    "42\n",
    "43 main()\n",
    "```"
   ]
  },
  {
   "cell_type": "code",
   "execution_count": null,
   "metadata": {},
   "outputs": [],
   "source": []
  },
  {
   "cell_type": "markdown",
   "metadata": {},
   "source": [
    "Execute o programa acima e veja o resultado. No programa acima, a classe Error é herdada da classe interna Exception. Então, herdamos mais subclasses da classe Error."
   ]
  },
  {
   "cell_type": "code",
   "execution_count": null,
   "metadata": {},
   "outputs": [],
   "source": []
  }
 ],
 "metadata": {
  "kernelspec": {
   "display_name": "Python 3",
   "language": "python",
   "name": "python3"
  },
  "language_info": {
   "codemirror_mode": {
    "name": "ipython",
    "version": 3
   },
   "file_extension": ".py",
   "mimetype": "text/x-python",
   "name": "python",
   "nbconvert_exporter": "python",
   "pygments_lexer": "ipython3",
   "version": "3.8.5"
  }
 },
 "nbformat": 4,
 "nbformat_minor": 4
}
