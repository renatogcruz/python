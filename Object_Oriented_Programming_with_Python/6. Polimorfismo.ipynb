{
 "cells": [
  {
   "cell_type": "markdown",
   "metadata": {},
   "source": [
    "# Programação Orientada a Objetos com Python\n",
    "\n",
    "Fundamentos de OOP com Python 3\n",
    "\n",
    "À venda em http://leanpub.com/PythonOOP\n",
    "\n",
    "© 2016 - 2017 Ashwin Pajankar e Sushant Garg"
   ]
  },
  {
   "cell_type": "markdown",
   "metadata": {},
   "source": [
    "## 6. Polimorfismo\n",
    "\n",
    "Neste caderno, estudaremos o polimorfismo. Polimorfismo significa literalmente a capacidade de assumir várias formas. Em termos de linguagens de programação, refere-se ao fornecimento de uma interface única para entidades de diferentes tipos. A maioria das linguagens de programação orientadas a objetos permite vários graus de polimorfismo no código. Se você trabalhou com linguagens de programação como C ++ ou Java, deve ter uma boa ideia disso.\n",
    "Estudamos Substituição no capítulo anterior. É uma forma de polimorfismo. Portanto, já estudamos um tipo de polimorfismo em Python 3. Neste capítulo, estudaremos primeiro a Sobrecarga de método e depois a Sobrecarga de operador que se enquadram no conceito de polimorfismo."
   ]
  },
  {
   "cell_type": "markdown",
   "metadata": {},
   "source": [
    "6.1 Sobrecarga do Método\n",
    "\n",
    "Quando um método pode ser chamado com um número diferente de argumentos, isso é conhecido como sobrecarga de método. Nas linguagens de programação como C ++, podemos ter várias definições de funções-membro de uma classe. No entanto, Python não permite, pois sabemos que Tudo é um objeto em Python. Portanto, para tornar isso possível, usamos métodos com argumentos padrão. O exemplo é o seguinte:\n",
    "\n",
    "```python\n",
    "prog01.py\n",
    "1 class A:\n",
    "2\n",
    "3 def method01(self, i=None):\n",
    "4 if i is None:\n",
    "5 print(\"Sequence 01\")\n",
    "6 else:\n",
    "7 print(\"Sequence 02\")\n",
    "8\n",
    "9\n",
    "10 def main():\n",
    "11 obj1 = A()\n",
    "12 obj1.method01()\n",
    "13 obj1.method01(5)\n",
    "14\n",
    "15\n",
    "16 if __name__ == \"__main__\":\n",
    "17 main()\n",
    "```\n",
    "\n",
    "Execute o código acima e veja o resultado."
   ]
  },
  {
   "cell_type": "code",
   "execution_count": 2,
   "metadata": {},
   "outputs": [
    {
     "name": "stdout",
     "output_type": "stream",
     "text": [
      "Sequence 01\n",
      "Sequence 02\n"
     ]
    }
   ],
   "source": [
    "# prog01.py\n",
    "\n",
    "class A:\n",
    "    def method01(self, i=None):\n",
    "        if i is None:\n",
    "            print('Sequence 01')\n",
    "        else:\n",
    "            print('Sequence 02')\n",
    "            \n",
    "def main():\n",
    "    obj1 = A()\n",
    "    obj1.method01()\n",
    "    obj1.method01(5)\n",
    "    \n",
    "if __name__ == \"__main__\":\n",
    "    main()"
   ]
  },
  {
   "cell_type": "markdown",
   "metadata": {},
   "source": [
    "# Exercício:\n",
    "\n",
    "Tente definir uma classe com dois ou vários métodos com exatamente o mesmo nome, mas diferentes números de parâmetros."
   ]
  },
  {
   "cell_type": "code",
   "execution_count": 3,
   "metadata": {},
   "outputs": [],
   "source": [
    "# exercício\n"
   ]
  },
  {
   "cell_type": "markdown",
   "metadata": {},
   "source": [
    "## 6.2 Sobrecarga do operador\n",
    "\n",
    "Os operadores operam em operandos e realizam várias operações. Como sabemos que tudo é um objeto em Python, os operandos nos quais os operadores operam em Python são todos os objetos. As operações e os resultados das operações de operadores em objetos integrados em Python já estão bem definidos em Python. Podemos atribuir responsabilidade adicional aos operadores para os objetos de classes definidas pelo usuário. Este conceito é conhecido como Sobrecarga do Operador. A seguir está um exemplo simples para o operador de adição:\n",
    "\n",
    "```python\n",
    "prog02.py\n",
    "1 class Point:\n",
    "2\n",
    "3 def __init__(self, x, y, z):\n",
    "4 self.assign(x, y, z)\n",
    "5\n",
    "6 def assign(self, x, y, z):\n",
    "7 self.x = x\n",
    "8 self.y = y\n",
    "9 self.z = z\n",
    "10\n",
    "11 def printPoint(self):\n",
    "12 print(self.x, self.y, self.z)\n",
    "13\n",
    "14 def __add__(self, other):\n",
    "15 x = self.x + other.x\n",
    "16 y = self.y + other.y\n",
    "17 z = self.z + other.z\n",
    "18 return Point(x, y, z)\n",
    "19\n",
    "20 def __str__(self):\n",
    "21 return(\"({0},{1},{2})\".format(self.x, self.y, self.z))\n",
    "22\n",
    "23\n",
    "24 def main():\n",
    "25 p1 = Point(1, 2, 3)\n",
    "26 p2 = Point(4, 5, 6)\n",
    "27 print(p1 + p2)\n",
    "28\n",
    "29\n",
    "30 if __name__ == \"__main__\":\n",
    "31 main()\n",
    "```\n",
    "\n",
    "Execute o código e verifique a saída. Quando fazemos a operação p1 + p2 no código, Python chamará p1 .__ add __ (p2) que por sua vez chamará Point .__ add __ (p1, p2). Da mesma forma, podemos sobrecarregar outros operadores também. A função especial que precisamos implementar para operações binárias está tabulada abaixo:\n",
    "\n",
    "<img src=\"figure4.png\">\n",
    "    \n",
    "A seguir está a tabela para as operações estendidas:\n",
    "    \n",
    "<img src=\"figure5.png\">\n",
    "\n",
    "A seguir está a tabela para os operadores unários:\n",
    "\n",
    "<img src=\"figure6.png\">\n",
    "\n",
    "A seguir está a tabela para os operadores de comparação:\n",
    "\n",
    "<img src=\"figure7.png\">\n",
    "\n",
    "\n"
   ]
  },
  {
   "cell_type": "markdown",
   "metadata": {},
   "source": [
    "# Exercício\n",
    "\n",
    "Tente implementar o programa de sobrecarga do operador para outros operadores."
   ]
  },
  {
   "cell_type": "code",
   "execution_count": 4,
   "metadata": {},
   "outputs": [],
   "source": [
    "# Exercício\n",
    "\n"
   ]
  },
  {
   "cell_type": "markdown",
   "metadata": {},
   "source": [
    "## 6.3 Conclusão\n",
    "\n",
    "Neste caderno, estudamos a sobrecarga do método e a sobrecarga do operador. No próximo, estudaremos o tratamento de exceções."
   ]
  },
  {
   "cell_type": "code",
   "execution_count": null,
   "metadata": {},
   "outputs": [],
   "source": []
  }
 ],
 "metadata": {
  "kernelspec": {
   "display_name": "Python 3",
   "language": "python",
   "name": "python3"
  },
  "language_info": {
   "codemirror_mode": {
    "name": "ipython",
    "version": 3
   },
   "file_extension": ".py",
   "mimetype": "text/x-python",
   "name": "python",
   "nbconvert_exporter": "python",
   "pygments_lexer": "ipython3",
   "version": "3.8.5"
  }
 },
 "nbformat": 4,
 "nbformat_minor": 4
}
