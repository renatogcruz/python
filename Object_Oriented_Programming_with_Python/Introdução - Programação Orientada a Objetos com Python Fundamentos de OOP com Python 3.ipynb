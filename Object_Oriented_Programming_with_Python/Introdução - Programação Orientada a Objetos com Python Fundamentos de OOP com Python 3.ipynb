{
 "cells": [
  {
   "cell_type": "markdown",
   "metadata": {},
   "source": [
    "# Programação Orientada a Objetos com Python\n",
    "\n",
    "Fundamentos de OOP com Python 3\n",
    "\n",
    "Este à venda em http://leanpub.com/PythonOOP\n",
    "\n",
    "© 2016 - 2017 Ashwin Pajankar e Sushant Garg"
   ]
  },
  {
   "cell_type": "markdown",
   "metadata": {},
   "source": [
    "## 1 - Introdução\n",
    "\n",
    "A Programação Orientada a Objetos (OOP) é um paradigma de programação. Neste caderno, veremos:\n",
    "\n",
    "- Conceitos \n",
    "- Objetos \n",
    "- Classes \n",
    "- O que é OOP\n",
    "\n",
    "*Tudo é um objeto em Python*"
   ]
  },
  {
   "cell_type": "markdown",
   "metadata": {},
   "source": [
    "### 1.1 Objetos e classes\n",
    "\n",
    "Um objeto no mundo real é algo que podemos tocar, ver, sentir e interagir. Por exemplo, uma maçã, uma bicicleta ou uma casa.\n",
    "\n",
    "A programação orientada a objetos se refere ao estilo de programação em que o software é projetado e desenvolvido com objetos e conceitos relacionados. \n",
    "\n",
    "Considere que existem dois objetos, uma bicicleta e um carro. Ambos são os objetos. No entanto, seus tipos são diferentes. Um carro pertence à classe dos carros e uma bicicleta pertence à classe das bicicletas. Em OOP, uma classe descreve um objeto. Em outras palavras, classe é um tipo de dados. Objetos são variáveis cujo tipo de dados é uma classe\n",
    "\n",
    "Vejamos um exemplo de programa simples com uma classe e um objeto em Python."
   ]
  },
  {
   "cell_type": "code",
   "execution_count": 1,
   "metadata": {},
   "outputs": [
    {
     "data": {
      "text/plain": [
       "<__main__.Point at 0x138cbf60970>"
      ]
     },
     "execution_count": 1,
     "metadata": {},
     "output_type": "execute_result"
    }
   ],
   "source": [
    "# Criando uma classe Point simples e criando o objeto p1.\n",
    "\n",
    "class Point():\n",
    "    pass\n",
    "\n",
    "p1 = Point()\n",
    "\n",
    "p1"
   ]
  },
  {
   "cell_type": "markdown",
   "metadata": {},
   "source": [
    "O exemplo acima é uma classe mais simples de um objeto."
   ]
  },
  {
   "cell_type": "markdown",
   "metadata": {},
   "source": [
    "#### Ex.: Crie classes vazias em Python para outro objeto do mundo real."
   ]
  },
  {
   "cell_type": "code",
   "execution_count": 7,
   "metadata": {},
   "outputs": [
    {
     "name": "stdout",
     "output_type": "stream",
     "text": [
      "Note que Renato = <__main__.Pessoa object at 0x00000138CBF46190> - é uma instância da classe Pessoa, e Maria <__main__.Pessoa object at 0x00000138CBF469A0> - é uma outra instância. Ou seja, temos dois objetos: Renato e Maria\n"
     ]
    }
   ],
   "source": [
    "# Criando uma classe Pessoa\n",
    "\n",
    "class Pessoa:\n",
    "    'Uma classe Pessoa simples'\n",
    "    pass\n",
    "\n",
    "# Instaciando a classe Casa\n",
    "\n",
    "Renato = Pessoa()\n",
    "Maria = Pessoa()\n",
    "\n",
    "print(f\"Note que Renato = {Renato} - é uma instância da classe Pessoa, e Maria {Maria} - é uma outra instância. Ou seja, temos dois objetos: Renato e Maria\")"
   ]
  },
  {
   "cell_type": "markdown",
   "metadata": {},
   "source": [
    "### 1.2 Tudo é um objeto em Python\n",
    "\n",
    "Pytho é uma linguagem de programação verdadeiramente orientada a objetos. Quase tudo é um objeto em Python. Tudo pode ter documentação associada a ele. Tudo tem métodos e atributos.\n",
    "\n",
    "Execute o exemplo abaixo e veja o resultado. O __doc__ é usado para imprimir sua documentação."
   ]
  },
  {
   "cell_type": "code",
   "execution_count": 5,
   "metadata": {},
   "outputs": [
    {
     "name": "stdout",
     "output_type": "stream",
     "text": [
      "<class 'int'>\n",
      "int([x]) -> integer\n",
      "int(x, base=10) -> integer\n",
      "\n",
      "Convert a number or string to an integer, or return 0 if no arguments\n",
      "are given.  If x is a number, return x.__int__().  For floating point\n",
      "numbers, this truncates towards zero.\n",
      "\n",
      "If x is not a number or if base is given, then x must be a string,\n",
      "bytes, or bytearray instance representing an integer literal in the\n",
      "given base.  The literal can be preceded by '+' or '-' and be surrounded\n",
      "by whitespace.  The base defaults to 10.  Valid bases are 0 and 2-36.\n",
      "Base 0 means to interpret the base from the string as an integer literal.\n",
      ">>> int('0b100', base=0)\n",
      "4\n"
     ]
    }
   ],
   "source": [
    "a = 15\n",
    "\n",
    "print(type(a))\n",
    "print(a.__doc__)"
   ]
  },
  {
   "cell_type": "markdown",
   "metadata": {},
   "source": [
    "Repita o mesmo teste com a classe criada no exercício anterior"
   ]
  },
  {
   "cell_type": "code",
   "execution_count": 10,
   "metadata": {},
   "outputs": [
    {
     "name": "stdout",
     "output_type": "stream",
     "text": [
      "<class '__main__.Pessoa'>\n",
      "Uma classe Pessoa simples\n"
     ]
    }
   ],
   "source": [
    "print(type(Renato))\n",
    "print(Renato.__doc__)"
   ]
  },
  {
   "cell_type": "markdown",
   "metadata": {},
   "source": [
    "Quando se diz que quase tudo é um objeto em Python, realmente querem dizer isso. \n",
    "\n",
    "Por exemplo, print() é um método embutido. Podemos imprimir seu tipo executando a instrução print(type(print)) e ela retorna <class 'builtin_function_or_method'>."
   ]
  },
  {
   "cell_type": "code",
   "execution_count": 13,
   "metadata": {},
   "outputs": [
    {
     "name": "stdout",
     "output_type": "stream",
     "text": [
      "print(value, ..., sep=' ', end='\\n', file=sys.stdout, flush=False)\n",
      "\n",
      "Prints the values to a stream, or to sys.stdout by default.\n",
      "Optional keyword arguments:\n",
      "file:  a file-like object (stream); defaults to the current sys.stdout.\n",
      "sep:   string inserted between values, default a space.\n",
      "end:   string appended after the last value, default a newline.\n",
      "flush: whether to forcibly flush the stream.\n"
     ]
    }
   ],
   "source": [
    "# Imprima a documentação do método print () executando a instrução print(print .__ doc__).\n",
    "\n",
    "print(print.__doc__)"
   ]
  },
  {
   "cell_type": "code",
   "execution_count": null,
   "metadata": {},
   "outputs": [],
   "source": []
  }
 ],
 "metadata": {
  "kernelspec": {
   "display_name": "Python 3",
   "language": "python",
   "name": "python3"
  },
  "language_info": {
   "codemirror_mode": {
    "name": "ipython",
    "version": 3
   },
   "file_extension": ".py",
   "mimetype": "text/x-python",
   "name": "python",
   "nbconvert_exporter": "python",
   "pygments_lexer": "ipython3",
   "version": "3.8.5"
  }
 },
 "nbformat": 4,
 "nbformat_minor": 4
}
