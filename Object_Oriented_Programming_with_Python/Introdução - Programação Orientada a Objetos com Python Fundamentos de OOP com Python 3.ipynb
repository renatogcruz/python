{
 "cells": [
  {
   "cell_type": "markdown",
   "metadata": {},
   "source": [
    "# Programação Orientada a Objetos com Python\n",
    "\n",
    "Fundamentos de OOP com Python 3\n",
    "\n",
    "Este à venda em http://leanpub.com/PythonOOP\n",
    "\n",
    "© 2016 - 2017 Ashwin Pajankar e Sushant Garg"
   ]
  },
  {
   "cell_type": "markdown",
   "metadata": {},
   "source": [
    "## 1 - Introdução\n",
    "\n",
    "A Programação Orientada a Objetos (OOP) é um paradigma de programação. Neste caderno, veremos:\n",
    "\n",
    "- Conceitos \n",
    "- Objetos \n",
    "- Classes \n",
    "- O que é OOP\n",
    "\n",
    "*Tudo é um objeto em Python*"
   ]
  },
  {
   "cell_type": "markdown",
   "metadata": {},
   "source": [
    "### 1.1 Objetos e classes\n",
    "\n",
    "Um objeto no mundo real é algo que podemos tocar, ver, sentir e interagir. Por exemplo, uma maçã, uma bicicleta ou uma casa.\n",
    "\n",
    "A programação orientada a objetos se refere ao estilo de programação em que o software é projetado e desenvolvido com objetos e conceitos relacionados. \n",
    "\n",
    "Considere que existem dois objetos, uma bicicleta e um carro. Ambos são os objetos. No entanto, seus tipos são diferentes. Um carro pertence à classe dos carros e uma bicicleta pertence à classe das bicicletas. Em OOP, uma classe descreve um objeto. Em outras palavras, classe é um tipo de dados. Objetos são variáveis cujo tipo de dados é uma classe\n",
    "\n",
    "Vejamos um exemplo de programa simples com uma classe e um objeto em Python."
   ]
  },
  {
   "cell_type": "code",
   "execution_count": 1,
   "metadata": {},
   "outputs": [
    {
     "data": {
      "text/plain": [
       "<__main__.Point at 0x138cbf60970>"
      ]
     },
     "execution_count": 1,
     "metadata": {},
     "output_type": "execute_result"
    }
   ],
   "source": [
    "class Point():\n",
    "    pass\n",
    "\n",
    "p1 = Point()\n",
    "\n",
    "p1"
   ]
  },
  {
   "cell_type": "code",
   "execution_count": null,
   "metadata": {},
   "outputs": [],
   "source": []
  }
 ],
 "metadata": {
  "kernelspec": {
   "display_name": "Python 3",
   "language": "python",
   "name": "python3"
  },
  "language_info": {
   "codemirror_mode": {
    "name": "ipython",
    "version": 3
   },
   "file_extension": ".py",
   "mimetype": "text/x-python",
   "name": "python",
   "nbconvert_exporter": "python",
   "pygments_lexer": "ipython3",
   "version": "3.8.5"
  }
 },
 "nbformat": 4,
 "nbformat_minor": 4
}
