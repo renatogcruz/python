{
 "cells": [
  {
   "cell_type": "markdown",
   "metadata": {},
   "source": [
    "# Módulos e Pacotes\n",
    "\n",
    "Neste cdernoveremos o conceito de modularidade em Python. "
   ]
  },
  {
   "cell_type": "markdown",
   "metadata": {},
   "source": [
    "## 3.1 Módulos\n",
    "\n",
    "\n",
    "No caderno anterior, vimos exemplos de classes. \n",
    "\n",
    "Também podemos ter várias classes em um único arquivo de código Python. Considere o seguinte programa abaixo:\n",
    "\n",
    "```python\n",
    "prog01.py\n",
    "1 class Class01:\n",
    "2\n",
    "3 def __init__(self):\n",
    "4 print(\"Just created an object for Class01...\")\n",
    "5\n",
    "6\n",
    "7 class Class02:\n",
    "8\n",
    "9 def __init__(self):\n",
    "10 print(\"Just created an object for class02...\")\n",
    "11\n",
    "12\n",
    "13 o1 = Class01()\n",
    "14 o2 = Class02()\n",
    "```\n",
    "\n",
    "No exemplo acima, esta definindo duas classes Class01 e Class02 em um único arquivo de código Python.\n",
    "\n",
    "Os arquivos de código Python também são conhecidos como módulos Python. Suponha que você tenha um diretório onde criou vários arquivos de código Python, podemos apenas referir cada arquivo de código como um módulo. Execute o exemplo acima e veja o resultado.\n",
    "\n",
    "Além disso, as classes e funções em um módulo Python podem ser acessadas em outro módulo. Isso é conhecido como modularidade em Python. Podemos agrupar as classes relacionadas em um módulo e importá-las quando necessário em outros módulos. Para ver isso em ação, crie outro módulo python prog02 no mesmo diretório. A seguir está o código para isso:\n",
    "\n",
    "```python\n",
    "prog02.py\n",
    "1 import prog01\n",
    "2\n",
    "3\n",
    "4 o1 = prog01.Class01()\n",
    "5 o2 = prog01.Class02()\n",
    "```"
   ]
  },
  {
   "cell_type": "code",
   "execution_count": 14,
   "metadata": {},
   "outputs": [],
   "source": [
    "# testando prog02.py\n",
    "# importanto módulo prog01\n",
    "\n",
    "import prog01"
   ]
  },
  {
   "cell_type": "code",
   "execution_count": 15,
   "metadata": {},
   "outputs": [
    {
     "name": "stdout",
     "output_type": "stream",
     "text": [
      "Just created an objetc for Class01...\n"
     ]
    }
   ],
   "source": [
    "o1 = prog01.Class01()"
   ]
  },
  {
   "cell_type": "code",
   "execution_count": 16,
   "metadata": {},
   "outputs": [
    {
     "name": "stdout",
     "output_type": "stream",
     "text": [
      "Just created an object for Class02...\n"
     ]
    }
   ],
   "source": [
    "o2 = prog01.Class02()"
   ]
  },
  {
   "cell_type": "markdown",
   "metadata": {},
   "source": [
    "Você consegue adivinhar por que isso está acontecendo? É imprimir as declarações duas vezes porque estamos importando o módulo inteiro. Então, ele está importando a parte do prog01 onde estamos criando os objetos. Conseqüentemente, os objetos são criados duas vezes. Para atenuar isso, o Python oferece uma maneira simples. \n",
    "\n",
    "Faça as seguintes alterações em prog01.py:\n",
    "\n",
    "```python\n",
    "prog01.py\n",
    "1 class Class01:\n",
    "2\n",
    "3 def __init__(self):\n",
    "4 print(\"Just created an object for Class01...\")\n",
    "5\n",
    "6\n",
    "7 class Class02:\n",
    "8\n",
    "9 def __init__(self):\n",
    "10 print(\"Just created an object for class02...\")\n",
    "11\n",
    "12\n",
    "13 if __name__ == \"__main__\":\n",
    "14 o1 = Class01()\n",
    "15 o2 = Class02()\n",
    "```"
   ]
  },
  {
   "cell_type": "markdown",
   "metadata": {},
   "source": [
    "Escrever nosso código principal em if __name__ == \"__main__\": garante que ele seja chamado apenas quando o módulo for executado diretamente. Quando importamos todo o módulo em outro módulo, o código com a lógica principal não é importado para o outro módulo. Apenas funções e classes são importadas para o outro módulo. Se você executar os dois módulos um por um, verá que os objetos são criados apenas uma vez durante cada execução.\n",
    "\n",
    "\n",
    "Mas e se quisermos importar e executar o código de lógica principal do módulo sob demanda no módulo para onde ele é importado? Existe uma maneira mais pitônica de organizar nosso código para tornar isso possível.\n",
    "\n",
    "\n",
    "Reescreva o módulo prog01 da seguinte maneira:\n",
    "\n",
    "```python\n",
    "prog01.py\n",
    "1 class Class01:\n",
    "2\n",
    "3 def __init__(self):\n",
    "4 print(\"Just created an object for Class01...\")\n",
    "5\n",
    "6\n",
    "7 class Class02:\n",
    "8\n",
    "9 def __init__(self):\n",
    "10 print(\"Just created an object for class02...\")\n",
    "11\n",
    "12\n",
    "13 def main():\n",
    "14 o1 = Class01()\n",
    "15 o2 = Class02()\n",
    "16\n",
    "17 if __name__ == \"__main__\":\n",
    "18 main()\n",
    "```\n",
    "\n",
    "Além disso, faça alterações no módulo prog02 da seguinte forma:\n",
    "\n",
    "```python\n",
    "prog02.py\n",
    "1 import prog01\n",
    "2\n",
    "3\n",
    "4 prog01.main()\n",
    "```"
   ]
  },
  {
   "cell_type": "code",
   "execution_count": 17,
   "metadata": {},
   "outputs": [],
   "source": [
    "# testando os ajustes\n",
    "\n",
    "import prog01"
   ]
  },
  {
   "cell_type": "code",
   "execution_count": 18,
   "metadata": {},
   "outputs": [
    {
     "ename": "AttributeError",
     "evalue": "module 'prog01' has no attribute 'main'",
     "output_type": "error",
     "traceback": [
      "\u001b[1;31m---------------------------------------------------------------------------\u001b[0m",
      "\u001b[1;31mAttributeError\u001b[0m                            Traceback (most recent call last)",
      "\u001b[1;32m<ipython-input-18-3ffd17778bd1>\u001b[0m in \u001b[0;36m<module>\u001b[1;34m\u001b[0m\n\u001b[1;32m----> 1\u001b[1;33m \u001b[0mprog01\u001b[0m\u001b[1;33m.\u001b[0m\u001b[0mmain\u001b[0m\u001b[1;33m(\u001b[0m\u001b[1;33m)\u001b[0m\u001b[1;33m\u001b[0m\u001b[1;33m\u001b[0m\u001b[0m\n\u001b[0m",
      "\u001b[1;31mAttributeError\u001b[0m: module 'prog01' has no attribute 'main'"
     ]
    }
   ],
   "source": [
    "prog01.main()"
   ]
  },
  {
   "cell_type": "markdown",
   "metadata": {},
   "source": [
    "No módulo prog02, estamos importando diretamente a função main () do módulo prog01. Agora, execute o módulo prog02 para ver a saída. Vai ser igual. No entanto, o módulo prog01 agora está mais organizado do que antes. Vamos fazer as mesmas alterações no código prog02 da seguinte maneira:\n",
    "\n",
    "```python\n",
    "prog02.py\n",
    "1 import prog01\n",
    "2\n",
    "3\n",
    "4 def main():\n",
    "5 prog01.main()\n",
    "6\n",
    "7\n",
    "8 if __name__ == \"__main__\":\n",
    "9 main()\n",
    "```"
   ]
  },
  {
   "cell_type": "code",
   "execution_count": 19,
   "metadata": {},
   "outputs": [
    {
     "ename": "AttributeError",
     "evalue": "module 'prog01' has no attribute 'main'",
     "output_type": "error",
     "traceback": [
      "\u001b[1;31m---------------------------------------------------------------------------\u001b[0m",
      "\u001b[1;31mAttributeError\u001b[0m                            Traceback (most recent call last)",
      "\u001b[1;32m<ipython-input-19-f3e7bbc1f4a1>\u001b[0m in \u001b[0;36m<module>\u001b[1;34m\u001b[0m\n\u001b[0;32m      5\u001b[0m \u001b[1;33m\u001b[0m\u001b[0m\n\u001b[0;32m      6\u001b[0m \u001b[1;32mif\u001b[0m \u001b[0m__name__\u001b[0m \u001b[1;33m==\u001b[0m \u001b[1;34m\"__main__\"\u001b[0m\u001b[1;33m:\u001b[0m\u001b[1;33m\u001b[0m\u001b[1;33m\u001b[0m\u001b[0m\n\u001b[1;32m----> 7\u001b[1;33m     \u001b[0mmain\u001b[0m\u001b[1;33m(\u001b[0m\u001b[1;33m)\u001b[0m\u001b[1;33m\u001b[0m\u001b[1;33m\u001b[0m\u001b[0m\n\u001b[0m",
      "\u001b[1;32m<ipython-input-19-f3e7bbc1f4a1>\u001b[0m in \u001b[0;36mmain\u001b[1;34m()\u001b[0m\n\u001b[0;32m      2\u001b[0m \u001b[1;33m\u001b[0m\u001b[0m\n\u001b[0;32m      3\u001b[0m \u001b[1;32mdef\u001b[0m \u001b[0mmain\u001b[0m\u001b[1;33m(\u001b[0m\u001b[1;33m)\u001b[0m\u001b[1;33m:\u001b[0m\u001b[1;33m\u001b[0m\u001b[1;33m\u001b[0m\u001b[0m\n\u001b[1;32m----> 4\u001b[1;33m     \u001b[0mprog01\u001b[0m\u001b[1;33m.\u001b[0m\u001b[0mmain\u001b[0m\u001b[1;33m(\u001b[0m\u001b[1;33m)\u001b[0m\u001b[1;33m\u001b[0m\u001b[1;33m\u001b[0m\u001b[0m\n\u001b[0m\u001b[0;32m      5\u001b[0m \u001b[1;33m\u001b[0m\u001b[0m\n\u001b[0;32m      6\u001b[0m \u001b[1;32mif\u001b[0m \u001b[0m__name__\u001b[0m \u001b[1;33m==\u001b[0m \u001b[1;34m\"__main__\"\u001b[0m\u001b[1;33m:\u001b[0m\u001b[1;33m\u001b[0m\u001b[1;33m\u001b[0m\u001b[0m\n",
      "\u001b[1;31mAttributeError\u001b[0m: module 'prog01' has no attribute 'main'"
     ]
    }
   ],
   "source": [
    "import prog01\n",
    "\n",
    "def main():\n",
    "    prog01.main()\n",
    "    \n",
    "if __name__ == \"__main__\":\n",
    "    main()"
   ]
  },
  {
   "cell_type": "markdown",
   "metadata": {},
   "source": [
    "Finalmente, para adicionar mais clareza, modificaremos prog01 da seguinte maneira:\n",
    "\n",
    "```python\n",
    "prog01.py\n",
    "1 class Class01:\n",
    "2\n",
    "3 def __init__(self):\n",
    "4 print(\"Just created an object for Class01...\")\n",
    "5\n",
    "6\n",
    "7 class Class02:\n",
    "8\n",
    "9 def __init__(self):\n",
    "10 print(\"Just created an object for class02...\")\n",
    "11\n",
    "12\n",
    "13 def main():\n",
    "14 o1 = Class01()\n",
    "15 o2 = Class02()\n",
    "16\n",
    "17 if __name__ == \"__main__\":\n",
    "18 print(\"Module prog01 is being run directly...\")\n",
    "19 main()\n",
    "20 else:\n",
    "21 print(\"Module prog01 has been imported in the current module...\")\n",
    "```\n",
    "\n",
    "Execute ambos os módulos e veja a saída. O que aconteceu aqui?? Percebemos que o código antes da instrução else é executado se executarmos diretamente o módulo e o código depois da instrução else é executado quando importamos um módulo inteiro."
   ]
  },
  {
   "cell_type": "markdown",
   "metadata": {},
   "source": [
    "Vamos prosseguir para entender a outra maneira de importar os membros de um módulo. Na primeira versão do módulo prog02, tínhamos o seguinte código:\n",
    "\n",
    "```python\n",
    "prog02.py\n",
    "1 import prog01\n",
    "2\n",
    "3\n",
    "4 o1 = prog01.Class01()\n",
    "5 o2 = prog01.Class02()\n",
    "```"
   ]
  },
  {
   "cell_type": "code",
   "execution_count": 1,
   "metadata": {},
   "outputs": [
    {
     "name": "stdout",
     "output_type": "stream",
     "text": [
      "Module prog01 has been imported in the current module...\n"
     ]
    }
   ],
   "source": [
    "import prog01"
   ]
  },
  {
   "cell_type": "code",
   "execution_count": 2,
   "metadata": {},
   "outputs": [
    {
     "name": "stdout",
     "output_type": "stream",
     "text": [
      "Just created an objetc for Class01...\n"
     ]
    }
   ],
   "source": [
    "o1 = prog01.Class01()"
   ]
  },
  {
   "cell_type": "code",
   "execution_count": 4,
   "metadata": {},
   "outputs": [
    {
     "name": "stdout",
     "output_type": "stream",
     "text": [
      "Just created an object for Class02...\n"
     ]
    }
   ],
   "source": [
    "o2 = prog01.Class02()"
   ]
  },
  {
   "cell_type": "markdown",
   "metadata": {},
   "source": [
    "Aqui, abordamos os membros do módulo prog01 com a notação prog1.member. Isso ocorre porque a instrução import prog01 importa todos os membros para o módulo prog02.\n",
    "\n",
    "Existe outra maneira de importar os membros dos módulos. A seguir está o exemplo disso:\n",
    "\n",
    "```python\n",
    "prog03.py\n",
    "1 from prog01 import Class01, Class02\n",
    "2\n",
    "3\n",
    "4 def main():\n",
    "5 o1 = Class01()\n",
    "6 o2 = Class02()\n",
    "7\n",
    "8\n",
    "9 if __name__ == \"__main__\":\n",
    "10 main()\n",
    "```"
   ]
  },
  {
   "cell_type": "code",
   "execution_count": 5,
   "metadata": {},
   "outputs": [],
   "source": [
    "# prog03.py\n",
    "\n",
    "from prog01 import Class01, Class02"
   ]
  },
  {
   "cell_type": "code",
   "execution_count": 7,
   "metadata": {},
   "outputs": [
    {
     "name": "stdout",
     "output_type": "stream",
     "text": [
      "Just created an objetc for Class01...\n",
      "Just created an object for Class02...\n"
     ]
    }
   ],
   "source": [
    "def main():\n",
    "    o1 = Class01()\n",
    "    o2 = Class02()\n",
    "    \n",
    "if __name__ == \"__main__\":\n",
    "    main()"
   ]
  },
  {
   "cell_type": "markdown",
   "metadata": {},
   "source": [
    "Com a sintaxe from <module> import <member>, não precisamos usar a convenção de módulo>. <member> no módulo de chamada. Podemos abordar diretamente os membros do módulo importado, conforme mostrado no exemplo acima. Execute o programa acima e veja o resultado."
   ]
  },
  {
   "cell_type": "markdown",
   "metadata": {},
   "source": [
    "### Exercício\n",
    "\n",
    "No programa acima, estamos importando os dois membros do prog01. Modifique o programa acima para importar apenas um único membro do módulo. Adicione também a parte else após a chamada da função main ()."
   ]
  },
  {
   "cell_type": "code",
   "execution_count": null,
   "metadata": {},
   "outputs": [],
   "source": [
    "## Escreva a resolução AQUI"
   ]
  },
  {
   "cell_type": "code",
   "execution_count": null,
   "metadata": {},
   "outputs": [],
   "source": []
  },
  {
   "cell_type": "code",
   "execution_count": null,
   "metadata": {},
   "outputs": [],
   "source": []
  }
 ],
 "metadata": {
  "kernelspec": {
   "display_name": "Python 3",
   "language": "python",
   "name": "python3"
  },
  "language_info": {
   "codemirror_mode": {
    "name": "ipython",
    "version": 3
   },
   "file_extension": ".py",
   "mimetype": "text/x-python",
   "name": "python",
   "nbconvert_exporter": "python",
   "pygments_lexer": "ipython3",
   "version": "3.8.5"
  }
 },
 "nbformat": 4,
 "nbformat_minor": 4
}
