{
 "cells": [
  {
   "cell_type": "markdown",
   "metadata": {},
   "source": [
    "# Programação Orientada a Objetos com Python\n",
    "\n",
    "Fundamentos de OOP com Python 3\n",
    "\n",
    "À venda em http://leanpub.com/PythonOOP\n",
    "\n",
    "© 2016 - 2017 Ashwin Pajankar e Sushant Garg"
   ]
  },
  {
   "cell_type": "markdown",
   "metadata": {},
   "source": [
    "## 5. Mais herança\n",
    "\n",
    "No último capítulo, estudamos herança básica, substituição e super (). Neste capítulo, estudaremos herança múltipla, o problema do diamante, modificadores de acesso e classes abstratas e\n",
    "métodos."
   ]
  },
  {
   "cell_type": "markdown",
   "metadata": {},
   "source": [
    "## 5.1 Herança múltipla\n",
    "\n",
    "Quando uma classe é derivada de mais de uma classe, o mecanismo é conhecido como Herança Múltipla. O diagrama a seguir mostra um exemplo disso:\n",
    "\n",
    "<img src=\"figure2.png\">\n",
    "\n",
    "Vamos tentar escrever um código simples para o mesmo:\n",
    "\n",
    "```python\n",
    "prog01.py\n",
    "1 class A:\n",
    "2 pass\n",
    "3\n",
    "4\n",
    "5 class B:\n",
    "6 pass\n",
    "7\n",
    "8\n",
    "9 class C(A, B):\n",
    "10 pass\n",
    "11\n",
    "12\n",
    "13 def main():\n",
    "14 pass\n",
    "15\n",
    "16\n",
    "17 if __name__ == \"__main__\":\n",
    "18 main()\n",
    "```"
   ]
  },
  {
   "cell_type": "code",
   "execution_count": 1,
   "metadata": {},
   "outputs": [],
   "source": [
    "# prog01.py\n",
    "\n",
    "class A:\n",
    "    pass\n",
    "\n",
    "class B:\n",
    "    pass\n",
    "\n",
    "class C(A, B):\n",
    "    pass\n",
    "\n",
    "def main():\n",
    "    pass\n",
    "\n",
    "if __name__ == \"__main__\":\n",
    "    main()"
   ]
  },
  {
   "cell_type": "markdown",
   "metadata": {},
   "source": [
    "A herança múltipla é usada nos casos em que precisamos que os atributos e comportamentos de mais de uma classe sejam derivados em uma única classe."
   ]
  },
  {
   "cell_type": "markdown",
   "metadata": {},
   "source": [
    "## 5.2 Ordem de resolução de método\n",
    "\n",
    "Considere o seguinte exemplo:\n",
    "\n",
    "```python\n",
    "prog02.py\n",
    "1 class A:\n",
    "2\n",
    "3 def m(self):\n",
    "4 print('This is m() from Class A.')\n",
    "5\n",
    "6\n",
    "7 class B:\n",
    "8\n",
    "9 def m(self):\n",
    "10 print('This is m() from Class B.')\n",
    "11\n",
    "12\n",
    "13 class C(A, B):\n",
    "14 pass\n",
    "15\n",
    "16\n",
    "17 def main():\n",
    "18 x = C()\n",
    "19 x.m()\n",
    "20\n",
    "21\n",
    "22 if __name__ == \"__main__\":\n",
    "23 main()\n",
    "```\n"
   ]
  },
  {
   "cell_type": "markdown",
   "metadata": {},
   "source": [
    "When we run the code, the output is as follows:"
   ]
  },
  {
   "cell_type": "code",
   "execution_count": 2,
   "metadata": {},
   "outputs": [
    {
     "name": "stdout",
     "output_type": "stream",
     "text": [
      "This is m() from Class A\n"
     ]
    }
   ],
   "source": [
    "# prog02.py\n",
    "\n",
    "class A:\n",
    "    def m(self):\n",
    "        print('This is m() from Class A')\n",
    "        \n",
    "class B:\n",
    "    def m(self):\n",
    "        print('This is m() from Class B')\n",
    "        \n",
    "class C(A, B):\n",
    "    pass\n",
    "\n",
    "def main():\n",
    "    x = C()\n",
    "    x.m()\n",
    "    \n",
    "if __name__ == \"__main__\":\n",
    "    main()\n",
    "    "
   ]
  },
  {
   "cell_type": "markdown",
   "metadata": {},
   "source": [
    "Isso ocorre porque a ordem em que a classe C é derivada das classes pai. Se mudarmos o código da classe C da seguinte maneira:\n",
    "\n",
    "```python\n",
    "1 class C(B, A):\n",
    "2 pass\n",
    "```\n",
    "\n",
    "O resultado é:"
   ]
  },
  {
   "cell_type": "code",
   "execution_count": 3,
   "metadata": {},
   "outputs": [
    {
     "name": "stdout",
     "output_type": "stream",
     "text": [
      "This is m() from Class B\n"
     ]
    }
   ],
   "source": [
    "# prog02.py\n",
    "\n",
    "class A:\n",
    "    def m(self):\n",
    "        print('This is m() from Class A')\n",
    "        \n",
    "class B:\n",
    "    def m(self):\n",
    "        print('This is m() from Class B')\n",
    "        \n",
    "class C(B, A):\n",
    "    pass\n",
    "\n",
    "def main():\n",
    "    x = C()\n",
    "    x.m()\n",
    "    \n",
    "if __name__ == \"__main__\":\n",
    "    main()"
   ]
  },
  {
   "cell_type": "markdown",
   "metadata": {},
   "source": [
    "O mecanismo com o qual os métodos derivados de uma subclasse são resolvidos é conhecido como Ordem de Resolução de Método.\n"
   ]
  },
  {
   "cell_type": "markdown",
   "metadata": {},
   "source": [
    "## 5.3 O Problema do Diamante\n",
    "\n",
    "Considere o seguinte exemplo:\n",
    "\n",
    "<img src=\"figure3.png\">\n",
    "\n",
    "\n",
    "Vamos implementar o código da seguinte maneira:\n",
    "\n",
    "```python\n",
    "prog03.py\n",
    "1 class A:\n",
    "2 def m(self):\n",
    "3 print(\"m of A called\")\n",
    "4\n",
    "5\n",
    "6 class B(A):\n",
    "7 def m(self):\n",
    "8 print(\"m of B called\")\n",
    "9\n",
    "10\n",
    "11 class C(A):\n",
    "12 def m(self):\n",
    "13 print(\"m of C called\")\n",
    "14\n",
    "15\n",
    "16 class D(B, C):\n",
    "17 def m(self):\n",
    "18 print(\"m of D called\")\n",
    "19 B.m(self)\n",
    "20 C.m(self)\n",
    "21 A.m(self)\n",
    "22\n",
    "23\n",
    "24 def main():\n",
    "25 x = D()\n",
    "26 x.m()\n",
    "27\n",
    "28\n",
    "29 if __name__ == \"__main__\":\n",
    "30 main()\n",
    "```\n"
   ]
  },
  {
   "cell_type": "code",
   "execution_count": 6,
   "metadata": {},
   "outputs": [
    {
     "name": "stdout",
     "output_type": "stream",
     "text": [
      "m of D called\n",
      "m of B called\n",
      "m of C called\n",
      "m of A called\n"
     ]
    }
   ],
   "source": [
    "# prog03.py\n",
    "class A:\n",
    "    def m(self):\n",
    "        print(\"m of A called\")\n",
    "\n",
    "class B(A):\n",
    "    def m(self):\n",
    "        print(\"m of B called\")\n",
    "        \n",
    "class C(A):\n",
    "    def m(self):\n",
    "        print(\"m of C called\")\n",
    "class D(B, C):\n",
    "    def m(self):\n",
    "        print(\"m of D called\")\n",
    "        B.m(self)\n",
    "        C.m(self)\n",
    "        A.m(self)\n",
    "def main():\n",
    "    x = D()\n",
    "    x.m()\n",
    "    \n",
    "if __name__ == \"__main__\":\n",
    "    main()"
   ]
  },
  {
   "cell_type": "markdown",
   "metadata": {},
   "source": [
    "Funciona perfeitamente e o MRO funciona!"
   ]
  },
  {
   "cell_type": "markdown",
   "metadata": {},
   "source": [
    "No entanto, se quisermos invocar o método m () da classe A a partir do método m () das classes B e C como segue, então é um problema:\n",
    "\n",
    "```python\n",
    "prog04.py\n",
    "1 class A:\n",
    "2 def m(self):\n",
    "3 print(\"m of A called\")\n",
    "4\n",
    "5\n",
    "6 class B(A):\n",
    "7 def m(self):\n",
    "8 print(\"m of B called\")\n",
    "9\n",
    "10\n",
    "11 class C(A):\n",
    "12 def m(self):\n",
    "13 print(\"m of C called\")\n",
    "14\n",
    "15\n",
    "16 class D(B, C):\n",
    "17 def m(self):\n",
    "18 print(\"m of D called\")\n",
    "19 B.m(self)\n",
    "20 C.m(self)\n",
    "21 A.m(self)\n",
    "22\n",
    "23\n",
    "24 def main():\n",
    "25 x = D()\n",
    "26 x.m()\n",
    "27\n",
    "28\n",
    "29 if __name__ == \"__main__\":\n",
    "30 main()\n",
    "```\n",
    "\n",
    "O resultado é o seguinte:"
   ]
  },
  {
   "cell_type": "code",
   "execution_count": null,
   "metadata": {},
   "outputs": [],
   "source": []
  },
  {
   "cell_type": "markdown",
   "metadata": {},
   "source": [
    "Isso é conhecido como o problema do diamante.\n",
    "\n",
    "Queremos que m () da classe A seja chamado apenas uma vez. Precisamos mudar o código da seguinte maneira:\n",
    "\n",
    "```python\n",
    "prog04.py\n",
    "1 class A:\n",
    "2 def m(self):\n",
    "3 print(\"m of A called\")\n",
    "4\n",
    "5\n",
    "6 class B(A):\n",
    "7 def m(self):\n",
    "8 print(\"m of B called\")\n",
    "9 super().m()\n",
    "10\n",
    "11\n",
    "12 class C(A):\n",
    "13 def m(self):\n",
    "14 print(\"m of C called\")\n",
    "15 super().m()\n",
    "16\n",
    "17\n",
    "18 class D(B, C):\n",
    "19 def m(self):\n",
    "20 print(\"m of D called\")\n",
    "21 super().m()\n",
    "22\n",
    "23\n",
    "24 def main():\n",
    "25 x = D()\n",
    "26 x.m()\n",
    "27\n",
    "28\n",
    "29 if __name__ == \"__main__\":\n",
    "30 main()\n",
    "```\n",
    "O resultado é o seguinte:"
   ]
  },
  {
   "cell_type": "code",
   "execution_count": null,
   "metadata": {},
   "outputs": [],
   "source": []
  },
  {
   "cell_type": "markdown",
   "metadata": {},
   "source": [
    "Desta forma, se usarmos super (), o problema do diamante é resolvido de forma Pythônica."
   ]
  },
  {
   "cell_type": "markdown",
   "metadata": {},
   "source": [
    "## 5.4 Classe e método abstratos\n",
    "\n",
    "Uma classe cujo objeto não é criado é conhecida como classe abstrata. E um método que é declarado sem implementação é conhecido como método abstrato. Uma classe abstrata pode ou não ter um método abstrato. Em Python, tornamos explicitamente uma classe e um método abstratos. A classe abstrata só pode ser subclassificada. Em muitas situações, precisamos ter uma classe e métodos apenas para serem derivados e substituídos, respectivamente. O seguinte é um exemplo perfeito da vida real:\n",
    "\n",
    "```python\n",
    "prog05.py\n",
    "1 from abc import ABC, abstractmethod\n",
    "2\n",
    "3\n",
    "4 class Animal(ABC):\n",
    "5\n",
    "6 @abstractmethod\n",
    "7 def move(self):\n",
    "8 pass\n",
    "9\n",
    "10\n",
    "11 class Human(Animal):\n",
    "12\n",
    "13 def move(self):\n",
    "14 print(\"I Walk.\")\n",
    "15\n",
    "16\n",
    "17 class Snake(Animal):\n",
    "18\n",
    "19 def move(self):\n",
    "20 print(\"I Crawl.\")\n",
    "21\n",
    "22\n",
    "23 def main():\n",
    "24 a = Human()\n",
    "25 b = Snake()\n",
    "26 a.move()\n",
    "27 b.move()\n",
    "28\n",
    "29\n",
    "30 if __name__ == \"__main__\":\n",
    "31 main()\n",
    "```\n",
    "\n",
    "Para tornar uma classe abstrata explicitamente, precisamos derivá-la de uma classe interna ABC. Se quisermos tornar os métodos de uma classe abstratos explicitamente, use o decorador @abstractmethod com o método.\n",
    "\n",
    "Execute o código acima e veja o resultado."
   ]
  },
  {
   "cell_type": "code",
   "execution_count": null,
   "metadata": {},
   "outputs": [],
   "source": []
  },
  {
   "cell_type": "markdown",
   "metadata": {},
   "source": [
    "## 5.5 Modificadores de acesso em Python\n",
    "\n",
    "Em muitas linguagens de programação como C++ e Java, existe o conceito de Controle de Acesso para os membros das classes. Em Python, não existe uma medida estrita para controlar o acesso de um membro de fora da classe.\n",
    "\n",
    "\n",
    "Então, se você não quiser que um método ou variável de classe seja acessado de fora, você pode mencionar isso nas docstrings da classe. A outra maneira de deixar que outras pessoas saibam que não devem acessar uma variável ou um método feito para uso interno é prefixar a variável com sublinhado. A outra pessoa que está modificando o código ou o usando por meio de importação vai entender que a variável ou método é para o interno\n",
    "usarem apenas. No entanto, ele ainda pode acessá-lo de fora. A outra maneira de sugerir fortemente que outros não acessem a variável ou método de fora é usar o mecanismo de mutilação de nomes.\n",
    "Para fazer isso, temos que prefixar o método ou variável com um sublinhado duplo. Então, ele só pode ser acessado com uma sintaxe especial que é demonstrada no programa abaixo:\n",
    "\n",
    "```python\n",
    "prog06.py\n",
    "1 class A:\n",
    "2\n",
    "3 def __init__(self):\n",
    "4 self.a = \"Public\"\n",
    "5 self._b = \"Internal use\"\n",
    "6 self.__c = \"Name Mangling in action\"\n",
    "7\n",
    "8\n",
    "9 def main():\n",
    "10 x = A()\n",
    "11 print(x.a)\n",
    "12 print(x._b)\n",
    "13 print(x.__c)\n",
    "14\n",
    "15 if __name__ == \"__main__\":\n",
    "16 main()\n",
    "```\n"
   ]
  },
  {
   "cell_type": "code",
   "execution_count": null,
   "metadata": {},
   "outputs": [],
   "source": []
  },
  {
   "cell_type": "markdown",
   "metadata": {},
   "source": [
    "A saída exibe os valores para os primeiros dois atributos e para o terceiro atributo, ele exibe um erro que contém a mensagem\n",
    "\n",
    "```python\n",
    "1 AttributeError: 'A' object has no attribute '__c'\n",
    "```\n",
    "\n",
    "Para ver o valor do atributo __ c, faça as seguintes alterações no último print ():\n",
    "\n",
    "```python\n",
    "1 print(x._A__c)\n",
    "```\n",
    "\n",
    "O resultado é o seguinte:\n",
    "\n",
    "```python\n",
    "1 Public\n",
    "2 Internal use\n",
    "3 Name Mangling in action\n",
    "```"
   ]
  },
  {
   "cell_type": "code",
   "execution_count": null,
   "metadata": {},
   "outputs": [],
   "source": []
  },
  {
   "cell_type": "markdown",
   "metadata": {},
   "source": [
    "## 5.6 Conclusão\n",
    "\n",
    "Neste capítulo, estudamos e implementamos os conceitos avançados relacionados à herança em Python. No próximo capítulo, estudaremos o polimorfismo."
   ]
  },
  {
   "cell_type": "code",
   "execution_count": null,
   "metadata": {},
   "outputs": [],
   "source": []
  }
 ],
 "metadata": {
  "kernelspec": {
   "display_name": "Python 3",
   "language": "python",
   "name": "python3"
  },
  "language_info": {
   "codemirror_mode": {
    "name": "ipython",
    "version": 3
   },
   "file_extension": ".py",
   "mimetype": "text/x-python",
   "name": "python",
   "nbconvert_exporter": "python",
   "pygments_lexer": "ipython3",
   "version": "3.8.5"
  }
 },
 "nbformat": 4,
 "nbformat_minor": 4
}
