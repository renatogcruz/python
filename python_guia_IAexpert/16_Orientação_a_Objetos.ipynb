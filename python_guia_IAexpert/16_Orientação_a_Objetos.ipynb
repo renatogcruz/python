{
 "cells": [
  {
   "cell_type": "markdown",
   "metadata": {
    "id": "QlFTfgKfdo2h"
   },
   "source": [
    "# Orientação a Objetos\n",
    "\n",
    "[Pequeno manual](https://wiki.python.org.br/ProgramacaoOrientadaObjetoPython) traduzido de Estrutura de Dados e Algoritmos com Padrões de Projetos Orientado a Objeto em Python de Bruno R. Preiss identifica e descreve as características da linguagem de programação Python."
   ]
  },
  {
   "cell_type": "code",
   "execution_count": 2,
   "metadata": {
    "id": "6F0oISzgwJZx"
   },
   "outputs": [],
   "source": [
    "class Triangulo:\n",
    "  def __init__(self, lado1, lado2, lado3, base, altura):\n",
    "    self.lado1 = lado1\n",
    "    self.lado2 = lado2\n",
    "    self.lado3 = lado3\n",
    "    self.base = base\n",
    "    self.altura = altura\n",
    "  \n",
    "  def area(self):\n",
    "    return (self.base * self.altura) / 2\n",
    "\n",
    "  def tipo(self):\n",
    "    if self.lado1 > self.lado2 + self.lado3:\n",
    "      return 'não é um triângulo'\n",
    "    elif self.lado1 == self.lado2 or self.lado1 == self.lado3 or self.lado1 == self.lado2:\n",
    "      return 'triângulo isósceles'\n",
    "    else:\n",
    "      return 'outro tipo de triângulo'"
   ]
  },
  {
   "cell_type": "code",
   "execution_count": 3,
   "metadata": {
    "id": "SDq4Y5ZDwx8c"
   },
   "outputs": [],
   "source": [
    "# Triangulos(lado1, lado2, lado3, base, altura)\n",
    "\n",
    "t1 = Triangulo(5, 1, 3, 4, 3)"
   ]
  },
  {
   "cell_type": "code",
   "execution_count": 4,
   "metadata": {
    "colab": {
     "base_uri": "https://localhost:8080/",
     "height": 34
    },
    "id": "hq763UNxxApW",
    "outputId": "95449788-b2a6-421e-a73a-7a7d65a4f52a"
   },
   "outputs": [
    {
     "name": "stdout",
     "output_type": "stream",
     "text": [
      "5 1 3 4 3\n"
     ]
    }
   ],
   "source": [
    "print(t1.lado1, t1.lado2, t1.lado3, t1.base, t1.altura)"
   ]
  },
  {
   "cell_type": "code",
   "execution_count": 5,
   "metadata": {
    "colab": {
     "base_uri": "https://localhost:8080/",
     "height": 34
    },
    "id": "OzOP8kKPyKus",
    "outputId": "c549f734-a066-43f5-cba6-63aa005fbe41"
   },
   "outputs": [
    {
     "data": {
      "text/plain": [
       "6.0"
      ]
     },
     "execution_count": 5,
     "metadata": {},
     "output_type": "execute_result"
    }
   ],
   "source": [
    "t1.area()"
   ]
  },
  {
   "cell_type": "code",
   "execution_count": 6,
   "metadata": {
    "colab": {
     "base_uri": "https://localhost:8080/",
     "height": 35
    },
    "id": "YcGAuLMEzCx-",
    "outputId": "f2edf208-5a94-4754-b1d4-1c5f8baae536"
   },
   "outputs": [
    {
     "data": {
      "text/plain": [
       "'não é um triângulo'"
      ]
     },
     "execution_count": 6,
     "metadata": {},
     "output_type": "execute_result"
    }
   ],
   "source": [
    "t1.tipo()"
   ]
  },
  {
   "cell_type": "code",
   "execution_count": 7,
   "metadata": {
    "colab": {
     "base_uri": "https://localhost:8080/",
     "height": 34
    },
    "id": "3WRbsJ0sxJy-",
    "outputId": "1c2c2151-a5d0-4e8c-a9a8-36f366736e3d"
   },
   "outputs": [
    {
     "name": "stdout",
     "output_type": "stream",
     "text": [
      "8 8 8 16 9\n"
     ]
    }
   ],
   "source": [
    "t2 = Triangulo(8, 8, 8, 16, 9)\n",
    "\n",
    "print(t2.lado1, t2.lado2, t2.lado3, t2.base, t2.altura)"
   ]
  },
  {
   "cell_type": "code",
   "execution_count": 8,
   "metadata": {
    "colab": {
     "base_uri": "https://localhost:8080/",
     "height": 34
    },
    "id": "iBlImwTXyWry",
    "outputId": "d71c69e8-4287-4438-964f-a7e0c21b7205"
   },
   "outputs": [
    {
     "data": {
      "text/plain": [
       "72.0"
      ]
     },
     "execution_count": 8,
     "metadata": {},
     "output_type": "execute_result"
    }
   ],
   "source": [
    "t2.area()"
   ]
  },
  {
   "cell_type": "code",
   "execution_count": 9,
   "metadata": {
    "colab": {
     "base_uri": "https://localhost:8080/",
     "height": 35
    },
    "id": "K7aNze6dzG-8",
    "outputId": "c3a58066-a32c-44ec-b89b-2ac409824279"
   },
   "outputs": [
    {
     "data": {
      "text/plain": [
       "'triângulo isósceles'"
      ]
     },
     "execution_count": 9,
     "metadata": {},
     "output_type": "execute_result"
    }
   ],
   "source": [
    "t2.tipo()"
   ]
  },
  {
   "cell_type": "code",
   "execution_count": null,
   "metadata": {},
   "outputs": [],
   "source": []
  }
 ],
 "metadata": {
  "colab": {
   "collapsed_sections": [],
   "name": "Orientação a Objetos.ipynb",
   "provenance": []
  },
  "kernelspec": {
   "display_name": "Python 3",
   "language": "python",
   "name": "python3"
  },
  "language_info": {
   "codemirror_mode": {
    "name": "ipython",
    "version": 3
   },
   "file_extension": ".py",
   "mimetype": "text/x-python",
   "name": "python",
   "nbconvert_exporter": "python",
   "pygments_lexer": "ipython3",
   "version": "3.8.5"
  }
 },
 "nbformat": 4,
 "nbformat_minor": 1
}
