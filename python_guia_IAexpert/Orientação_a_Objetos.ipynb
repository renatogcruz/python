{
  "nbformat": 4,
  "nbformat_minor": 0,
  "metadata": {
    "colab": {
      "name": "Orientação a Objetos.ipynb",
      "provenance": [],
      "collapsed_sections": []
    },
    "kernelspec": {
      "name": "python3",
      "display_name": "Python 3"
    }
  },
  "cells": [
    {
      "cell_type": "markdown",
      "metadata": {
        "id": "QlFTfgKfdo2h"
      },
      "source": [
        "# Orientação a Objetos"
      ]
    },
    {
      "cell_type": "code",
      "metadata": {
        "id": "6F0oISzgwJZx"
      },
      "source": [
        "class Triangulo:\n",
        "  def __init__(self, lado1, lado2, lado3, base, altura):\n",
        "    self.lado1 = lado1\n",
        "    self.lado2 = lado2\n",
        "    self.lado3 = lado3\n",
        "    self.base = base\n",
        "    self.altura = altura\n",
        "  \n",
        "  def area(self):\n",
        "    return (self.base * self.altura) / 2\n",
        "\n",
        "  def tipo(self):\n",
        "    if self.lado1 > self.lado2 + self.lado3:\n",
        "      return 'não é um triângulo'\n",
        "    elif self.lado1 == self.lado2 or self.lado1 == self.lado3 or self.lado1 == self.lado2:\n",
        "      return 'triângulo isósceles'\n",
        "    else:\n",
        "      return 'outro tipo de triângulo'"
      ],
      "execution_count": null,
      "outputs": []
    },
    {
      "cell_type": "code",
      "metadata": {
        "id": "SDq4Y5ZDwx8c"
      },
      "source": [
        "t1 = Triangulo(5, 1, 3, 4, 3)"
      ],
      "execution_count": null,
      "outputs": []
    },
    {
      "cell_type": "code",
      "metadata": {
        "id": "hq763UNxxApW",
        "colab": {
          "base_uri": "https://localhost:8080/",
          "height": 34
        },
        "outputId": "95449788-b2a6-421e-a73a-7a7d65a4f52a"
      },
      "source": [
        "print(t1.lado1, t1.lado2, t1.lado3, t1.base, t1.altura)"
      ],
      "execution_count": null,
      "outputs": [
        {
          "output_type": "stream",
          "text": [
            "2 1 3 4 3\n"
          ],
          "name": "stdout"
        }
      ]
    },
    {
      "cell_type": "code",
      "metadata": {
        "id": "OzOP8kKPyKus",
        "colab": {
          "base_uri": "https://localhost:8080/",
          "height": 34
        },
        "outputId": "c549f734-a066-43f5-cba6-63aa005fbe41"
      },
      "source": [
        "t1.area()"
      ],
      "execution_count": null,
      "outputs": [
        {
          "output_type": "execute_result",
          "data": {
            "text/plain": [
              "6.0"
            ]
          },
          "metadata": {
            "tags": []
          },
          "execution_count": 23
        }
      ]
    },
    {
      "cell_type": "code",
      "metadata": {
        "id": "YcGAuLMEzCx-",
        "colab": {
          "base_uri": "https://localhost:8080/",
          "height": 35
        },
        "outputId": "f2edf208-5a94-4754-b1d4-1c5f8baae536"
      },
      "source": [
        "t1.tipo()"
      ],
      "execution_count": null,
      "outputs": [
        {
          "output_type": "execute_result",
          "data": {
            "application/vnd.google.colaboratory.intrinsic": {
              "type": "string"
            },
            "text/plain": [
              "'não é um triângulo'"
            ]
          },
          "metadata": {
            "tags": []
          },
          "execution_count": 29
        }
      ]
    },
    {
      "cell_type": "code",
      "metadata": {
        "id": "3WRbsJ0sxJy-",
        "colab": {
          "base_uri": "https://localhost:8080/",
          "height": 34
        },
        "outputId": "1c2c2151-a5d0-4e8c-a9a8-36f366736e3d"
      },
      "source": [
        "t2 = Triangulo(8, 8, 8, 16, 9)\n",
        "print(t2.lado1, t2.lado2, t2.lado3, t2.base, t2.altura)"
      ],
      "execution_count": null,
      "outputs": [
        {
          "output_type": "stream",
          "text": [
            "8 8 8 16 9\n"
          ],
          "name": "stdout"
        }
      ]
    },
    {
      "cell_type": "code",
      "metadata": {
        "id": "iBlImwTXyWry",
        "colab": {
          "base_uri": "https://localhost:8080/",
          "height": 34
        },
        "outputId": "d71c69e8-4287-4438-964f-a7e0c21b7205"
      },
      "source": [
        "t2.area()"
      ],
      "execution_count": null,
      "outputs": [
        {
          "output_type": "execute_result",
          "data": {
            "text/plain": [
              "72.0"
            ]
          },
          "metadata": {
            "tags": []
          },
          "execution_count": 26
        }
      ]
    },
    {
      "cell_type": "code",
      "metadata": {
        "id": "K7aNze6dzG-8",
        "colab": {
          "base_uri": "https://localhost:8080/",
          "height": 35
        },
        "outputId": "c3a58066-a32c-44ec-b89b-2ac409824279"
      },
      "source": [
        "t2.tipo()"
      ],
      "execution_count": null,
      "outputs": [
        {
          "output_type": "execute_result",
          "data": {
            "application/vnd.google.colaboratory.intrinsic": {
              "type": "string"
            },
            "text/plain": [
              "'triângulo isósceles'"
            ]
          },
          "metadata": {
            "tags": []
          },
          "execution_count": 27
        }
      ]
    }
  ]
}