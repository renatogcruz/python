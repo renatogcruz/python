{
  "nbformat": 4,
  "nbformat_minor": 0,
  "metadata": {
    "colab": {
      "name": "Expressões Regulares.ipynb",
      "provenance": [],
      "collapsed_sections": []
    },
    "kernelspec": {
      "name": "python3",
      "display_name": "Python 3"
    }
  },
  "cells": [
    {
      "cell_type": "markdown",
      "metadata": {
        "id": "WvOV4VN9sHvj"
      },
      "source": [
        "# Expressões regulares"
      ]
    },
    {
      "cell_type": "markdown",
      "metadata": {
        "id": "Nk_w40LW0itn"
      },
      "source": [
        "## Função search"
      ]
    },
    {
      "cell_type": "code",
      "metadata": {
        "id": "Aj1dc_c2uZDl"
      },
      "source": [
        "import re"
      ],
      "execution_count": null,
      "outputs": []
    },
    {
      "cell_type": "code",
      "metadata": {
        "id": "hFhDZWgGsKQO"
      },
      "source": [
        "frase = 'Olá, meu número de telefone é (42)00010-0000'"
      ],
      "execution_count": null,
      "outputs": []
    },
    {
      "cell_type": "code",
      "metadata": {
        "id": "qPnO9HmAReeL",
        "colab": {
          "base_uri": "https://localhost:8080/",
          "height": 34
        },
        "outputId": "b2fcbbbc-46a1-4bf1-83a4-55b6ef65251e"
      },
      "source": [
        "re.search('\\(\\d{2}\\)\\d{4,5}-\\d{4}', frase)"
      ],
      "execution_count": null,
      "outputs": [
        {
          "output_type": "execute_result",
          "data": {
            "text/plain": [
              "<_sre.SRE_Match object; span=(30, 44), match='(42)00010-0000'>"
            ]
          },
          "metadata": {
            "tags": []
          },
          "execution_count": 6
        }
      ]
    },
    {
      "cell_type": "code",
      "metadata": {
        "id": "LitwIAjDwRXM"
      },
      "source": [
        "frase = 'A placa de carro que eu anotei durante o acidente foi FrT-1998'"
      ],
      "execution_count": null,
      "outputs": []
    },
    {
      "cell_type": "code",
      "metadata": {
        "id": "Yy50jNO9SYU6",
        "colab": {
          "base_uri": "https://localhost:8080/",
          "height": 34
        },
        "outputId": "55e4e5a8-8e3d-41b6-fc50-10480adf5967"
      },
      "source": [
        "re.search('[A-Za-z]{3}-\\d{4}', frase)"
      ],
      "execution_count": null,
      "outputs": [
        {
          "output_type": "execute_result",
          "data": {
            "text/plain": [
              "<_sre.SRE_Match object; span=(54, 62), match='FrT-1998'>"
            ]
          },
          "metadata": {
            "tags": []
          },
          "execution_count": 12
        }
      ]
    },
    {
      "cell_type": "code",
      "metadata": {
        "id": "JZ9iXCw4w4o7"
      },
      "source": [
        "email = 'Entre em contato, meu email é teste@teste.com'"
      ],
      "execution_count": null,
      "outputs": []
    },
    {
      "cell_type": "code",
      "metadata": {
        "id": "Jf9J4PZYSv3_",
        "colab": {
          "base_uri": "https://localhost:8080/",
          "height": 34
        },
        "outputId": "8a3c0e84-1499-46bd-b43a-9ea831e88708"
      },
      "source": [
        "re.search('\\w+@\\w+\\.com', email)"
      ],
      "execution_count": null,
      "outputs": [
        {
          "output_type": "execute_result",
          "data": {
            "text/plain": [
              "<_sre.SRE_Match object; span=(30, 45), match='teste@teste.com'>"
            ]
          },
          "metadata": {
            "tags": []
          },
          "execution_count": 14
        }
      ]
    },
    {
      "cell_type": "markdown",
      "metadata": {
        "id": "wZziwezSxZNR"
      },
      "source": [
        "## Função match"
      ]
    },
    {
      "cell_type": "code",
      "metadata": {
        "id": "q2MZ-5urxep0"
      },
      "source": [
        "frase = 'A placa de carro que eu anotei durante a batida foi FRT-1998'"
      ],
      "execution_count": null,
      "outputs": []
    },
    {
      "cell_type": "code",
      "metadata": {
        "id": "esPXSYM6TMIt",
        "colab": {
          "base_uri": "https://localhost:8080/",
          "height": 34
        },
        "outputId": "45ad5f0c-956d-451b-8957-2e82bc0487a4"
      },
      "source": [
        "print(re.match('[A-Za-z]{3}-\\d{4}', frase))"
      ],
      "execution_count": null,
      "outputs": [
        {
          "output_type": "stream",
          "text": [
            "None\n"
          ],
          "name": "stdout"
        }
      ]
    },
    {
      "cell_type": "code",
      "metadata": {
        "id": "ahPvZA8Ax5E8"
      },
      "source": [
        "frase2 = 'FRT-1998 é a placa do carro'"
      ],
      "execution_count": null,
      "outputs": []
    },
    {
      "cell_type": "code",
      "metadata": {
        "id": "GgVEH8sjTVqh",
        "colab": {
          "base_uri": "https://localhost:8080/",
          "height": 34
        },
        "outputId": "ada9b2be-87d6-43b4-807b-b5a383a2c09f"
      },
      "source": [
        "print(re.match('[A-Za-z]{3}-\\d{4}', frase2))"
      ],
      "execution_count": null,
      "outputs": [
        {
          "output_type": "stream",
          "text": [
            "<_sre.SRE_Match object; span=(0, 8), match='FRT-1998'>\n"
          ],
          "name": "stdout"
        }
      ]
    },
    {
      "cell_type": "markdown",
      "metadata": {
        "id": "7OJHsCbkyzV6"
      },
      "source": [
        "## Função findall"
      ]
    },
    {
      "cell_type": "code",
      "metadata": {
        "id": "nAiqJkNJy-gs"
      },
      "source": [
        "frase3 = 'Meu número de telefone atual é (42)0000-0000. O número (56)1111-1111 é o antigo'"
      ],
      "execution_count": null,
      "outputs": []
    },
    {
      "cell_type": "code",
      "metadata": {
        "id": "7wUHKwFuTj9P",
        "colab": {
          "base_uri": "https://localhost:8080/",
          "height": 34
        },
        "outputId": "58fb0980-942e-4c89-d480-8528b47728a2"
      },
      "source": [
        "re.findall('\\(\\d{2}\\)\\d{4,5}-\\d{4}', frase3)"
      ],
      "execution_count": null,
      "outputs": [
        {
          "output_type": "execute_result",
          "data": {
            "text/plain": [
              "['(42)0000-0000', '(56)1111-1111']"
            ]
          },
          "metadata": {
            "tags": []
          },
          "execution_count": 21
        }
      ]
    },
    {
      "cell_type": "code",
      "metadata": {
        "id": "UwyR0ezBzkqj"
      },
      "source": [
        "emails = '''Nome: Teste 1\n",
        "email: teste1@teste.com\n",
        "Nome: Teste 2\n",
        "email: teste2@teste.com\n",
        "Nome: Teste 3\n",
        "email: teste3@teste.com.br\n",
        "'''"
      ],
      "execution_count": null,
      "outputs": []
    },
    {
      "cell_type": "code",
      "metadata": {
        "id": "-nGbc57NTvaT",
        "colab": {
          "base_uri": "https://localhost:8080/",
          "height": 34
        },
        "outputId": "2b742d70-5b71-4dd1-bd6b-87f650d58e3a"
      },
      "source": [
        "re.findall('\\w+@\\w+\\.\\w*', emails)"
      ],
      "execution_count": null,
      "outputs": [
        {
          "output_type": "execute_result",
          "data": {
            "text/plain": [
              "['teste1@teste.com', 'teste2@teste.com', 'teste3@teste.com']"
            ]
          },
          "metadata": {
            "tags": []
          },
          "execution_count": 24
        }
      ]
    }
  ]
}