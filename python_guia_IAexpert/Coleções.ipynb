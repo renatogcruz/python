{
  "nbformat": 4,
  "nbformat_minor": 0,
  "metadata": {
    "colab": {
      "name": "Coleções.ipynb",
      "provenance": [],
      "collapsed_sections": []
    },
    "kernelspec": {
      "name": "python3",
      "display_name": "Python 3"
    }
  },
  "cells": [
    {
      "cell_type": "markdown",
      "metadata": {
        "id": "--0h-g8oKeoy"
      },
      "source": [
        "# Coleções"
      ]
    },
    {
      "cell_type": "markdown",
      "metadata": {
        "id": "SeYvjhqqKg_c"
      },
      "source": [
        "## Tuplas"
      ]
    },
    {
      "cell_type": "code",
      "metadata": {
        "id": "3-eVcVkon0cf"
      },
      "source": [
        "tupla = ('Homo sapiens', 'Canis familiaris', 'Felis catus')"
      ],
      "execution_count": null,
      "outputs": []
    },
    {
      "cell_type": "code",
      "metadata": {
        "id": "MFQxX8UeoCM8",
        "colab": {
          "base_uri": "https://localhost:8080/",
          "height": 34
        },
        "outputId": "16b4d5fa-91cd-4f43-f85f-370ac3c51ec8"
      },
      "source": [
        "tupla"
      ],
      "execution_count": null,
      "outputs": [
        {
          "output_type": "execute_result",
          "data": {
            "text/plain": [
              "('Homo sapiens', 'Canis familiaris', 'Felis catus')"
            ]
          },
          "metadata": {
            "tags": []
          },
          "execution_count": 2
        }
      ]
    },
    {
      "cell_type": "code",
      "metadata": {
        "id": "EzVM_YO-oD4b",
        "colab": {
          "base_uri": "https://localhost:8080/",
          "height": 35
        },
        "outputId": "28ef4fa0-569d-4e31-82a6-1db2a6cff399"
      },
      "source": [
        "tupla[0]"
      ],
      "execution_count": null,
      "outputs": [
        {
          "output_type": "execute_result",
          "data": {
            "application/vnd.google.colaboratory.intrinsic": {
              "type": "string"
            },
            "text/plain": [
              "'Homo sapiens'"
            ]
          },
          "metadata": {
            "tags": []
          },
          "execution_count": 7
        }
      ]
    },
    {
      "cell_type": "code",
      "metadata": {
        "id": "Ppce8AdNoTK4",
        "colab": {
          "base_uri": "https://localhost:8080/",
          "height": 34
        },
        "outputId": "2d986126-50b1-4997-9ea6-d042130054f5"
      },
      "source": [
        "tupla.index('Canis familiaris')"
      ],
      "execution_count": null,
      "outputs": [
        {
          "output_type": "execute_result",
          "data": {
            "text/plain": [
              "1"
            ]
          },
          "metadata": {
            "tags": []
          },
          "execution_count": 9
        }
      ]
    },
    {
      "cell_type": "code",
      "metadata": {
        "id": "6d9gkoZyoZ-P",
        "colab": {
          "base_uri": "https://localhost:8080/",
          "height": 67
        },
        "outputId": "7e10d1e8-f232-4545-f73a-de9b4299b431"
      },
      "source": [
        "for elemento in tupla:\n",
        "  print(elemento)"
      ],
      "execution_count": null,
      "outputs": [
        {
          "output_type": "stream",
          "text": [
            "Homo sapiens\n",
            "Canis familiaris\n",
            "Felis catus\n"
          ],
          "name": "stdout"
        }
      ]
    },
    {
      "cell_type": "markdown",
      "metadata": {
        "id": "N7zPJp9PK5lw"
      },
      "source": [
        "## Listas"
      ]
    },
    {
      "cell_type": "code",
      "metadata": {
        "id": "5ytZczB2ommH"
      },
      "source": [
        "l1 = ['Homo sapiens', 'Canis familiaris', 'Felis catus']\n",
        "l2 = ['Xenopus laevis', 'Ailuropoda melanoleuca']"
      ],
      "execution_count": null,
      "outputs": []
    },
    {
      "cell_type": "code",
      "metadata": {
        "id": "19OHKWNIo2jN",
        "colab": {
          "base_uri": "https://localhost:8080/",
          "height": 34
        },
        "outputId": "216b883c-2d5d-4c42-ad8c-cb9281cd1b66"
      },
      "source": [
        "l3 = l1 + l2\n",
        "print(l3)"
      ],
      "execution_count": null,
      "outputs": [
        {
          "output_type": "stream",
          "text": [
            "['Homo sapiens', 'Canis familiaris', 'Felis catus', 'Xenopus laevis', 'Ailuropoda melanoleuca']\n"
          ],
          "name": "stdout"
        }
      ]
    },
    {
      "cell_type": "code",
      "metadata": {
        "id": "v4WmPWV6o-hz",
        "colab": {
          "base_uri": "https://localhost:8080/",
          "height": 34
        },
        "outputId": "a0c1a675-d0ba-498d-eee0-83d9bf2a4c0e"
      },
      "source": [
        "l2"
      ],
      "execution_count": null,
      "outputs": [
        {
          "output_type": "execute_result",
          "data": {
            "text/plain": [
              "['Xenopus laevis', 'Ailuropoda melanoleuca']"
            ]
          },
          "metadata": {
            "tags": []
          },
          "execution_count": 13
        }
      ]
    },
    {
      "cell_type": "code",
      "metadata": {
        "id": "SZR7YfLgpAua",
        "colab": {
          "base_uri": "https://localhost:8080/",
          "height": 34
        },
        "outputId": "b9b23014-e4a9-4de6-93af-b47f2e3bd309"
      },
      "source": [
        "l2_2 = l2 * 2\n",
        "print(l2_2)"
      ],
      "execution_count": null,
      "outputs": [
        {
          "output_type": "stream",
          "text": [
            "['Xenopus laevis', 'Ailuropoda melanoleuca', 'Xenopus laevis', 'Ailuropoda melanoleuca']\n"
          ],
          "name": "stdout"
        }
      ]
    },
    {
      "cell_type": "code",
      "metadata": {
        "id": "QZtjvcbQpNm3",
        "colab": {
          "base_uri": "https://localhost:8080/",
          "height": 35
        },
        "outputId": "9626576f-e4bd-4a06-bd48-74eb8d23954a"
      },
      "source": [
        "l1[0]"
      ],
      "execution_count": null,
      "outputs": [
        {
          "output_type": "execute_result",
          "data": {
            "application/vnd.google.colaboratory.intrinsic": {
              "type": "string"
            },
            "text/plain": [
              "'Homo sapiens'"
            ]
          },
          "metadata": {
            "tags": []
          },
          "execution_count": 17
        }
      ]
    },
    {
      "cell_type": "code",
      "metadata": {
        "id": "0lx0MiBmpQYQ",
        "colab": {
          "base_uri": "https://localhost:8080/",
          "height": 34
        },
        "outputId": "ae369cec-95fe-42a8-ee8f-12b2f575a83f"
      },
      "source": [
        "l1"
      ],
      "execution_count": null,
      "outputs": [
        {
          "output_type": "execute_result",
          "data": {
            "text/plain": [
              "['Homo sapiens', 'Canis familiaris', 'Felis catus']"
            ]
          },
          "metadata": {
            "tags": []
          },
          "execution_count": 18
        }
      ]
    },
    {
      "cell_type": "code",
      "metadata": {
        "id": "IyfdEzispSFx",
        "colab": {
          "base_uri": "https://localhost:8080/",
          "height": 34
        },
        "outputId": "82f5168a-0160-4963-cf24-230d3163e51f"
      },
      "source": [
        "l1[0:2]"
      ],
      "execution_count": null,
      "outputs": [
        {
          "output_type": "execute_result",
          "data": {
            "text/plain": [
              "['Homo sapiens', 'Canis familiaris']"
            ]
          },
          "metadata": {
            "tags": []
          },
          "execution_count": 19
        }
      ]
    },
    {
      "cell_type": "code",
      "metadata": {
        "id": "3WUtBPinpaet",
        "colab": {
          "base_uri": "https://localhost:8080/",
          "height": 34
        },
        "outputId": "8fe313bb-1f84-4268-eb8b-da65ff14e3bb"
      },
      "source": [
        "l1.append('Gorila gorila')\n",
        "print(l1)"
      ],
      "execution_count": null,
      "outputs": [
        {
          "output_type": "stream",
          "text": [
            "['Homo sapiens', 'Canis familiaris', 'Felis catus', 'Gorila gorila']\n"
          ],
          "name": "stdout"
        }
      ]
    },
    {
      "cell_type": "code",
      "metadata": {
        "id": "6ogEdtAupg8U",
        "colab": {
          "base_uri": "https://localhost:8080/",
          "height": 34
        },
        "outputId": "bf9d20b9-1b0c-422e-c7b8-402594ab5929"
      },
      "source": [
        "l1.remove('Felis catus')\n",
        "print(l1)"
      ],
      "execution_count": null,
      "outputs": [
        {
          "output_type": "stream",
          "text": [
            "['Homo sapiens', 'Canis familiaris', 'Gorila gorila']\n"
          ],
          "name": "stdout"
        }
      ]
    },
    {
      "cell_type": "code",
      "metadata": {
        "id": "CaO3BVMzpoi9"
      },
      "source": [
        "del(l1)"
      ],
      "execution_count": null,
      "outputs": []
    },
    {
      "cell_type": "code",
      "metadata": {
        "id": "aCi7FLacpqzS",
        "colab": {
          "base_uri": "https://localhost:8080/",
          "height": 162
        },
        "outputId": "051fe5e6-156f-4d4c-db72-8d0b76871a12"
      },
      "source": [
        "print(l1)"
      ],
      "execution_count": null,
      "outputs": [
        {
          "output_type": "error",
          "ename": "NameError",
          "evalue": "ignored",
          "traceback": [
            "\u001b[0;31m---------------------------------------------------------------------------\u001b[0m",
            "\u001b[0;31mNameError\u001b[0m                                 Traceback (most recent call last)",
            "\u001b[0;32m<ipython-input-23-9957399d2fc4>\u001b[0m in \u001b[0;36m<module>\u001b[0;34m()\u001b[0m\n\u001b[0;32m----> 1\u001b[0;31m \u001b[0mprint\u001b[0m\u001b[0;34m(\u001b[0m\u001b[0ml1\u001b[0m\u001b[0;34m)\u001b[0m\u001b[0;34m\u001b[0m\u001b[0;34m\u001b[0m\u001b[0m\n\u001b[0m",
            "\u001b[0;31mNameError\u001b[0m: name 'l1' is not defined"
          ]
        }
      ]
    },
    {
      "cell_type": "code",
      "metadata": {
        "id": "6GqeZMgVpt3A",
        "colab": {
          "base_uri": "https://localhost:8080/",
          "height": 84
        },
        "outputId": "ca482bc5-2aa6-43d8-83d3-19f3c8ad3c5e"
      },
      "source": [
        "for item in l2_2:\n",
        "  print(item)"
      ],
      "execution_count": null,
      "outputs": [
        {
          "output_type": "stream",
          "text": [
            "Xenopus laevis\n",
            "Ailuropoda melanoleuca\n",
            "Xenopus laevis\n",
            "Ailuropoda melanoleuca\n"
          ],
          "name": "stdout"
        }
      ]
    },
    {
      "cell_type": "markdown",
      "metadata": {
        "id": "Spv86wNVLwTr"
      },
      "source": [
        "## Dicionários"
      ]
    },
    {
      "cell_type": "code",
      "metadata": {
        "id": "Q4A9zcJQqOLl"
      },
      "source": [
        "coleta = {'Aedes aegypt': 32, 'Aedes albopictus': 22, 'Anopheles darlingi': 14}"
      ],
      "execution_count": null,
      "outputs": []
    },
    {
      "cell_type": "code",
      "metadata": {
        "id": "H0TG_BU-qqYB",
        "colab": {
          "base_uri": "https://localhost:8080/",
          "height": 34
        },
        "outputId": "41f2d2c0-6ffe-4bc8-ba90-c48a7418779c"
      },
      "source": [
        "coleta['Aedes aegypt']"
      ],
      "execution_count": null,
      "outputs": [
        {
          "output_type": "execute_result",
          "data": {
            "text/plain": [
              "32"
            ]
          },
          "metadata": {
            "tags": []
          },
          "execution_count": 26
        }
      ]
    },
    {
      "cell_type": "code",
      "metadata": {
        "id": "G0Ik3zllq03-"
      },
      "source": [
        "coleta['Rhodnius montenegrensis'] = 11"
      ],
      "execution_count": null,
      "outputs": []
    },
    {
      "cell_type": "code",
      "metadata": {
        "id": "LShnTPgOrBIP",
        "colab": {
          "base_uri": "https://localhost:8080/",
          "height": 34
        },
        "outputId": "16e0424e-2431-4611-8dcc-e1db314b00c2"
      },
      "source": [
        "print(coleta)"
      ],
      "execution_count": null,
      "outputs": [
        {
          "output_type": "stream",
          "text": [
            "{'Aedes aegypt': 32, 'Aedes albopictus': 22, 'Anopheles darlingi': 14, 'Rhodnius montenegrensis': 11}\n"
          ],
          "name": "stdout"
        }
      ]
    },
    {
      "cell_type": "code",
      "metadata": {
        "id": "3zyhSKk4rFxe",
        "colab": {
          "base_uri": "https://localhost:8080/",
          "height": 34
        },
        "outputId": "06de2c7a-567d-43ea-c1f4-5c201c50634e"
      },
      "source": [
        "del(coleta)['Aedes albopictus']\n",
        "print(coleta)"
      ],
      "execution_count": null,
      "outputs": [
        {
          "output_type": "stream",
          "text": [
            "{'Aedes aegypt': 32, 'Anopheles darlingi': 14, 'Rhodnius montenegrensis': 11}\n"
          ],
          "name": "stdout"
        }
      ]
    },
    {
      "cell_type": "code",
      "metadata": {
        "id": "aQf7FunQrPBl",
        "colab": {
          "base_uri": "https://localhost:8080/",
          "height": 34
        },
        "outputId": "6aafb2c9-56c3-4116-d779-5adb0325eb8a"
      },
      "source": [
        "coleta.items()"
      ],
      "execution_count": null,
      "outputs": [
        {
          "output_type": "execute_result",
          "data": {
            "text/plain": [
              "dict_items([('Aedes aegypt', 32), ('Anopheles darlingi', 14), ('Rhodnius montenegrensis', 11)])"
            ]
          },
          "metadata": {
            "tags": []
          },
          "execution_count": 31
        }
      ]
    },
    {
      "cell_type": "code",
      "metadata": {
        "id": "rBbmf65jrVf6",
        "colab": {
          "base_uri": "https://localhost:8080/",
          "height": 34
        },
        "outputId": "88896c3b-f24d-4250-b9fd-91fd08f27e15"
      },
      "source": [
        "coleta.keys()"
      ],
      "execution_count": null,
      "outputs": [
        {
          "output_type": "execute_result",
          "data": {
            "text/plain": [
              "dict_keys(['Aedes aegypt', 'Anopheles darlingi', 'Rhodnius montenegrensis'])"
            ]
          },
          "metadata": {
            "tags": []
          },
          "execution_count": 32
        }
      ]
    },
    {
      "cell_type": "code",
      "metadata": {
        "id": "49PWs_oJrbHg",
        "colab": {
          "base_uri": "https://localhost:8080/",
          "height": 34
        },
        "outputId": "b678f2b9-19d0-403d-ff1f-fce1441b813e"
      },
      "source": [
        "coleta.values()"
      ],
      "execution_count": null,
      "outputs": [
        {
          "output_type": "execute_result",
          "data": {
            "text/plain": [
              "dict_values([32, 14, 11])"
            ]
          },
          "metadata": {
            "tags": []
          },
          "execution_count": 33
        }
      ]
    },
    {
      "cell_type": "code",
      "metadata": {
        "id": "1XQe0WHGrgoC",
        "colab": {
          "base_uri": "https://localhost:8080/",
          "height": 34
        },
        "outputId": "0a26b1e4-b8dc-40f3-b855-b12628221811"
      },
      "source": [
        "coleta2 = {'Anopheles gambiae': 13, 'Anopheles deaneorum': 14}\n",
        "print(coleta2)"
      ],
      "execution_count": null,
      "outputs": [
        {
          "output_type": "stream",
          "text": [
            "{'Anopheles gambiae': 13, 'Anopheles deaneorum': 14}\n"
          ],
          "name": "stdout"
        }
      ]
    },
    {
      "cell_type": "code",
      "metadata": {
        "id": "ZH7Mfel7ruCP",
        "colab": {
          "base_uri": "https://localhost:8080/",
          "height": 54
        },
        "outputId": "8570e943-04ef-4192-f5e0-bd852e5413c2"
      },
      "source": [
        "coleta.update(coleta2)\n",
        "print(coleta)"
      ],
      "execution_count": null,
      "outputs": [
        {
          "output_type": "stream",
          "text": [
            "{'Aedes aegypt': 32, 'Anopheles darlingi': 14, 'Rhodnius montenegrensis': 11, 'Anopheles gambiae': 13, 'Anopheles deaneorum': 14}\n"
          ],
          "name": "stdout"
        }
      ]
    },
    {
      "cell_type": "code",
      "metadata": {
        "id": "oeJdD_--r1sc",
        "colab": {
          "base_uri": "https://localhost:8080/",
          "height": 54
        },
        "outputId": "2d835706-7877-4c2f-bf7c-85dff6258f01"
      },
      "source": [
        "coleta.items()"
      ],
      "execution_count": null,
      "outputs": [
        {
          "output_type": "execute_result",
          "data": {
            "text/plain": [
              "dict_items([('Aedes aegypt', 32), ('Anopheles darlingi', 14), ('Rhodnius montenegrensis', 11), ('Anopheles gambiae', 13), ('Anopheles deaneorum', 14)])"
            ]
          },
          "metadata": {
            "tags": []
          },
          "execution_count": 36
        }
      ]
    },
    {
      "cell_type": "code",
      "metadata": {
        "id": "JheAqSC7r5YB",
        "colab": {
          "base_uri": "https://localhost:8080/",
          "height": 101
        },
        "outputId": "3044bb1d-7ca3-4270-e4ed-c3ae071f9d70"
      },
      "source": [
        "for especie, num_especimes in coleta.items():\n",
        "  print(f'Espécie: {especie}, número de espécimes coletados: {num_especimes}')"
      ],
      "execution_count": null,
      "outputs": [
        {
          "output_type": "stream",
          "text": [
            "Espécie: Aedes aegypt, número de espécimes coletados: 32\n",
            "Espécie: Anopheles darlingi, número de espécimes coletados: 14\n",
            "Espécie: Rhodnius montenegrensis, número de espécimes coletados: 11\n",
            "Espécie: Anopheles gambiae, número de espécimes coletados: 13\n",
            "Espécie: Anopheles deaneorum, número de espécimes coletados: 14\n"
          ],
          "name": "stdout"
        }
      ]
    },
    {
      "cell_type": "markdown",
      "metadata": {
        "id": "u-3CMPGCMN_C"
      },
      "source": [
        "## Conjuntos (set)"
      ]
    },
    {
      "cell_type": "code",
      "metadata": {
        "id": "-g-6mwxHsW2L"
      },
      "source": [
        "biomeleculas = ('proteína', 'ácidos nucleicos', 'carboidrato', 'lipídeo',\n",
        "                'ácidos nucleicos', 'carboidrato', 'carboidrato', 'carboidrato')"
      ],
      "execution_count": null,
      "outputs": []
    },
    {
      "cell_type": "code",
      "metadata": {
        "id": "GawdhDILsuDp",
        "colab": {
          "base_uri": "https://localhost:8080/",
          "height": 54
        },
        "outputId": "18cd5972-0559-40d0-c04c-5eecb829ee5d"
      },
      "source": [
        "print(biomeleculas)"
      ],
      "execution_count": null,
      "outputs": [
        {
          "output_type": "stream",
          "text": [
            "('proteína', 'ácidos nucleicos', 'carboidrato', 'lipídeo', 'ácidos nucleicos', 'carboidrato', 'carboidrato', 'carboidrato')\n"
          ],
          "name": "stdout"
        }
      ]
    },
    {
      "cell_type": "code",
      "metadata": {
        "id": "wU8POR0WsxEK",
        "colab": {
          "base_uri": "https://localhost:8080/",
          "height": 34
        },
        "outputId": "f1c28257-86ae-41de-ebe9-61541452d815"
      },
      "source": [
        "print(set(biomeleculas))"
      ],
      "execution_count": null,
      "outputs": [
        {
          "output_type": "stream",
          "text": [
            "{'ácidos nucleicos', 'carboidrato', 'lipídeo', 'proteína'}\n"
          ],
          "name": "stdout"
        }
      ]
    },
    {
      "cell_type": "code",
      "metadata": {
        "id": "ap6l5QldtB1l"
      },
      "source": [
        "c1 = {1,2,3,4,5}\n",
        "c2 = {3,4,5,6,7}\n",
        "c3 = c1.intersection(c2)"
      ],
      "execution_count": null,
      "outputs": []
    },
    {
      "cell_type": "code",
      "metadata": {
        "id": "JT7ip_ZntTHv",
        "colab": {
          "base_uri": "https://localhost:8080/",
          "height": 34
        },
        "outputId": "01921c12-8a6a-41d8-cdfe-d6bd2ac78e52"
      },
      "source": [
        "print(c3)"
      ],
      "execution_count": null,
      "outputs": [
        {
          "output_type": "stream",
          "text": [
            "{3, 4, 5}\n"
          ],
          "name": "stdout"
        }
      ]
    },
    {
      "cell_type": "code",
      "metadata": {
        "id": "eOycG2G9tdR9",
        "colab": {
          "base_uri": "https://localhost:8080/",
          "height": 34
        },
        "outputId": "d7348c0a-a0f3-4625-c351-7ea6cc692cf2"
      },
      "source": [
        "c1.difference(c2)"
      ],
      "execution_count": null,
      "outputs": [
        {
          "output_type": "execute_result",
          "data": {
            "text/plain": [
              "{1, 2}"
            ]
          },
          "metadata": {
            "tags": []
          },
          "execution_count": 43
        }
      ]
    },
    {
      "cell_type": "code",
      "metadata": {
        "id": "inpYEBhHtl51",
        "colab": {
          "base_uri": "https://localhost:8080/",
          "height": 34
        },
        "outputId": "fc59117c-162a-4395-d013-ceb92d630051"
      },
      "source": [
        "c2.difference(c1)"
      ],
      "execution_count": null,
      "outputs": [
        {
          "output_type": "execute_result",
          "data": {
            "text/plain": [
              "{6, 7}"
            ]
          },
          "metadata": {
            "tags": []
          },
          "execution_count": 44
        }
      ]
    }
  ]
}