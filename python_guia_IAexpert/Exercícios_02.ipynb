{
 "cells": [
  {
   "cell_type": "markdown",
   "metadata": {},
   "source": [
    "# Exercícios - parte 02"
   ]
  },
  {
   "cell_type": "markdown",
   "metadata": {},
   "source": [
    "1 - Leia a idade do usuário e classifique-o em:\n",
    "\n",
    "- Criança – 0 a 12 anos;\n",
    "- Adolescente – 13 a 17 anos;\n",
    "- Adulto – acima de 18 anos;\n",
    "- Se o usuário digitar um número negativo, mostrar a mensagem que a idade é inválida."
   ]
  },
  {
   "cell_type": "code",
   "execution_count": 3,
   "metadata": {},
   "outputs": [
    {
     "name": "stdout",
     "output_type": "stream",
     "text": [
      "Entre com a idade: 20\n",
      "Adulto\n"
     ]
    }
   ],
   "source": [
    "# entrada\n",
    "idade = int(input(\"Entre com a idade: \"))\n",
    "\n",
    "# processamento\n",
    "if idade <= 12:\n",
    "    print(\"Criança\")\n",
    "elif idade <= 17:\n",
    "    print(\"Adolecente\")\n",
    "else:\n",
    "    print(\"Adulto\")"
   ]
  },
  {
   "cell_type": "markdown",
   "metadata": {},
   "source": [
    "2 - Calcular a média de um aluno que cursou a disciplina de Programação I, a partir da leitura das notas M1, M2 e M3; passando por um cálculo da média aritmética. Após a média calculada, devemos anunciar se o aluno foi aprovado, reprovado ou pegou exame\n",
    "- Se a média estiver entre 0.0 e 4.0, o aluno está reprovado\n",
    "- Se a média estiver entre 4.1 e 6.0, o aluno pegou exame\n",
    "- Se a média for maior do que 6.0, o aluno está aprovado\n",
    "- Se o aluno pegou exame, deve ser lida a nota do exame. Se a nota do exame for maior do que 6.0, está aprovado, senão; está reprovado"
   ]
  },
  {
   "cell_type": "code",
   "execution_count": 8,
   "metadata": {},
   "outputs": [
    {
     "name": "stdout",
     "output_type": "stream",
     "text": [
      "Entre com a nota 1: 5.5\n",
      "Entre com a nota 2: 6.0\n",
      "Entre com a nota 3: 4.8\n",
      "Exame\n",
      "Entre com nota do exame: 6.1\n",
      "Aprovado\n"
     ]
    }
   ],
   "source": [
    "# entrada\n",
    "m1 = float(input(\"Entre com a nota 1: \"))\n",
    "m2 = float(input(\"Entre com a nota 2: \"))\n",
    "m3 = float(input(\"Entre com a nota 3: \"))\n",
    "\n",
    "# processamento\n",
    "media = (m1 + m2 + m3) / 3\n",
    "\n",
    "if media <= 4.0:\n",
    "    print(\"Reprovado\")\n",
    "else:\n",
    "    if media <= 6.0:\n",
    "        print(\"Exame\")\n",
    "        nota_exame = float(input(\"Entre com nota do exame: \"))\n",
    "        if nota_exame > 6.0:\n",
    "            print(\"Aprovado\")\n",
    "        else:\n",
    "            print(\"Reprovado\")\n",
    "    else:\n",
    "        print(\"Aprovado\")\n",
    "    "
   ]
  },
  {
   "cell_type": "code",
   "execution_count": null,
   "metadata": {},
   "outputs": [],
   "source": []
  }
 ],
 "metadata": {
  "kernelspec": {
   "display_name": "Python 3",
   "language": "python",
   "name": "python3"
  },
  "language_info": {
   "codemirror_mode": {
    "name": "ipython",
    "version": 3
   },
   "file_extension": ".py",
   "mimetype": "text/x-python",
   "name": "python",
   "nbconvert_exporter": "python",
   "pygments_lexer": "ipython3",
   "version": "3.8.5"
  }
 },
 "nbformat": 4,
 "nbformat_minor": 4
}
