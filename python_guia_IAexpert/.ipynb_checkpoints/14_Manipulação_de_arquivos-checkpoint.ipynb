{
 "cells": [
  {
   "cell_type": "markdown",
   "metadata": {
    "id": "2mwCD5b1rYff"
   },
   "source": [
    "# Manipulação de arquivos"
   ]
  },
  {
   "cell_type": "code",
   "execution_count": 4,
   "metadata": {
    "colab": {
     "base_uri": "https://localhost:8080/",
     "height": 134
    },
    "id": "ArTonogGOsJn",
    "outputId": "912ce7b7-0714-48ae-faa6-b0de776815fa"
   },
   "outputs": [
    {
     "name": "stdout",
     "output_type": "stream",
     "text": [
      "Este arquivo eh um teste para a aula 14 \n",
      "\n",
      "\n",
      "\n",
      "\n",
      "\n",
      "Vamos ver como funciona?\n"
     ]
    }
   ],
   "source": [
    "# lendo um arquivo\n",
    "\n",
    "with open('frase1.txt', 'r') as tex:\n",
    "  for linha in tex:\n",
    "    print(linha)"
   ]
  },
  {
   "cell_type": "code",
   "execution_count": 5,
   "metadata": {
    "id": "wcWclSzJPFIL"
   },
   "outputs": [],
   "source": [
    "with open('frase1.txt') as tex:\n",
    "  r = tex.readlines()"
   ]
  },
  {
   "cell_type": "code",
   "execution_count": 6,
   "metadata": {
    "colab": {
     "base_uri": "https://localhost:8080/",
     "height": 84
    },
    "id": "U3uJreD9PLvj",
    "outputId": "6f3c3a76-72d9-44ec-f780-488d2c285f98"
   },
   "outputs": [
    {
     "data": {
      "text/plain": [
       "['Este arquivo eh um teste para a aula 14 \\n',\n",
       " '\\n',\n",
       " '\\n',\n",
       " 'Vamos ver como funciona?']"
      ]
     },
     "execution_count": 6,
     "metadata": {},
     "output_type": "execute_result"
    }
   ],
   "source": [
    "r"
   ]
  },
  {
   "cell_type": "code",
   "execution_count": 7,
   "metadata": {
    "id": "6dq9eo69PWrb"
   },
   "outputs": [],
   "source": [
    "# escrevendo em um arquivo\n",
    "\n",
    "with open('texto2.txt', 'w') as texto:\n",
    "  texto.write('Olá a todos')"
   ]
  },
  {
   "cell_type": "code",
   "execution_count": 9,
   "metadata": {
    "colab": {
     "base_uri": "https://localhost:8080/",
     "height": 34
    },
    "id": "NdKoO4PoPvzP",
    "outputId": "a33f6b2c-fb66-49d6-eb4c-6da648e0c678"
   },
   "outputs": [
    {
     "name": "stdout",
     "output_type": "stream",
     "text": [
      "Olá a todos\n"
     ]
    }
   ],
   "source": [
    "with open('texto2.txt', 'r') as tex:\n",
    "  for linha in tex:\n",
    "    print(linha)"
   ]
  },
  {
   "cell_type": "code",
   "execution_count": null,
   "metadata": {},
   "outputs": [],
   "source": []
  }
 ],
 "metadata": {
  "colab": {
   "collapsed_sections": [],
   "name": "Manipulação de arquivos.ipynb",
   "provenance": []
  },
  "kernelspec": {
   "display_name": "Python 3",
   "language": "python",
   "name": "python3"
  },
  "language_info": {
   "codemirror_mode": {
    "name": "ipython",
    "version": 3
   },
   "file_extension": ".py",
   "mimetype": "text/x-python",
   "name": "python",
   "nbconvert_exporter": "python",
   "pygments_lexer": "ipython3",
   "version": "3.8.5"
  }
 },
 "nbformat": 4,
 "nbformat_minor": 1
}
