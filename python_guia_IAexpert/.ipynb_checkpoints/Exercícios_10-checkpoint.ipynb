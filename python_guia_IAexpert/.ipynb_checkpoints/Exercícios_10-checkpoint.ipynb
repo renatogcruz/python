{
 "cells": [
  {
   "cell_type": "markdown",
   "metadata": {},
   "source": [
    "1 - Crie uma classe chamada aluno com os seguintes atributos:\n",
    "- Nome\n",
    "- Nota 1\n",
    "- Nota 2\n",
    "- Crie um construtor para a classe (__init__)\n"
   ]
  },
  {
   "cell_type": "markdown",
   "metadata": {},
   "source": [
    "2 - Crie as seguintes funções (métodos):\n",
    "- Calcula média, retornando a média aritmética entre as notas\n",
    "- Mostra dados, que somente imprime o valor de todos os atributos\n",
    "- Resultado, que verifica se o aluno está aprovado ou reprovado (se a média for maior ou igual a 6.0, o aluno está aprovado)\n"
   ]
  },
  {
   "cell_type": "code",
   "execution_count": 7,
   "metadata": {},
   "outputs": [],
   "source": [
    "class Aluno:\n",
    "    def __init__(self, nome, nota1, nota2, media = 0):\n",
    "        self.nome = nome\n",
    "        self.nota1 = nota1\n",
    "        self.nota2 = nota2\n",
    "        #self.media = 0\n",
    "        \n",
    "    def media(self):\n",
    "        return print(f\"A média é de {(self.nota1 + self.nota2) / 2}\")        \n",
    "    \n",
    "    def dados(self):\n",
    "        print(f\"Aluno: {self.nome}\")\n",
    "        print(f\"Nota 1 = {self.nota1}\")\n",
    "        print(f\"Nota 2 = {self.nota2}\")\n",
    "    \n",
    "    def resultado(self):\n",
    "        if (self.nota1 + self.nota2) / 2 >= 6.0:\n",
    "            return 'Aprovado'\n",
    "        else:\n",
    "            return 'Reprovado'\n",
    "    "
   ]
  },
  {
   "cell_type": "markdown",
   "metadata": {},
   "source": [
    "3 - Crie dois objetos (aluno1 e aluno2) e teste as funções\n"
   ]
  },
  {
   "cell_type": "code",
   "execution_count": 10,
   "metadata": {},
   "outputs": [
    {
     "name": "stdout",
     "output_type": "stream",
     "text": [
      "A média é de 9.0\n",
      "Aluno: Renato\n",
      "Nota 1 = 10\n",
      "Nota 2 = 8.0\n"
     ]
    },
    {
     "data": {
      "text/plain": [
       "'Aprovado'"
      ]
     },
     "execution_count": 10,
     "metadata": {},
     "output_type": "execute_result"
    }
   ],
   "source": [
    "aluno1 = Aluno('Renato', 10, 8.0)\n",
    "\n",
    "aluno1.media()\n",
    "aluno1.dados()\n",
    "aluno1.resultado()"
   ]
  },
  {
   "cell_type": "code",
   "execution_count": 11,
   "metadata": {},
   "outputs": [
    {
     "name": "stdout",
     "output_type": "stream",
     "text": [
      "A média é de 8.65\n",
      "Aluno: Bia\n",
      "Nota 1 = 9.5\n",
      "Nota 2 = 7.8\n"
     ]
    },
    {
     "data": {
      "text/plain": [
       "'Aprovado'"
      ]
     },
     "execution_count": 11,
     "metadata": {},
     "output_type": "execute_result"
    }
   ],
   "source": [
    "aluno2 = Aluno('Bia', 9.5, 7.8)\n",
    "\n",
    "aluno2.media()\n",
    "aluno2.dados()\n",
    "aluno2.resultado()"
   ]
  },
  {
   "cell_type": "code",
   "execution_count": null,
   "metadata": {},
   "outputs": [],
   "source": []
  }
 ],
 "metadata": {
  "kernelspec": {
   "display_name": "Python 3",
   "language": "python",
   "name": "python3"
  },
  "language_info": {
   "codemirror_mode": {
    "name": "ipython",
    "version": 3
   },
   "file_extension": ".py",
   "mimetype": "text/x-python",
   "name": "python",
   "nbconvert_exporter": "python",
   "pygments_lexer": "ipython3",
   "version": "3.8.5"
  }
 },
 "nbformat": 4,
 "nbformat_minor": 4
}
