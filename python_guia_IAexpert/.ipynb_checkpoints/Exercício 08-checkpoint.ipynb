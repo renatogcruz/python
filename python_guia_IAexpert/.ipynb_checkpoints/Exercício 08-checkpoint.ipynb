{
 "cells": [
  {
   "cell_type": "markdown",
   "metadata": {},
   "source": [
    "1 - Considerando o dicionário com o nome dos alunos e suas respectivas notas abaixo, crie uma estrutura de repetição para percorrer cada elemento do dicionário para gravar cada aluno em um novo arquivo de texto\n",
    "\n",
    "- Cada aluno deve ocupar uma linha do novo arquivo de texto\n",
    "- O formato deve ser: nome,nota (Pedro,8.0)\n",
    "- Após a criação do arquivo de texto, faça a leitura do arquivo e mostre todos os alunos\n",
    "\n",
    "\n",
    "```\n",
    "alunos = {'Pedro': 8.0, 'Maria': 10.0, 'Amilton': 7.5}\n",
    "```"
   ]
  },
  {
   "cell_type": "code",
   "execution_count": 22,
   "metadata": {},
   "outputs": [],
   "source": [
    "alunos = {'Pedro': 8.0, 'Maria': 10.0, 'Amilton': 7.5}\n",
    "\n",
    "with open('notas.txt', 'w') as texto:\n",
    "    #texto.write('testando')    \n",
    "    for key in alunos:\n",
    "        texto.write(f'{key}, {alunos[key]}\\n')"
   ]
  },
  {
   "cell_type": "code",
   "execution_count": 23,
   "metadata": {},
   "outputs": [
    {
     "name": "stdout",
     "output_type": "stream",
     "text": [
      "Pedro, 8.0\n",
      "\n",
      "Maria, 10.0\n",
      "\n",
      "Amilton, 7.5\n",
      "\n"
     ]
    }
   ],
   "source": [
    "with open('notas.txt', 'r') as tex:\n",
    "  for linha in tex:\n",
    "    print(linha)"
   ]
  },
  {
   "cell_type": "code",
   "execution_count": null,
   "metadata": {},
   "outputs": [],
   "source": []
  }
 ],
 "metadata": {
  "kernelspec": {
   "display_name": "Python 3",
   "language": "python",
   "name": "python3"
  },
  "language_info": {
   "codemirror_mode": {
    "name": "ipython",
    "version": 3
   },
   "file_extension": ".py",
   "mimetype": "text/x-python",
   "name": "python",
   "nbconvert_exporter": "python",
   "pygments_lexer": "ipython3",
   "version": "3.8.5"
  }
 },
 "nbformat": 4,
 "nbformat_minor": 4
}
