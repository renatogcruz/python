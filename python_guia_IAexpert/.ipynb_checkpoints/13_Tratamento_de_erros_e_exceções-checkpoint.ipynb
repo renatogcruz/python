{
 "cells": [
  {
   "cell_type": "markdown",
   "metadata": {
    "id": "OsYdsrx-AVXI"
   },
   "source": [
    "# Tratamento de erros e exceções\n",
    "\n",
    "- NameError: variável nao foi definida\n",
    "- TypeError: tipos de dados incompatíveis\n",
    "- RuntimeError: erro de execução\n",
    "- SyntaxError: sintaxe digitada é inválida e não reconhecida pelo interpretador\n",
    "- ZeroDivisionError: divisão por zero\n",
    "- IndexError: índice está fora da coleção\n",
    "- IdentationError: erro no nível de identação\n",
    "- KeyError: quando tentamos acessar um dicionário com uma chave que não existe\n",
    "- ValuerError: quando retornamos um valor invalido para um input"
   ]
  },
  {
   "cell_type": "markdown",
   "metadata": {
    "id": "KbZb4vz2A60r"
   },
   "source": [
    "## Tipos de erros"
   ]
  },
  {
   "cell_type": "code",
   "execution_count": 12,
   "metadata": {
    "colab": {
     "base_uri": "https://localhost:8080/",
     "height": 129
    },
    "id": "hp9etY5yJd96",
    "outputId": "9ee68ef9-a542-4789-d638-4aeb5beadb55"
   },
   "outputs": [
    {
     "ename": "SyntaxError",
     "evalue": "cannot assign to literal (<ipython-input-12-effb9ca1a7d0>, line 1)",
     "output_type": "error",
     "traceback": [
      "\u001b[1;36m  File \u001b[1;32m\"<ipython-input-12-effb9ca1a7d0>\"\u001b[1;36m, line \u001b[1;32m1\u001b[0m\n\u001b[1;33m    3 = 4\u001b[0m\n\u001b[1;37m    ^\u001b[0m\n\u001b[1;31mSyntaxError\u001b[0m\u001b[1;31m:\u001b[0m cannot assign to literal\n"
     ]
    }
   ],
   "source": [
    "3 = 4"
   ]
  },
  {
   "cell_type": "code",
   "execution_count": 14,
   "metadata": {},
   "outputs": [
    {
     "data": {
      "text/plain": [
       "True"
      ]
     },
     "execution_count": 14,
     "metadata": {},
     "output_type": "execute_result"
    }
   ],
   "source": [
    "# talvez a tentativa acima seria algo como isso:\n",
    "\n",
    "a = 3\n",
    "a = 4\n",
    "\n",
    "# ou\n",
    "\n",
    "3 == 4\n",
    "3 != 4"
   ]
  },
  {
   "cell_type": "code",
   "execution_count": 15,
   "metadata": {
    "colab": {
     "base_uri": "https://localhost:8080/",
     "height": 162
    },
    "id": "mCQ_Mh0eJqr_",
    "outputId": "aefbdd06-77d6-439f-e1c6-38ccdab16d65"
   },
   "outputs": [
    {
     "ename": "NameError",
     "evalue": "name 'nome' is not defined",
     "output_type": "error",
     "traceback": [
      "\u001b[1;31m---------------------------------------------------------------------------\u001b[0m",
      "\u001b[1;31mNameError\u001b[0m                                 Traceback (most recent call last)",
      "\u001b[1;32m<ipython-input-15-8814f7563975>\u001b[0m in \u001b[0;36m<module>\u001b[1;34m\u001b[0m\n\u001b[1;32m----> 1\u001b[1;33m \u001b[0mprint\u001b[0m\u001b[1;33m(\u001b[0m\u001b[1;34m'Meu nome é'\u001b[0m\u001b[1;33m,\u001b[0m \u001b[0mnome\u001b[0m\u001b[1;33m)\u001b[0m\u001b[1;33m\u001b[0m\u001b[1;33m\u001b[0m\u001b[0m\n\u001b[0m",
      "\u001b[1;31mNameError\u001b[0m: name 'nome' is not defined"
     ]
    }
   ],
   "source": [
    "print('Meu nome é', nome)"
   ]
  },
  {
   "cell_type": "code",
   "execution_count": 16,
   "metadata": {
    "colab": {
     "base_uri": "https://localhost:8080/",
     "height": 162
    },
    "id": "22w4IFw5Ko_F",
    "outputId": "cece9dcf-d778-4969-c3ff-5025db60633d"
   },
   "outputs": [
    {
     "ename": "ZeroDivisionError",
     "evalue": "division by zero",
     "output_type": "error",
     "traceback": [
      "\u001b[1;31m---------------------------------------------------------------------------\u001b[0m",
      "\u001b[1;31mZeroDivisionError\u001b[0m                         Traceback (most recent call last)",
      "\u001b[1;32m<ipython-input-16-76ea80225931>\u001b[0m in \u001b[0;36m<module>\u001b[1;34m\u001b[0m\n\u001b[1;32m----> 1\u001b[1;33m \u001b[0mprint\u001b[0m\u001b[1;33m(\u001b[0m\u001b[1;36m3\u001b[0m \u001b[1;33m/\u001b[0m \u001b[1;36m0\u001b[0m\u001b[1;33m)\u001b[0m\u001b[1;33m\u001b[0m\u001b[1;33m\u001b[0m\u001b[0m\n\u001b[0m",
      "\u001b[1;31mZeroDivisionError\u001b[0m: division by zero"
     ]
    }
   ],
   "source": [
    "print(3 / 0)"
   ]
  },
  {
   "cell_type": "code",
   "execution_count": 17,
   "metadata": {
    "colab": {
     "base_uri": "https://localhost:8080/",
     "height": 162
    },
    "id": "JmgQ2wwpKtQP",
    "outputId": "118ce78c-7991-418b-fc22-a7d0e6544a39"
   },
   "outputs": [
    {
     "ename": "TypeError",
     "evalue": "unsupported operand type(s) for /: 'float' and 'str'",
     "output_type": "error",
     "traceback": [
      "\u001b[1;31m---------------------------------------------------------------------------\u001b[0m",
      "\u001b[1;31mTypeError\u001b[0m                                 Traceback (most recent call last)",
      "\u001b[1;32m<ipython-input-17-48ef6fd474fe>\u001b[0m in \u001b[0;36m<module>\u001b[1;34m\u001b[0m\n\u001b[1;32m----> 1\u001b[1;33m \u001b[1;36m2.3\u001b[0m \u001b[1;33m/\u001b[0m \u001b[1;34m'cachorro'\u001b[0m\u001b[1;33m\u001b[0m\u001b[1;33m\u001b[0m\u001b[0m\n\u001b[0m",
      "\u001b[1;31mTypeError\u001b[0m: unsupported operand type(s) for /: 'float' and 'str'"
     ]
    }
   ],
   "source": [
    "2.3 / 'cachorro'"
   ]
  },
  {
   "cell_type": "code",
   "execution_count": 18,
   "metadata": {
    "colab": {
     "base_uri": "https://localhost:8080/",
     "height": 34
    },
    "id": "wxEz8YKiK0Ow",
    "outputId": "99bcb82c-ac9e-46af-9f28-99a52fa598f7"
   },
   "outputs": [
    {
     "data": {
      "text/plain": [
       "[1, 2, 3, 4, 5]"
      ]
     },
     "execution_count": 18,
     "metadata": {},
     "output_type": "execute_result"
    }
   ],
   "source": [
    "c = [1, 2, 3, 4, 5]\n",
    "c"
   ]
  },
  {
   "cell_type": "code",
   "execution_count": 19,
   "metadata": {
    "colab": {
     "base_uri": "https://localhost:8080/",
     "height": 162
    },
    "id": "ZelNQlEQK33g",
    "outputId": "fe684837-be1e-4948-b4d0-f3ab3479b065"
   },
   "outputs": [
    {
     "ename": "IndexError",
     "evalue": "list index out of range",
     "output_type": "error",
     "traceback": [
      "\u001b[1;31m---------------------------------------------------------------------------\u001b[0m",
      "\u001b[1;31mIndexError\u001b[0m                                Traceback (most recent call last)",
      "\u001b[1;32m<ipython-input-19-513c54dffebd>\u001b[0m in \u001b[0;36m<module>\u001b[1;34m\u001b[0m\n\u001b[1;32m----> 1\u001b[1;33m \u001b[0mc\u001b[0m\u001b[1;33m[\u001b[0m\u001b[1;36m5\u001b[0m\u001b[1;33m]\u001b[0m\u001b[1;33m\u001b[0m\u001b[1;33m\u001b[0m\u001b[0m\n\u001b[0m",
      "\u001b[1;31mIndexError\u001b[0m: list index out of range"
     ]
    }
   ],
   "source": [
    "c[5]"
   ]
  },
  {
   "cell_type": "code",
   "execution_count": 20,
   "metadata": {},
   "outputs": [
    {
     "data": {
      "text/plain": [
       "5"
      ]
     },
     "execution_count": 20,
     "metadata": {},
     "output_type": "execute_result"
    }
   ],
   "source": [
    "# não existe indice 5, pq\n",
    "\n",
    "len(c) # 0, 1, 2, 3, 4 = 5 valores"
   ]
  },
  {
   "cell_type": "markdown",
   "metadata": {
    "id": "JlSXNf2BA9VJ"
   },
   "source": [
    "## Tratamento de erros"
   ]
  },
  {
   "cell_type": "code",
   "execution_count": 21,
   "metadata": {
    "colab": {
     "base_uri": "https://localhost:8080/",
     "height": 50
    },
    "id": "UZpDQGWMLDsI",
    "outputId": "1a2849e7-8566-4cf8-e144-139d00433320"
   },
   "outputs": [
    {
     "name": "stdout",
     "output_type": "stream",
     "text": [
      "Digite um número inteiro: iii\n",
      "Valor inválido\n"
     ]
    }
   ],
   "source": [
    "try:\n",
    "  n = int(input('Digite um número inteiro: '))\n",
    "except:                    # se n capturar alguma exceção\n",
    "  print('Valor inválido')\n",
    "else:                      # caso não haja excessção\n",
    "  print(f'Valor digitado é {n}')"
   ]
  },
  {
   "cell_type": "code",
   "execution_count": 22,
   "metadata": {
    "colab": {
     "base_uri": "https://localhost:8080/",
     "height": 118
    },
    "id": "nMjA8PPuLtt0",
    "outputId": "b6cfa823-f94f-4a72-9018-79b4b124bd9e"
   },
   "outputs": [
    {
     "name": "stdout",
     "output_type": "stream",
     "text": [
      "Digite um número inteiro: iii\n",
      "Valor inválido\n",
      "Digite um número inteiro: ooo\n",
      "Valor inválido\n",
      "Digite um número inteiro: ppp\n",
      "Valor inválido\n",
      "Digite um número inteiro: 123\n",
      "Valor digitado é 123\n"
     ]
    }
   ],
   "source": [
    "while True:\n",
    "  try:\n",
    "    n = int(input('Digite um número inteiro: '))\n",
    "  except:\n",
    "    print('Valor inválido')\n",
    "  else:\n",
    "    print(f'Valor digitado é {n}')\n",
    "    break"
   ]
  },
  {
   "cell_type": "code",
   "execution_count": 23,
   "metadata": {
    "colab": {
     "base_uri": "https://localhost:8080/",
     "height": 74
    },
    "id": "UHlExDgoMK6Z",
    "outputId": "716dee60-3532-4a4f-c13f-d52fee7ee12c"
   },
   "outputs": [
    {
     "name": "stdout",
     "output_type": "stream",
     "text": [
      "Digite um número inteiroiii\n",
      "Valor inválido\n",
      "Digite um número inteiroooo\n",
      "Valor inválido\n",
      "Digite um número inteiroppp\n",
      "Valor inválido\n",
      "Usuário interrompeu a execução\n",
      "Digite um número inteiro10\n"
     ]
    }
   ],
   "source": [
    "while True:\n",
    "  try:\n",
    "    p = int(input('Digite um número inteiro'))\n",
    "  except ValueError:\n",
    "    print('Valor inválido')\n",
    "  except KeyboardInterrupt:                      # quando o usuário interrompe esta execução\n",
    "    print('Usuário interrompeu a execução')\n",
    "    break\n",
    "  else:\n",
    "    print(f'Valor digitado é {p}')\n",
    "    break"
   ]
  },
  {
   "cell_type": "code",
   "execution_count": null,
   "metadata": {},
   "outputs": [],
   "source": []
  }
 ],
 "metadata": {
  "colab": {
   "collapsed_sections": [],
   "name": "Tratamento de erros e exceções.ipynb",
   "provenance": []
  },
  "kernelspec": {
   "display_name": "Python 3",
   "language": "python",
   "name": "python3"
  },
  "language_info": {
   "codemirror_mode": {
    "name": "ipython",
    "version": 3
   },
   "file_extension": ".py",
   "mimetype": "text/x-python",
   "name": "python",
   "nbconvert_exporter": "python",
   "pygments_lexer": "ipython3",
   "version": "3.8.5"
  }
 },
 "nbformat": 4,
 "nbformat_minor": 1
}
