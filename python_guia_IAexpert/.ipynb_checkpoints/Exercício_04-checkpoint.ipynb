{
 "cells": [
  {
   "cell_type": "markdown",
   "metadata": {},
   "source": [
    "# Exercícios parte 04"
   ]
  },
  {
   "cell_type": "markdown",
   "metadata": {},
   "source": [
    "1 - Lista: Crie uma estrutura de repetição para fazer a leitura de 5 números inteiros e os armazene dentro de uma lista. Após a leitura, crie outra estrutura de repetição para somar todos os valores digitados"
   ]
  },
  {
   "cell_type": "code",
   "execution_count": 2,
   "metadata": {},
   "outputs": [
    {
     "name": "stdout",
     "output_type": "stream",
     "text": [
      "Entre com valor: 1\n",
      "Entre com valor: 2\n",
      "Entre com valor: 3\n",
      "Entre com valor: 5\n",
      "Entre com valor: 4\n",
      "[1, 2, 3, 5, 4]\n"
     ]
    }
   ],
   "source": [
    "lista = []\n",
    "\n",
    "for i in range (5):\n",
    "    valor = int(input(\"Entre com valor: \"))\n",
    "    lista.append(valor)\n",
    "\n",
    "print(lista)"
   ]
  },
  {
   "cell_type": "markdown",
   "metadata": {},
   "source": [
    "2 - Dicionário: Crie um dicionário para armazenar o nome e a nota de 3 alunos, fazendo a leitura dos valores por meio de uma estrutura de repetição. Depois, crie uma nova estrutura de repetição para somar todas as notas e retornar a média"
   ]
  },
  {
   "cell_type": "code",
   "execution_count": 6,
   "metadata": {},
   "outputs": [
    {
     "name": "stdout",
     "output_type": "stream",
     "text": [
      "Entre com o nome: Bia\n",
      "Entre com a nota: 89\n",
      "Entre com o nome: Ana\n",
      "Entre com a nota: 78\n",
      "Entre com o nome: Bela\n",
      "Entre com a nota: 95\n",
      "{'Bia': 89, 'Ana': 78, 'Bela': 95}\n"
     ]
    }
   ],
   "source": [
    "dic = {}\n",
    "aluno = 1\n",
    "\n",
    "\n",
    "while aluno <= 3:\n",
    "    nome = str(input(\"Entre com o nome: \"))\n",
    "    nota = int(input(\"Entre com a nota: \"))\n",
    "    dic[nome] = nota\n",
    "    aluno += 1\n",
    "    \n",
    "print(dic)\n"
   ]
  },
  {
   "cell_type": "markdown",
   "metadata": {},
   "source": [
    "3 - Matriz: Dada a matriz abaixo, construa uma estrutura de repetição para percorrer e somar todos os elementos da matriz\n",
    "\n",
    "```\n",
    "matriz = np.array([[3, 4, 1],\n",
    "                   [3, 1, 5]])\n",
    "```"
   ]
  },
  {
   "cell_type": "code",
   "execution_count": 10,
   "metadata": {},
   "outputs": [],
   "source": [
    "import numpy as np"
   ]
  },
  {
   "cell_type": "code",
   "execution_count": 11,
   "metadata": {},
   "outputs": [],
   "source": [
    "matriz = np.array([[3, 4, 1],\n",
    "                   [3, 1, 5]])"
   ]
  },
  {
   "cell_type": "code",
   "execution_count": 13,
   "metadata": {},
   "outputs": [
    {
     "data": {
      "text/plain": [
       "array([[3, 4, 1],\n",
       "       [3, 1, 5]])"
      ]
     },
     "execution_count": 13,
     "metadata": {},
     "output_type": "execute_result"
    }
   ],
   "source": [
    "matriz"
   ]
  },
  {
   "cell_type": "code",
   "execution_count": 14,
   "metadata": {},
   "outputs": [
    {
     "data": {
      "text/plain": [
       "(2, 3)"
      ]
     },
     "execution_count": 14,
     "metadata": {},
     "output_type": "execute_result"
    }
   ],
   "source": [
    "matriz.shape"
   ]
  },
  {
   "cell_type": "code",
   "execution_count": 16,
   "metadata": {},
   "outputs": [
    {
     "name": "stdout",
     "output_type": "stream",
     "text": [
      "3\n",
      "4\n",
      "1\n",
      "3\n",
      "1\n",
      "5\n"
     ]
    }
   ],
   "source": [
    "for i in range(matriz.shape[0]):\n",
    "  for j in range(matriz.shape[1]):\n",
    "    print(matriz[i][j])         "
   ]
  },
  {
   "cell_type": "code",
   "execution_count": null,
   "metadata": {},
   "outputs": [],
   "source": []
  }
 ],
 "metadata": {
  "kernelspec": {
   "display_name": "Python 3",
   "language": "python",
   "name": "python3"
  },
  "language_info": {
   "codemirror_mode": {
    "name": "ipython",
    "version": 3
   },
   "file_extension": ".py",
   "mimetype": "text/x-python",
   "name": "python",
   "nbconvert_exporter": "python",
   "pygments_lexer": "ipython3",
   "version": "3.8.5"
  }
 },
 "nbformat": 4,
 "nbformat_minor": 4
}
