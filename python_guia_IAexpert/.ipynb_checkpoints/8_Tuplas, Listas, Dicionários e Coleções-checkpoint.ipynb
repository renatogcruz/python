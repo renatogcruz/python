{
 "cells": [
  {
   "cell_type": "markdown",
   "metadata": {
    "id": "--0h-g8oKeoy"
   },
   "source": [
    "# Coleções"
   ]
  },
  {
   "cell_type": "markdown",
   "metadata": {
    "id": "SeYvjhqqKg_c"
   },
   "source": [
    "## Tuplas"
   ]
  },
  {
   "cell_type": "code",
   "execution_count": 1,
   "metadata": {
    "id": "3-eVcVkon0cf"
   },
   "outputs": [],
   "source": [
    "tupla = ('Homo sapiens', 'Canis familiaris', 'Felis catus')"
   ]
  },
  {
   "cell_type": "code",
   "execution_count": 2,
   "metadata": {
    "colab": {
     "base_uri": "https://localhost:8080/",
     "height": 34
    },
    "id": "MFQxX8UeoCM8",
    "outputId": "16b4d5fa-91cd-4f43-f85f-370ac3c51ec8"
   },
   "outputs": [
    {
     "data": {
      "text/plain": [
       "('Homo sapiens', 'Canis familiaris', 'Felis catus')"
      ]
     },
     "execution_count": 2,
     "metadata": {},
     "output_type": "execute_result"
    }
   ],
   "source": [
    "tupla"
   ]
  },
  {
   "cell_type": "code",
   "execution_count": 3,
   "metadata": {
    "colab": {
     "base_uri": "https://localhost:8080/",
     "height": 35
    },
    "id": "EzVM_YO-oD4b",
    "outputId": "28ef4fa0-569d-4e31-82a6-1db2a6cff399"
   },
   "outputs": [
    {
     "data": {
      "text/plain": [
       "'Homo sapiens'"
      ]
     },
     "execution_count": 3,
     "metadata": {},
     "output_type": "execute_result"
    }
   ],
   "source": [
    "tupla[0]"
   ]
  },
  {
   "cell_type": "code",
   "execution_count": 4,
   "metadata": {
    "colab": {
     "base_uri": "https://localhost:8080/",
     "height": 34
    },
    "id": "Ppce8AdNoTK4",
    "outputId": "2d986126-50b1-4997-9ea6-d042130054f5"
   },
   "outputs": [
    {
     "data": {
      "text/plain": [
       "1"
      ]
     },
     "execution_count": 4,
     "metadata": {},
     "output_type": "execute_result"
    }
   ],
   "source": [
    "tupla.index('Canis familiaris')"
   ]
  },
  {
   "cell_type": "code",
   "execution_count": 5,
   "metadata": {
    "colab": {
     "base_uri": "https://localhost:8080/",
     "height": 67
    },
    "id": "6d9gkoZyoZ-P",
    "outputId": "7e10d1e8-f232-4545-f73a-de9b4299b431"
   },
   "outputs": [
    {
     "name": "stdout",
     "output_type": "stream",
     "text": [
      "Homo sapiens\n",
      "Canis familiaris\n",
      "Felis catus\n"
     ]
    }
   ],
   "source": [
    "for elemento in tupla:\n",
    "  print(elemento)"
   ]
  },
  {
   "cell_type": "markdown",
   "metadata": {
    "id": "N7zPJp9PK5lw"
   },
   "source": [
    "## Listas"
   ]
  },
  {
   "cell_type": "code",
   "execution_count": 6,
   "metadata": {
    "id": "5ytZczB2ommH"
   },
   "outputs": [],
   "source": [
    "l1 = ['Homo sapiens', 'Canis familiaris', 'Felis catus']\n",
    "l2 = ['Xenopus laevis', 'Ailuropoda melanoleuca']"
   ]
  },
  {
   "cell_type": "code",
   "execution_count": 7,
   "metadata": {
    "colab": {
     "base_uri": "https://localhost:8080/",
     "height": 34
    },
    "id": "19OHKWNIo2jN",
    "outputId": "216b883c-2d5d-4c42-ad8c-cb9281cd1b66"
   },
   "outputs": [
    {
     "name": "stdout",
     "output_type": "stream",
     "text": [
      "['Homo sapiens', 'Canis familiaris', 'Felis catus', 'Xenopus laevis', 'Ailuropoda melanoleuca']\n"
     ]
    }
   ],
   "source": [
    "l3 = l1 + l2\n",
    "print(l3)"
   ]
  },
  {
   "cell_type": "code",
   "execution_count": 8,
   "metadata": {
    "colab": {
     "base_uri": "https://localhost:8080/",
     "height": 34
    },
    "id": "v4WmPWV6o-hz",
    "outputId": "a0c1a675-d0ba-498d-eee0-83d9bf2a4c0e"
   },
   "outputs": [
    {
     "data": {
      "text/plain": [
       "['Xenopus laevis', 'Ailuropoda melanoleuca']"
      ]
     },
     "execution_count": 8,
     "metadata": {},
     "output_type": "execute_result"
    }
   ],
   "source": [
    "l2"
   ]
  },
  {
   "cell_type": "code",
   "execution_count": 9,
   "metadata": {
    "colab": {
     "base_uri": "https://localhost:8080/",
     "height": 34
    },
    "id": "SZR7YfLgpAua",
    "outputId": "b9b23014-e4a9-4de6-93af-b47f2e3bd309"
   },
   "outputs": [
    {
     "name": "stdout",
     "output_type": "stream",
     "text": [
      "['Xenopus laevis', 'Ailuropoda melanoleuca', 'Xenopus laevis', 'Ailuropoda melanoleuca']\n"
     ]
    }
   ],
   "source": [
    "l2_2 = l2 * 2\n",
    "print(l2_2)"
   ]
  },
  {
   "cell_type": "code",
   "execution_count": 10,
   "metadata": {
    "colab": {
     "base_uri": "https://localhost:8080/",
     "height": 35
    },
    "id": "QZtjvcbQpNm3",
    "outputId": "9626576f-e4bd-4a06-bd48-74eb8d23954a"
   },
   "outputs": [
    {
     "data": {
      "text/plain": [
       "'Homo sapiens'"
      ]
     },
     "execution_count": 10,
     "metadata": {},
     "output_type": "execute_result"
    }
   ],
   "source": [
    "l1[0]"
   ]
  },
  {
   "cell_type": "code",
   "execution_count": 11,
   "metadata": {
    "colab": {
     "base_uri": "https://localhost:8080/",
     "height": 34
    },
    "id": "0lx0MiBmpQYQ",
    "outputId": "ae369cec-95fe-42a8-ee8f-12b2f575a83f"
   },
   "outputs": [
    {
     "data": {
      "text/plain": [
       "['Homo sapiens', 'Canis familiaris', 'Felis catus']"
      ]
     },
     "execution_count": 11,
     "metadata": {},
     "output_type": "execute_result"
    }
   ],
   "source": [
    "l1"
   ]
  },
  {
   "cell_type": "code",
   "execution_count": 12,
   "metadata": {
    "colab": {
     "base_uri": "https://localhost:8080/",
     "height": 34
    },
    "id": "IyfdEzispSFx",
    "outputId": "82f5168a-0160-4963-cf24-230d3163e51f"
   },
   "outputs": [
    {
     "data": {
      "text/plain": [
       "['Homo sapiens', 'Canis familiaris']"
      ]
     },
     "execution_count": 12,
     "metadata": {},
     "output_type": "execute_result"
    }
   ],
   "source": [
    "l1[0:2]"
   ]
  },
  {
   "cell_type": "code",
   "execution_count": 13,
   "metadata": {
    "colab": {
     "base_uri": "https://localhost:8080/",
     "height": 34
    },
    "id": "3WUtBPinpaet",
    "outputId": "8fe313bb-1f84-4268-eb8b-da65ff14e3bb"
   },
   "outputs": [
    {
     "name": "stdout",
     "output_type": "stream",
     "text": [
      "['Homo sapiens', 'Canis familiaris', 'Felis catus', 'Gorila gorila']\n"
     ]
    }
   ],
   "source": [
    "l1.append('Gorila gorila')\n",
    "print(l1)"
   ]
  },
  {
   "cell_type": "code",
   "execution_count": 14,
   "metadata": {
    "colab": {
     "base_uri": "https://localhost:8080/",
     "height": 34
    },
    "id": "6ogEdtAupg8U",
    "outputId": "bf9d20b9-1b0c-422e-c7b8-402594ab5929"
   },
   "outputs": [
    {
     "name": "stdout",
     "output_type": "stream",
     "text": [
      "['Homo sapiens', 'Canis familiaris', 'Gorila gorila']\n"
     ]
    }
   ],
   "source": [
    "l1.remove('Felis catus')\n",
    "print(l1)"
   ]
  },
  {
   "cell_type": "code",
   "execution_count": 15,
   "metadata": {
    "id": "CaO3BVMzpoi9"
   },
   "outputs": [],
   "source": [
    "del(l1)"
   ]
  },
  {
   "cell_type": "code",
   "execution_count": 16,
   "metadata": {
    "colab": {
     "base_uri": "https://localhost:8080/",
     "height": 162
    },
    "id": "aCi7FLacpqzS",
    "outputId": "051fe5e6-156f-4d4c-db72-8d0b76871a12"
   },
   "outputs": [
    {
     "ename": "NameError",
     "evalue": "name 'l1' is not defined",
     "output_type": "error",
     "traceback": [
      "\u001b[1;31m---------------------------------------------------------------------------\u001b[0m",
      "\u001b[1;31mNameError\u001b[0m                                 Traceback (most recent call last)",
      "\u001b[1;32m<ipython-input-16-9957399d2fc4>\u001b[0m in \u001b[0;36m<module>\u001b[1;34m\u001b[0m\n\u001b[1;32m----> 1\u001b[1;33m \u001b[0mprint\u001b[0m\u001b[1;33m(\u001b[0m\u001b[0ml1\u001b[0m\u001b[1;33m)\u001b[0m\u001b[1;33m\u001b[0m\u001b[1;33m\u001b[0m\u001b[0m\n\u001b[0m",
      "\u001b[1;31mNameError\u001b[0m: name 'l1' is not defined"
     ]
    }
   ],
   "source": [
    "print(l1)"
   ]
  },
  {
   "cell_type": "code",
   "execution_count": 17,
   "metadata": {
    "colab": {
     "base_uri": "https://localhost:8080/",
     "height": 84
    },
    "id": "6GqeZMgVpt3A",
    "outputId": "ca482bc5-2aa6-43d8-83d3-19f3c8ad3c5e"
   },
   "outputs": [
    {
     "name": "stdout",
     "output_type": "stream",
     "text": [
      "Xenopus laevis\n",
      "Ailuropoda melanoleuca\n",
      "Xenopus laevis\n",
      "Ailuropoda melanoleuca\n"
     ]
    }
   ],
   "source": [
    "for item in l2_2:\n",
    "  print(item)"
   ]
  },
  {
   "cell_type": "markdown",
   "metadata": {
    "id": "Spv86wNVLwTr"
   },
   "source": [
    "## Dicionários"
   ]
  },
  {
   "cell_type": "code",
   "execution_count": 18,
   "metadata": {
    "id": "Q4A9zcJQqOLl"
   },
   "outputs": [],
   "source": [
    "coleta = {'Aedes aegypt': 32, 'Aedes albopictus': 22, 'Anopheles darlingi': 14}"
   ]
  },
  {
   "cell_type": "code",
   "execution_count": 19,
   "metadata": {
    "colab": {
     "base_uri": "https://localhost:8080/",
     "height": 34
    },
    "id": "H0TG_BU-qqYB",
    "outputId": "41f2d2c0-6ffe-4bc8-ba90-c48a7418779c"
   },
   "outputs": [
    {
     "data": {
      "text/plain": [
       "32"
      ]
     },
     "execution_count": 19,
     "metadata": {},
     "output_type": "execute_result"
    }
   ],
   "source": [
    "coleta['Aedes aegypt']"
   ]
  },
  {
   "cell_type": "code",
   "execution_count": 20,
   "metadata": {
    "id": "G0Ik3zllq03-"
   },
   "outputs": [],
   "source": [
    "coleta['Rhodnius montenegrensis'] = 11"
   ]
  },
  {
   "cell_type": "code",
   "execution_count": 21,
   "metadata": {
    "colab": {
     "base_uri": "https://localhost:8080/",
     "height": 34
    },
    "id": "LShnTPgOrBIP",
    "outputId": "16e0424e-2431-4611-8dcc-e1db314b00c2"
   },
   "outputs": [
    {
     "name": "stdout",
     "output_type": "stream",
     "text": [
      "{'Aedes aegypt': 32, 'Aedes albopictus': 22, 'Anopheles darlingi': 14, 'Rhodnius montenegrensis': 11}\n"
     ]
    }
   ],
   "source": [
    "print(coleta)"
   ]
  },
  {
   "cell_type": "code",
   "execution_count": 22,
   "metadata": {
    "colab": {
     "base_uri": "https://localhost:8080/",
     "height": 34
    },
    "id": "3zyhSKk4rFxe",
    "outputId": "06de2c7a-567d-43ea-c1f4-5c201c50634e"
   },
   "outputs": [
    {
     "name": "stdout",
     "output_type": "stream",
     "text": [
      "{'Aedes aegypt': 32, 'Anopheles darlingi': 14, 'Rhodnius montenegrensis': 11}\n"
     ]
    }
   ],
   "source": [
    "del(coleta)['Aedes albopictus']\n",
    "print(coleta)"
   ]
  },
  {
   "cell_type": "code",
   "execution_count": 23,
   "metadata": {
    "colab": {
     "base_uri": "https://localhost:8080/",
     "height": 34
    },
    "id": "aQf7FunQrPBl",
    "outputId": "6aafb2c9-56c3-4116-d779-5adb0325eb8a"
   },
   "outputs": [
    {
     "data": {
      "text/plain": [
       "dict_items([('Aedes aegypt', 32), ('Anopheles darlingi', 14), ('Rhodnius montenegrensis', 11)])"
      ]
     },
     "execution_count": 23,
     "metadata": {},
     "output_type": "execute_result"
    }
   ],
   "source": [
    "coleta.items()"
   ]
  },
  {
   "cell_type": "code",
   "execution_count": 24,
   "metadata": {
    "colab": {
     "base_uri": "https://localhost:8080/",
     "height": 34
    },
    "id": "rBbmf65jrVf6",
    "outputId": "88896c3b-f24d-4250-b9fd-91fd08f27e15"
   },
   "outputs": [
    {
     "data": {
      "text/plain": [
       "dict_keys(['Aedes aegypt', 'Anopheles darlingi', 'Rhodnius montenegrensis'])"
      ]
     },
     "execution_count": 24,
     "metadata": {},
     "output_type": "execute_result"
    }
   ],
   "source": [
    "coleta.keys()"
   ]
  },
  {
   "cell_type": "code",
   "execution_count": 25,
   "metadata": {
    "colab": {
     "base_uri": "https://localhost:8080/",
     "height": 34
    },
    "id": "49PWs_oJrbHg",
    "outputId": "b678f2b9-19d0-403d-ff1f-fce1441b813e"
   },
   "outputs": [
    {
     "data": {
      "text/plain": [
       "dict_values([32, 14, 11])"
      ]
     },
     "execution_count": 25,
     "metadata": {},
     "output_type": "execute_result"
    }
   ],
   "source": [
    "coleta.values()"
   ]
  },
  {
   "cell_type": "code",
   "execution_count": 26,
   "metadata": {
    "colab": {
     "base_uri": "https://localhost:8080/",
     "height": 34
    },
    "id": "1XQe0WHGrgoC",
    "outputId": "0a26b1e4-b8dc-40f3-b855-b12628221811"
   },
   "outputs": [
    {
     "name": "stdout",
     "output_type": "stream",
     "text": [
      "{'Anopheles gambiae': 13, 'Anopheles deaneorum': 14}\n"
     ]
    }
   ],
   "source": [
    "coleta2 = {'Anopheles gambiae': 13, 'Anopheles deaneorum': 14}\n",
    "print(coleta2)"
   ]
  },
  {
   "cell_type": "code",
   "execution_count": 27,
   "metadata": {
    "colab": {
     "base_uri": "https://localhost:8080/",
     "height": 54
    },
    "id": "ZH7Mfel7ruCP",
    "outputId": "8570e943-04ef-4192-f5e0-bd852e5413c2"
   },
   "outputs": [
    {
     "name": "stdout",
     "output_type": "stream",
     "text": [
      "{'Aedes aegypt': 32, 'Anopheles darlingi': 14, 'Rhodnius montenegrensis': 11, 'Anopheles gambiae': 13, 'Anopheles deaneorum': 14}\n"
     ]
    }
   ],
   "source": [
    "coleta.update(coleta2)\n",
    "print(coleta)"
   ]
  },
  {
   "cell_type": "code",
   "execution_count": 28,
   "metadata": {
    "colab": {
     "base_uri": "https://localhost:8080/",
     "height": 54
    },
    "id": "oeJdD_--r1sc",
    "outputId": "2d835706-7877-4c2f-bf7c-85dff6258f01"
   },
   "outputs": [
    {
     "data": {
      "text/plain": [
       "dict_items([('Aedes aegypt', 32), ('Anopheles darlingi', 14), ('Rhodnius montenegrensis', 11), ('Anopheles gambiae', 13), ('Anopheles deaneorum', 14)])"
      ]
     },
     "execution_count": 28,
     "metadata": {},
     "output_type": "execute_result"
    }
   ],
   "source": [
    "coleta.items()"
   ]
  },
  {
   "cell_type": "code",
   "execution_count": 29,
   "metadata": {
    "colab": {
     "base_uri": "https://localhost:8080/",
     "height": 101
    },
    "id": "JheAqSC7r5YB",
    "outputId": "3044bb1d-7ca3-4270-e4ed-c3ae071f9d70"
   },
   "outputs": [
    {
     "name": "stdout",
     "output_type": "stream",
     "text": [
      "Espécie: Aedes aegypt, número de espécimes coletados: 32\n",
      "Espécie: Anopheles darlingi, número de espécimes coletados: 14\n",
      "Espécie: Rhodnius montenegrensis, número de espécimes coletados: 11\n",
      "Espécie: Anopheles gambiae, número de espécimes coletados: 13\n",
      "Espécie: Anopheles deaneorum, número de espécimes coletados: 14\n"
     ]
    }
   ],
   "source": [
    "for especie, num_especimes in coleta.items():\n",
    "  print(f'Espécie: {especie}, número de espécimes coletados: {num_especimes}')"
   ]
  },
  {
   "cell_type": "markdown",
   "metadata": {
    "id": "u-3CMPGCMN_C"
   },
   "source": [
    "## Conjuntos (set)"
   ]
  },
  {
   "cell_type": "code",
   "execution_count": 30,
   "metadata": {
    "id": "-g-6mwxHsW2L"
   },
   "outputs": [],
   "source": [
    "biomeleculas = ('proteína', 'ácidos nucleicos', 'carboidrato', 'lipídeo',\n",
    "                'ácidos nucleicos', 'carboidrato', 'carboidrato', 'carboidrato')"
   ]
  },
  {
   "cell_type": "code",
   "execution_count": 31,
   "metadata": {
    "colab": {
     "base_uri": "https://localhost:8080/",
     "height": 54
    },
    "id": "GawdhDILsuDp",
    "outputId": "18cd5972-0559-40d0-c04c-5eecb829ee5d"
   },
   "outputs": [
    {
     "name": "stdout",
     "output_type": "stream",
     "text": [
      "('proteína', 'ácidos nucleicos', 'carboidrato', 'lipídeo', 'ácidos nucleicos', 'carboidrato', 'carboidrato', 'carboidrato')\n"
     ]
    }
   ],
   "source": [
    "print(biomeleculas)"
   ]
  },
  {
   "cell_type": "code",
   "execution_count": 32,
   "metadata": {
    "colab": {
     "base_uri": "https://localhost:8080/",
     "height": 34
    },
    "id": "wU8POR0WsxEK",
    "outputId": "f1c28257-86ae-41de-ebe9-61541452d815"
   },
   "outputs": [
    {
     "name": "stdout",
     "output_type": "stream",
     "text": [
      "{'lipídeo', 'ácidos nucleicos', 'proteína', 'carboidrato'}\n"
     ]
    }
   ],
   "source": [
    "print(set(biomeleculas))"
   ]
  },
  {
   "cell_type": "code",
   "execution_count": 33,
   "metadata": {
    "id": "ap6l5QldtB1l"
   },
   "outputs": [],
   "source": [
    "c1 = {1,2,3,4,5}\n",
    "c2 = {3,4,5,6,7}\n",
    "c3 = c1.intersection(c2)"
   ]
  },
  {
   "cell_type": "code",
   "execution_count": 34,
   "metadata": {
    "colab": {
     "base_uri": "https://localhost:8080/",
     "height": 34
    },
    "id": "JT7ip_ZntTHv",
    "outputId": "01921c12-8a6a-41d8-cdfe-d6bd2ac78e52"
   },
   "outputs": [
    {
     "name": "stdout",
     "output_type": "stream",
     "text": [
      "{3, 4, 5}\n"
     ]
    }
   ],
   "source": [
    "print(c3)"
   ]
  },
  {
   "cell_type": "code",
   "execution_count": 35,
   "metadata": {
    "colab": {
     "base_uri": "https://localhost:8080/",
     "height": 34
    },
    "id": "eOycG2G9tdR9",
    "outputId": "d7348c0a-a0f3-4625-c351-7ea6cc692cf2"
   },
   "outputs": [
    {
     "data": {
      "text/plain": [
       "{1, 2}"
      ]
     },
     "execution_count": 35,
     "metadata": {},
     "output_type": "execute_result"
    }
   ],
   "source": [
    "c1.difference(c2)"
   ]
  },
  {
   "cell_type": "code",
   "execution_count": 36,
   "metadata": {
    "colab": {
     "base_uri": "https://localhost:8080/",
     "height": 34
    },
    "id": "inpYEBhHtl51",
    "outputId": "fc59117c-162a-4395-d013-ceb92d630051"
   },
   "outputs": [
    {
     "data": {
      "text/plain": [
       "{6, 7}"
      ]
     },
     "execution_count": 36,
     "metadata": {},
     "output_type": "execute_result"
    }
   ],
   "source": [
    "c2.difference(c1)"
   ]
  },
  {
   "cell_type": "markdown",
   "metadata": {},
   "source": [
    "Qual estrutura de dados utilizar?\n",
    "\n",
    "Resumo de estruturas de dados\n",
    "\n",
    "|                     |  **Lista**              | **Tuplas**  |  **Dicionário** | **Conjunto**  |\n",
    "| ------------------- | ------------------- |-------------------- | ------------------- |------------------- |\n",
    "|  **Ordem dos elementos** |  Fixa |Fixa   |  Mantida a partir do Python 3.7 |Indeterminada |\n",
    "|  **Tamanho** |  Variável |Fixo   |  Variável |Variável |\n",
    "|  **Elementos repetidos** |  Sim |Sim   |  Pode repetir valores, mas as chaves devem ser únicas |Não |\n",
    "|  **Pesquisa** |  Sequencial, índice numérico |Sequencial, índice numérico   |  Direta por chave |Direta por valor |\n",
    "|  **Alterações** |  Sim |Não   |  Sim |Sim |\n",
    "|  **Uso primário** | Sequências |Sequências constantes   |  Dados indexados por chave|Verificação de unicidade, operações com conjuntos |\n",
    "\n",
    "Fonte: [Introdução à programação com Python](https://python.nilo.pro.br/), de Nilo Ney Coutinho Menezes"
   ]
  },
  {
   "cell_type": "code",
   "execution_count": null,
   "metadata": {},
   "outputs": [],
   "source": []
  }
 ],
 "metadata": {
  "colab": {
   "collapsed_sections": [],
   "name": "Coleções.ipynb",
   "provenance": []
  },
  "kernelspec": {
   "display_name": "Python 3",
   "language": "python",
   "name": "python3"
  },
  "language_info": {
   "codemirror_mode": {
    "name": "ipython",
    "version": 3
   },
   "file_extension": ".py",
   "mimetype": "text/x-python",
   "name": "python",
   "nbconvert_exporter": "python",
   "pygments_lexer": "ipython3",
   "version": "3.8.5"
  }
 },
 "nbformat": 4,
 "nbformat_minor": 1
}
