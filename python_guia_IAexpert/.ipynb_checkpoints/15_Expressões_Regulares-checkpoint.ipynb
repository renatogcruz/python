{
 "cells": [
  {
   "cell_type": "markdown",
   "metadata": {
    "id": "WvOV4VN9sHvj"
   },
   "source": [
    "# Expressões regulares\n",
    "\n",
    "re — Regular expression operations\n",
    "\n",
    "This module provides regular expression matching operations similar to those found in Perl.\n",
    "\n",
    "More: https://docs.python.org/3/library/re.html"
   ]
  },
  {
   "cell_type": "markdown",
   "metadata": {
    "id": "Nk_w40LW0itn"
   },
   "source": [
    "## Função search\n",
    "\n",
    "search() - Varre toda a string, procurando qualquer local onde esta RE tem correspondência.\n"
   ]
  },
  {
   "cell_type": "code",
   "execution_count": 1,
   "metadata": {
    "id": "Aj1dc_c2uZDl"
   },
   "outputs": [],
   "source": [
    "import re"
   ]
  },
  {
   "cell_type": "code",
   "execution_count": 2,
   "metadata": {
    "id": "hFhDZWgGsKQO"
   },
   "outputs": [],
   "source": [
    "frase = 'Olá, meu número de telefone é (42)00010-0000'"
   ]
  },
  {
   "cell_type": "markdown",
   "metadata": {},
   "source": [
    "Aqui está a lista completa de metacaracteres; seus significados estão discutidos [aqui](https://docs.python.org/pt-br/3.8/howto/regex.html)\n",
    "\n",
    "```python\n",
    ". ^ $ * + ? { } [ ] \\ | ( )\n",
    "```"
   ]
  },
  {
   "cell_type": "markdown",
   "metadata": {},
   "source": []
  },
  {
   "cell_type": "code",
   "execution_count": 3,
   "metadata": {
    "colab": {
     "base_uri": "https://localhost:8080/",
     "height": 34
    },
    "id": "qPnO9HmAReeL",
    "outputId": "b2fcbbbc-46a1-4bf1-83a4-55b6ef65251e"
   },
   "outputs": [
    {
     "data": {
      "text/plain": [
       "<re.Match object; span=(30, 44), match='(42)00010-0000'>"
      ]
     },
     "execution_count": 3,
     "metadata": {},
     "output_type": "execute_result"
    }
   ],
   "source": [
    "re.search('\\(\\d{2}\\)\\d{4,5}-\\d{4}', frase)"
   ]
  },
  {
   "cell_type": "code",
   "execution_count": 4,
   "metadata": {
    "id": "LitwIAjDwRXM"
   },
   "outputs": [],
   "source": [
    "frase = 'A placa de carro que eu anotei durante o acidente foi FrT-1998'"
   ]
  },
  {
   "cell_type": "code",
   "execution_count": 5,
   "metadata": {
    "colab": {
     "base_uri": "https://localhost:8080/",
     "height": 34
    },
    "id": "Yy50jNO9SYU6",
    "outputId": "55e4e5a8-8e3d-41b6-fc50-10480adf5967"
   },
   "outputs": [
    {
     "data": {
      "text/plain": [
       "<re.Match object; span=(54, 62), match='FrT-1998'>"
      ]
     },
     "execution_count": 5,
     "metadata": {},
     "output_type": "execute_result"
    }
   ],
   "source": [
    "re.search('[A-Za-z]{3}-\\d{4}', frase)"
   ]
  },
  {
   "cell_type": "code",
   "execution_count": 6,
   "metadata": {
    "id": "JZ9iXCw4w4o7"
   },
   "outputs": [],
   "source": [
    "email = 'Entre em contato, meu email é teste@teste.com'"
   ]
  },
  {
   "cell_type": "code",
   "execution_count": 7,
   "metadata": {
    "colab": {
     "base_uri": "https://localhost:8080/",
     "height": 34
    },
    "id": "Jf9J4PZYSv3_",
    "outputId": "8a3c0e84-1499-46bd-b43a-9ea831e88708"
   },
   "outputs": [
    {
     "data": {
      "text/plain": [
       "<re.Match object; span=(30, 45), match='teste@teste.com'>"
      ]
     },
     "execution_count": 7,
     "metadata": {},
     "output_type": "execute_result"
    }
   ],
   "source": [
    "re.search('\\w+@\\w+\\.com', email)"
   ]
  },
  {
   "cell_type": "markdown",
   "metadata": {
    "id": "wZziwezSxZNR"
   },
   "source": [
    "## Função match\n",
    "\n",
    "match() - Determina se a RE combina com o início da string."
   ]
  },
  {
   "cell_type": "code",
   "execution_count": 8,
   "metadata": {
    "id": "q2MZ-5urxep0"
   },
   "outputs": [],
   "source": [
    "frase = 'A placa de carro que eu anotei durante a batida foi FRT-1998'"
   ]
  },
  {
   "cell_type": "code",
   "execution_count": 9,
   "metadata": {
    "colab": {
     "base_uri": "https://localhost:8080/",
     "height": 34
    },
    "id": "esPXSYM6TMIt",
    "outputId": "45ad5f0c-956d-451b-8957-2e82bc0487a4"
   },
   "outputs": [
    {
     "name": "stdout",
     "output_type": "stream",
     "text": [
      "None\n"
     ]
    }
   ],
   "source": [
    "print(re.match('[A-Za-z]{3}-\\d{4}', frase))"
   ]
  },
  {
   "cell_type": "code",
   "execution_count": 10,
   "metadata": {
    "id": "ahPvZA8Ax5E8"
   },
   "outputs": [],
   "source": [
    "frase2 = 'FRT-1998 é a placa do carro'"
   ]
  },
  {
   "cell_type": "code",
   "execution_count": 11,
   "metadata": {
    "colab": {
     "base_uri": "https://localhost:8080/",
     "height": 34
    },
    "id": "GgVEH8sjTVqh",
    "outputId": "ada9b2be-87d6-43b4-807b-b5a383a2c09f"
   },
   "outputs": [
    {
     "name": "stdout",
     "output_type": "stream",
     "text": [
      "<re.Match object; span=(0, 8), match='FRT-1998'>\n"
     ]
    }
   ],
   "source": [
    "print(re.match('[A-Za-z]{3}-\\d{4}', frase2))"
   ]
  },
  {
   "cell_type": "markdown",
   "metadata": {
    "id": "7OJHsCbkyzV6"
   },
   "source": [
    "## Função findall\n",
    "\n",
    "findall() - Encontra todas as substrings onde a RE corresponde, e as retorna como uma lista."
   ]
  },
  {
   "cell_type": "code",
   "execution_count": 12,
   "metadata": {
    "id": "nAiqJkNJy-gs"
   },
   "outputs": [],
   "source": [
    "frase3 = 'Meu número de telefone atual é (42)0000-0000. O número (56)1111-1111 é o antigo'"
   ]
  },
  {
   "cell_type": "code",
   "execution_count": 13,
   "metadata": {
    "colab": {
     "base_uri": "https://localhost:8080/",
     "height": 34
    },
    "id": "7wUHKwFuTj9P",
    "outputId": "58fb0980-942e-4c89-d480-8528b47728a2"
   },
   "outputs": [
    {
     "data": {
      "text/plain": [
       "['(42)0000-0000', '(56)1111-1111']"
      ]
     },
     "execution_count": 13,
     "metadata": {},
     "output_type": "execute_result"
    }
   ],
   "source": [
    "re.findall('\\(\\d{2}\\)\\d{4,5}-\\d{4}', frase3)"
   ]
  },
  {
   "cell_type": "code",
   "execution_count": 14,
   "metadata": {
    "id": "UwyR0ezBzkqj"
   },
   "outputs": [],
   "source": [
    "emails = '''Nome: Teste 1\n",
    "email: teste1@teste.com\n",
    "Nome: Teste 2\n",
    "email: teste2@teste.com\n",
    "Nome: Teste 3\n",
    "email: teste3@teste.com.br\n",
    "'''"
   ]
  },
  {
   "cell_type": "code",
   "execution_count": 15,
   "metadata": {
    "colab": {
     "base_uri": "https://localhost:8080/",
     "height": 34
    },
    "id": "-nGbc57NTvaT",
    "outputId": "2b742d70-5b71-4dd1-bd6b-87f650d58e3a"
   },
   "outputs": [
    {
     "data": {
      "text/plain": [
       "['teste1@teste.com', 'teste2@teste.com', 'teste3@teste.com']"
      ]
     },
     "execution_count": 15,
     "metadata": {},
     "output_type": "execute_result"
    }
   ],
   "source": [
    "re.findall('\\w+@\\w+\\.\\w*', emails)"
   ]
  },
  {
   "cell_type": "code",
   "execution_count": null,
   "metadata": {},
   "outputs": [],
   "source": []
  }
 ],
 "metadata": {
  "colab": {
   "collapsed_sections": [],
   "name": "Expressões Regulares.ipynb",
   "provenance": []
  },
  "kernelspec": {
   "display_name": "Python 3",
   "language": "python",
   "name": "python3"
  },
  "language_info": {
   "codemirror_mode": {
    "name": "ipython",
    "version": 3
   },
   "file_extension": ".py",
   "mimetype": "text/x-python",
   "name": "python",
   "nbconvert_exporter": "python",
   "pygments_lexer": "ipython3",
   "version": "3.8.5"
  }
 },
 "nbformat": 4,
 "nbformat_minor": 1
}
