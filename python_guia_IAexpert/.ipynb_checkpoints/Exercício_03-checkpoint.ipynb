{
 "cells": [
  {
   "cell_type": "markdown",
   "metadata": {},
   "source": [
    "Exercício - parte 3"
   ]
  },
  {
   "cell_type": "markdown",
   "metadata": {},
   "source": [
    "1 - Ler 5 notas e informar a média"
   ]
  },
  {
   "cell_type": "code",
   "execution_count": 2,
   "metadata": {},
   "outputs": [
    {
     "name": "stdout",
     "output_type": "stream",
     "text": [
      "Entre com o valor da nota 1: 65\n",
      "Entre com o valor da nota 2: 89\n",
      "Entre com o valor da nota 3: 92\n",
      "Entre com o valor da nota 4: 78\n",
      "Entre com o valor da nota 5: 100\n",
      "A média é  84.8\n"
     ]
    }
   ],
   "source": [
    "cont = 1\n",
    "soma = 0\n",
    "\n",
    "while cont <= 5:\n",
    "    nota = int(input(f\"Entre com o valor da nota {cont}: \"))\n",
    "    soma += nota\n",
    "    cont += 1\n",
    "\n",
    "media = soma / 5\n",
    "print(\"A média é \", media)"
   ]
  },
  {
   "cell_type": "markdown",
   "metadata": {},
   "source": [
    "2 - Imprimir a tabuada do número 3 (3 x 1 = 1 – 3 x 10 = 30)"
   ]
  },
  {
   "cell_type": "code",
   "execution_count": 4,
   "metadata": {},
   "outputs": [
    {
     "name": "stdout",
     "output_type": "stream",
     "text": [
      "3 x 0 = 0\n",
      "3 x 1 = 3\n",
      "3 x 2 = 6\n",
      "3 x 3 = 9\n",
      "3 x 4 = 12\n",
      "3 x 5 = 15\n",
      "3 x 6 = 18\n",
      "3 x 7 = 21\n",
      "3 x 8 = 24\n",
      "3 x 9 = 27\n",
      "3 x 10 = 30\n"
     ]
    }
   ],
   "source": [
    "cont = 0\n",
    "\n",
    "while cont <= 10:\n",
    "    print(f\"3 x {cont} = {3 * cont}\")\n",
    "    cont += 1"
   ]
  },
  {
   "cell_type": "code",
   "execution_count": null,
   "metadata": {},
   "outputs": [],
   "source": []
  }
 ],
 "metadata": {
  "kernelspec": {
   "display_name": "Python 3",
   "language": "python",
   "name": "python3"
  },
  "language_info": {
   "codemirror_mode": {
    "name": "ipython",
    "version": 3
   },
   "file_extension": ".py",
   "mimetype": "text/x-python",
   "name": "python",
   "nbconvert_exporter": "python",
   "pygments_lexer": "ipython3",
   "version": "3.8.5"
  }
 },
 "nbformat": 4,
 "nbformat_minor": 4
}
