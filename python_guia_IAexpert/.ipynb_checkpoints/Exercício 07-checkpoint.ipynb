{
 "cells": [
  {
   "cell_type": "markdown",
   "metadata": {},
   "source": [
    "# Exercício parte 07"
   ]
  },
  {
   "cell_type": "markdown",
   "metadata": {},
   "source": [
    "1 - Crie uma lista vazia e faça a leitura de dois valores do tipo float, colocando cada um dos valores nas primeiras posições da lista (o valor1 ficará na posição 0 da lista e o valor2 ficará na posição 1 da lista). Faça a divisão dos dois valores e trate as seguintes exceções:\n",
    "\n",
    "- ValueError: se o usuário digitar um caracter\n",
    "- ZeroDivisionError: se o usuário digitar zero e ocorrer erro na divisão\n",
    "- IndexError: caso a divisão seja feita levando em consideração posições que não existem na lista\n",
    "- KeyboardInterrupt: caso o usuário interrompa a execução"
   ]
  },
  {
   "cell_type": "code",
   "execution_count": 12,
   "metadata": {},
   "outputs": [
    {
     "name": "stdout",
     "output_type": "stream",
     "text": [
      "Entre com valor 1: 10\n",
      "Entre com valor 2: 150\n",
      "A divisão é 0.5\n"
     ]
    }
   ],
   "source": [
    "lista = []\n",
    "\n",
    "try:\n",
    "    lista.append(float(input(\"Entre com valor 1: \")))\n",
    "    lista.append(float(input(\"Entre com valor 2: \")))\n",
    "    divsa0 = lista[0] / lista[1]\n",
    "except ValueError:                    # se n capturar alguma exceção\n",
    "    print('Erro. Valor inválido')\n",
    "except ZeroDivisionError:                    # se n capturar alguma exceção\n",
    "    print('Erro. Valor igual a zero')\n",
    "except IndexError:\n",
    "    print('Erro. Posição errada')\n",
    "except KeyboardInterrupt:\n",
    "    print('Usuário interrompeu a execução')\n",
    "else:\n",
    "    print(f'A divisão é {divisao}')"
   ]
  },
  {
   "cell_type": "markdown",
   "metadata": {},
   "source": [
    "2 - Mostre uma mensagem personalizada na ocorrência de cada um desses erros"
   ]
  },
  {
   "cell_type": "code",
   "execution_count": null,
   "metadata": {},
   "outputs": [],
   "source": []
  },
  {
   "cell_type": "code",
   "execution_count": null,
   "metadata": {},
   "outputs": [],
   "source": []
  }
 ],
 "metadata": {
  "kernelspec": {
   "display_name": "Python 3",
   "language": "python",
   "name": "python3"
  },
  "language_info": {
   "codemirror_mode": {
    "name": "ipython",
    "version": 3
   },
   "file_extension": ".py",
   "mimetype": "text/x-python",
   "name": "python",
   "nbconvert_exporter": "python",
   "pygments_lexer": "ipython3",
   "version": "3.8.5"
  }
 },
 "nbformat": 4,
 "nbformat_minor": 4
}
