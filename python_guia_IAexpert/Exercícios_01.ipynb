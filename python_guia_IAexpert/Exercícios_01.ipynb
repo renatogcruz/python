{
 "cells": [
  {
   "cell_type": "markdown",
   "metadata": {},
   "source": [
    "# Exercícios - parte 01"
   ]
  },
  {
   "cell_type": "markdown",
   "metadata": {},
   "source": [
    "1 - Ler dois números inteiros, executar e mostrar o resultado das seguintes operações: adição, subtração, multiplicação e divisão"
   ]
  },
  {
   "cell_type": "code",
   "execution_count": 1,
   "metadata": {},
   "outputs": [
    {
     "name": "stdout",
     "output_type": "stream",
     "text": [
      "Entre com o primeiro número: 10\n"
     ]
    }
   ],
   "source": [
    "number1 = int(input(\"Entre com o primeiro número: \"))"
   ]
  },
  {
   "cell_type": "code",
   "execution_count": 2,
   "metadata": {},
   "outputs": [
    {
     "name": "stdout",
     "output_type": "stream",
     "text": [
      "Entre com o segundo número: 2\n"
     ]
    }
   ],
   "source": [
    "number2 = int(input(\"Entre com o segundo número: \"))"
   ]
  },
  {
   "cell_type": "code",
   "execution_count": 3,
   "metadata": {},
   "outputs": [
    {
     "name": "stdout",
     "output_type": "stream",
     "text": [
      "A soma de 10 + 2 é igual a 12\n"
     ]
    }
   ],
   "source": [
    "# adição\n",
    "adicao = number1 + number2\n",
    "print(f\"A soma de {number1} + {number2} é igual a {adicao}\")"
   ]
  },
  {
   "cell_type": "code",
   "execution_count": 5,
   "metadata": {},
   "outputs": [
    {
     "name": "stdout",
     "output_type": "stream",
     "text": [
      "A diferença de 10 - 2 é igual a 8\n"
     ]
    }
   ],
   "source": [
    "# subtração\n",
    "subtracao = number1 - number2\n",
    "print(f\"A diferença de {number1} - {number2} é igual a {subtracao}\")"
   ]
  },
  {
   "cell_type": "code",
   "execution_count": 7,
   "metadata": {},
   "outputs": [
    {
     "name": "stdout",
     "output_type": "stream",
     "text": [
      "10 vezes 2 é igual a 20\n"
     ]
    }
   ],
   "source": [
    "# multiplicação\n",
    "multiplicacao = number1 * number2\n",
    "print(f\"{number1} vezes {number2} é igual a {multiplicacao}\")"
   ]
  },
  {
   "cell_type": "code",
   "execution_count": 8,
   "metadata": {},
   "outputs": [
    {
     "name": "stdout",
     "output_type": "stream",
     "text": [
      "10 dividido por 2 é igual a 5.0\n"
     ]
    }
   ],
   "source": [
    "# divisão\n",
    "divisao = number1 / number2\n",
    "print(f\"{number1} dividido por {number2} é igual a {divisao}\")"
   ]
  },
  {
   "cell_type": "markdown",
   "metadata": {},
   "source": [
    "2 - Efetuar o cálculo da quantidade de litros de combustível gasto em uma viagem, utilizando um automóvel que faz 12 Km por litro. Para obter o cálculo, o usuário deve fornecer o tempo gasto na viagem e a velocidade média durante ela. Desta forma, será possível obter a distância percorrida com a fórmula DISTANCIA = TEMPO * VELOCIDADE. Tendo o valor da distância, basta calcular a quantidade de litros de combustível utilizada na viagem, com a fórmula: LITROS_USADOS = DISTANCIA / 12. O programa deve apresentar os valores da velocidade média, tempo gasto na viagem, a distância percorrida e a quantidade de litros utilizada na viagem"
   ]
  },
  {
   "cell_type": "code",
   "execution_count": 9,
   "metadata": {},
   "outputs": [
    {
     "name": "stdout",
     "output_type": "stream",
     "text": [
      "Entre com o tempo gasto na viagem: 2\n"
     ]
    }
   ],
   "source": [
    "## Entrada do tempo\n",
    "\n",
    "tempo = float(input(\"Entre com o tempo gasto na viagem: \"))"
   ]
  },
  {
   "cell_type": "code",
   "execution_count": 12,
   "metadata": {},
   "outputs": [
    {
     "name": "stdout",
     "output_type": "stream",
     "text": [
      "Entre com a velocidade média durane a viagem: 80\n"
     ]
    }
   ],
   "source": [
    "## Entrada da velocidade\n",
    "\n",
    "velocidade = int(input(\"Entre com a velocidade média durane a viagem: \"))"
   ]
  },
  {
   "cell_type": "code",
   "execution_count": 13,
   "metadata": {},
   "outputs": [],
   "source": [
    "# processamento DISTÂNCIA\n",
    "\n",
    "distancia = tempo * velocidade"
   ]
  },
  {
   "cell_type": "code",
   "execution_count": 14,
   "metadata": {},
   "outputs": [],
   "source": [
    "# processamento LITROS_USADOS\n",
    "\n",
    "litros_usados = distancia / 12"
   ]
  },
  {
   "cell_type": "code",
   "execution_count": 16,
   "metadata": {},
   "outputs": [
    {
     "name": "stdout",
     "output_type": "stream",
     "text": [
      "A quantidade de litros de combustível gasto durante a vigem foi de  13.33 litros\n"
     ]
    }
   ],
   "source": [
    "# saída\n",
    "\n",
    "print(f\"A quantidade de litros de combustível gasto durante a vigem foi de {litros_usados:6.2f} litros\")"
   ]
  },
  {
   "cell_type": "code",
   "execution_count": null,
   "metadata": {},
   "outputs": [],
   "source": []
  }
 ],
 "metadata": {
  "kernelspec": {
   "display_name": "Python 3",
   "language": "python",
   "name": "python3"
  },
  "language_info": {
   "codemirror_mode": {
    "name": "ipython",
    "version": 3
   },
   "file_extension": ".py",
   "mimetype": "text/x-python",
   "name": "python",
   "nbconvert_exporter": "python",
   "pygments_lexer": "ipython3",
   "version": "3.8.5"
  }
 },
 "nbformat": 4,
 "nbformat_minor": 4
}
