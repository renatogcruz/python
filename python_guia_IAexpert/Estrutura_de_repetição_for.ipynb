{
  "nbformat": 4,
  "nbformat_minor": 0,
  "metadata": {
    "colab": {
      "name": "Estrutura de repetição - for.ipynb",
      "provenance": [],
      "collapsed_sections": []
    },
    "kernelspec": {
      "name": "python3",
      "display_name": "Python 3"
    }
  },
  "cells": [
    {
      "cell_type": "markdown",
      "metadata": {
        "id": "5hg58pyZe2oS"
      },
      "source": [
        "# Estruturas de repetição - for"
      ]
    },
    {
      "cell_type": "code",
      "metadata": {
        "id": "Vqvjpfi6e_L-",
        "colab": {
          "base_uri": "https://localhost:8080/",
          "height": 101
        },
        "outputId": "b5e88e15-3f0c-46cc-b90c-6c413f356d57"
      },
      "source": [
        "print(1)\n",
        "print(2)\n",
        "print(3)\n",
        "print(4)\n",
        "print(5)"
      ],
      "execution_count": null,
      "outputs": [
        {
          "output_type": "stream",
          "text": [
            "1\n",
            "2\n",
            "3\n",
            "4\n",
            "5\n"
          ],
          "name": "stdout"
        }
      ]
    },
    {
      "cell_type": "code",
      "metadata": {
        "id": "c2iluHyETYEU",
        "colab": {
          "base_uri": "https://localhost:8080/",
          "height": 101
        },
        "outputId": "83f36526-cbe8-4b15-f25e-6248a0dd4754"
      },
      "source": [
        "for numero in range(1, 6):\n",
        "  print(numero)"
      ],
      "execution_count": null,
      "outputs": [
        {
          "output_type": "stream",
          "text": [
            "1\n",
            "2\n",
            "3\n",
            "4\n",
            "5\n"
          ],
          "name": "stdout"
        }
      ]
    },
    {
      "cell_type": "code",
      "metadata": {
        "id": "P7NuY7N4TxMK",
        "colab": {
          "base_uri": "https://localhost:8080/",
          "height": 101
        },
        "outputId": "5ce98328-efb7-4ffd-81d8-fe122919f27f"
      },
      "source": [
        "for numero in range(5, 0, -1):\n",
        "  print(numero)"
      ],
      "execution_count": null,
      "outputs": [
        {
          "output_type": "stream",
          "text": [
            "5\n",
            "4\n",
            "3\n",
            "2\n",
            "1\n"
          ],
          "name": "stdout"
        }
      ]
    },
    {
      "cell_type": "code",
      "metadata": {
        "id": "Tte1Ylh6UAtK",
        "colab": {
          "base_uri": "https://localhost:8080/",
          "height": 34
        },
        "outputId": "2ac82940-1088-4e83-d278-922647df20a4"
      },
      "source": [
        "5 + 4 + 3 + 2 + 1"
      ],
      "execution_count": null,
      "outputs": [
        {
          "output_type": "execute_result",
          "data": {
            "text/plain": [
              "15"
            ]
          },
          "metadata": {
            "tags": []
          },
          "execution_count": 5
        }
      ]
    },
    {
      "cell_type": "code",
      "metadata": {
        "id": "H5x4zHkfUFmb",
        "colab": {
          "base_uri": "https://localhost:8080/",
          "height": 118
        },
        "outputId": "2fd622dc-6c23-48bc-891f-904c8e98d2d9"
      },
      "source": [
        "soma = 0\n",
        "for numero in range(1, 6):\n",
        "  soma = soma + numero\n",
        "  #print(soma)\n",
        "\n",
        "print(soma)"
      ],
      "execution_count": null,
      "outputs": [
        {
          "output_type": "stream",
          "text": [
            "1\n",
            "3\n",
            "6\n",
            "10\n",
            "15\n",
            "15\n"
          ],
          "name": "stdout"
        }
      ]
    },
    {
      "cell_type": "code",
      "metadata": {
        "id": "JZnG40IVUnwn",
        "colab": {
          "base_uri": "https://localhost:8080/",
          "height": 34
        },
        "outputId": "f452ab47-bce1-4c75-9274-c05c0eb06e97"
      },
      "source": [
        "palavra = 'sorvete'\n",
        "for letra in palavra:\n",
        "  #print(letra)\n",
        "  if letra == 'v':\n",
        "    print('Achou a letra v')"
      ],
      "execution_count": null,
      "outputs": [
        {
          "output_type": "stream",
          "text": [
            "Achou a letra v\n"
          ],
          "name": "stdout"
        }
      ]
    },
    {
      "cell_type": "code",
      "metadata": {
        "id": "UXEE2wmwVMBq",
        "colab": {
          "base_uri": "https://localhost:8080/",
          "height": 521
        },
        "outputId": "9a712589-73a9-4bcb-d140-30af99d035cb"
      },
      "source": [
        "for i in range(0,5):\n",
        "  print(i)\n",
        "  print('---')\n",
        "  for j in range(0,3):\n",
        "    print(j)\n",
        "  print()"
      ],
      "execution_count": null,
      "outputs": [
        {
          "output_type": "stream",
          "text": [
            "0\n",
            "---\n",
            "0\n",
            "1\n",
            "2\n",
            "\n",
            "1\n",
            "---\n",
            "0\n",
            "1\n",
            "2\n",
            "\n",
            "2\n",
            "---\n",
            "0\n",
            "1\n",
            "2\n",
            "\n",
            "3\n",
            "---\n",
            "0\n",
            "1\n",
            "2\n",
            "\n",
            "4\n",
            "---\n",
            "0\n",
            "1\n",
            "2\n",
            "\n"
          ],
          "name": "stdout"
        }
      ]
    }
  ]
}