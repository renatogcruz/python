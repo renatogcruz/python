{
 "cells": [
  {
   "cell_type": "markdown",
   "metadata": {},
   "source": [
    "Segundo capítulo do livro [Código limpo: Habilidades práticas do Agile Software](https://www.amazon.com.br/C%C3%B3digo-limpo-Robert-C-Martin/dp/8576082675/ref=asc_df_8576082675/?tag=googleshopp00-20&linkCode=df0&hvadid=379792215563&hvpos=&hvnetw=g&hvrand=6145473776716226501&hvpone=&hvptwo=&hvqmt=&hvdev=c&hvdvcmdl=&hvlocint=&hvlocphy=9101079&hvtargid=pla-398225630878&psc=1) de Robert C. Martin  "
   ]
  },
  {
   "cell_type": "markdown",
   "metadata": {},
   "source": [
    "### Use nomes que revelam seu proposito\n",
    "\n",
    "Escolher um bom nome leva tempo, mas economiza ainda mais. Portanto, cuide de seus nomes e troque-os quando econtrar melhores.Todos que lerem seus códigos (incluindo vc mesmo) agradecerá.\n",
    "\n",
    "O nome de uma variável, função ou classe deve responder a todas questões. Ele deve lhe dizer porque existe, o que faz e como usar. Se um nome requer um comentário, então ele não revela seu proposito."
   ]
  },
  {
   "cell_type": "code",
   "execution_count": 2,
   "metadata": {},
   "outputs": [],
   "source": [
    "dia = 0 # tempo decorrido em dias"
   ]
  },
  {
   "cell_type": "markdown",
   "metadata": {},
   "source": [
    "O nome d não indicada nada.Devemos escolher um nome que especifique seu uso para mensuração e a unidade usada"
   ]
  },
  {
   "cell_type": "code",
   "execution_count": 3,
   "metadata": {},
   "outputs": [],
   "source": [
    "elapsed_time_in_day = 30\n",
    "days_since_creation = 5\n",
    "days_sice_modification = 17\n",
    "file_age_in_days = 120"
   ]
  },
  {
   "cell_type": "code",
   "execution_count": null,
   "metadata": {},
   "outputs": [],
   "source": []
  }
 ],
 "metadata": {
  "kernelspec": {
   "display_name": "Python 3",
   "language": "python",
   "name": "python3"
  },
  "language_info": {
   "codemirror_mode": {
    "name": "ipython",
    "version": 3
   },
   "file_extension": ".py",
   "mimetype": "text/x-python",
   "name": "python",
   "nbconvert_exporter": "python",
   "pygments_lexer": "ipython3",
   "version": "3.8.5"
  }
 },
 "nbformat": 4,
 "nbformat_minor": 4
}
