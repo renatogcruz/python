{
 "cells": [
  {
   "cell_type": "markdown",
   "metadata": {},
   "source": [
    "# Capítulo 2 - Análise: reunindo tudo e tomando decisões\n",
    "\n",
    "[Referência](https://riptutorial.com/pandas)\n",
    "\n",
    "### Exemplos.\n",
    "\n",
    "Análise Quintil: com dados aleatórios.\n",
    "\n",
    "A análise de quintis é uma estrutura comum para avaliar a eficácia dos fatores de segurança.\n",
    "\n",
    "### O que é um fator\n",
    "\n",
    "Um fator é um método de pontuação/classificação de conjuntos de títulos. Para um determinado momento e para um determinado conjunto de títulos, um fator pode ser representado como uma série de pandas em que o índice é uma matriz de identificadores de títulos e os valores são as pontuações ou classificações.\n",
    "\n",
    "Se considerarmos as pontuações dos fatores ao longo do tempo, podemos, em cada momento, dividir o conjunto de títulos em 5 grupos iguais, ou quintis, com base na ordem das pontuações dos fatores. Não há nada particularmente sagrado no número 5. Poderíamos ter usado 3 ou 10. Mas usamos 5 com frequência. Finalmente, rastreamos o desempenho de cada um dos cinco baldes para determinar se há uma diferença significativa nos retornos. Tendemos a nos concentrar mais intensamente na diferença de retornos do balde com a classificação mais alta em relação ao da classificação mais baixa.\n",
    "\n",
    "____________\n",
    "\n",
    "Vamos começar definindo alguns parâmetros e gerando dados aleatórios.\n",
    "\n",
    "Para facilitar a experimentação com a mecânica, fornecemos um código simples para criar dados aleatórios para nos dar uma ideia de como isso funciona.\n",
    "\n",
    "**Inclui dados aleatórios**\n",
    "\n",
    "* Retornos: gera retornos aleatórios para um número especificado de títulos e períodos.\n",
    "\n",
    "* Sinais: gera sinais aleatórios para um número especificado de títulos e períodos e com o nível prescrito de correlação com os retornos. Para que um fator seja útil, deve haver alguma informação ou correlação entre as pontuações/classificações e os retornos subsequentes. Se não houvesse correlação, nós veríamos. Isso seria um bom exercício para o leitor, duplicar esta análise com dados aleatórios gerados com 0 de correlação."
   ]
  },
  {
   "cell_type": "code",
   "execution_count": 1,
   "metadata": {},
   "outputs": [],
   "source": [
    "# Inicialização\n",
    "\n",
    "import pandas as pd\n",
    "import numpy as np"
   ]
  },
  {
   "cell_type": "code",
   "execution_count": 2,
   "metadata": {},
   "outputs": [],
   "source": [
    "num_securities = 1000\n",
    "num_periods = 1000\n",
    "period_frequency = 'W'\n",
    "start_date = '2000-12-31'\n",
    "\n",
    "np.random.seed([3,1415])\n",
    "\n",
    "means = [0, 0]\n",
    "covariance = [[ 1., 5e-3],\n",
    "              [5e-3, 1.]]\n",
    "\n",
    "# gera para conjuntos de dados m [0] e m [1] com correlação de ~0,005\n",
    "m = np.random.multivariate_normal(means, covariance,\n",
    "                                  (num_periods, num_securities)).T"
   ]
  },
  {
   "cell_type": "code",
   "execution_count": 5,
   "metadata": {},
   "outputs": [
    {
     "data": {
      "text/plain": [
       "array([[[ 2.40439842, -1.99883907,  1.05846999, ..., -2.72051681,\n",
       "          1.16391321, -0.09355325],\n",
       "        [ 2.99022738,  0.70475282,  0.68816812, ...,  0.67153358,\n",
       "          1.45647911,  1.09309566],\n",
       "        [ 0.26661179,  0.09139405, -0.21271218, ...,  0.83498683,\n",
       "         -0.06172875,  0.13338354],\n",
       "        ...,\n",
       "        [ 0.58031704,  1.49991343,  0.85241726, ..., -0.64162404,\n",
       "          1.6481826 , -0.81027017],\n",
       "        [-0.2150292 , -0.75509327,  0.24534957, ..., -0.95983744,\n",
       "          0.32270648, -0.54264219],\n",
       "        [-1.66853157,  1.71336487,  0.84040112, ...,  0.36503649,\n",
       "          0.99596603, -0.65933852]],\n",
       "\n",
       "       [[ 0.61500681,  0.8041211 , -1.25906613, ...,  1.15994415,\n",
       "         -0.77332085,  1.29157132],\n",
       "        [-0.19656191,  1.87681034,  0.98515146, ...,  0.08831308,\n",
       "          0.811356  ,  0.35574777],\n",
       "        [ 0.22858708,  0.32009034, -1.3152288 , ..., -0.03779635,\n",
       "         -0.21034589,  0.5412049 ],\n",
       "        ...,\n",
       "        [ 0.1132181 ,  0.42068062,  1.96075496, ..., -0.91454425,\n",
       "          0.8444869 , -1.30313519],\n",
       "        [-0.34615875, -1.91503402,  0.81036275, ...,  0.24950153,\n",
       "          0.50255248, -0.71892425],\n",
       "        [ 1.13421323,  0.99687081,  1.022552  , ...,  1.28790165,\n",
       "          1.15984041,  0.60336158]]])"
      ]
     },
     "execution_count": 5,
     "metadata": {},
     "output_type": "execute_result"
    }
   ],
   "source": [
    "m"
   ]
  },
  {
   "cell_type": "markdown",
   "metadata": {},
   "source": [
    "Agora, vamos gerar um índice de série temporal e um índice representando IDs de segurança. Em seguida, use-os para criar dataframes para retornos e sinais"
   ]
  },
  {
   "cell_type": "code",
   "execution_count": 12,
   "metadata": {},
   "outputs": [
    {
     "ename": "TypeError",
     "evalue": "data type 'ID' not understood",
     "output_type": "error",
     "traceback": [
      "\u001b[1;31m---------------------------------------------------------------------------\u001b[0m",
      "\u001b[1;31mTypeError\u001b[0m                                 Traceback (most recent call last)",
      "\u001b[1;32m<ipython-input-12-8e48feeb0913>\u001b[0m in \u001b[0;36m<module>\u001b[1;34m\u001b[0m\n\u001b[1;32m----> 1\u001b[1;33m \u001b[0mids\u001b[0m \u001b[1;33m=\u001b[0m \u001b[0mpd\u001b[0m\u001b[1;33m.\u001b[0m\u001b[0mIndex\u001b[0m\u001b[1;33m(\u001b[0m\u001b[1;33m[\u001b[0m\u001b[1;34m's{:05d}'\u001b[0m\u001b[1;33m.\u001b[0m\u001b[0mformat\u001b[0m\u001b[1;33m(\u001b[0m\u001b[0ms\u001b[0m\u001b[1;33m)\u001b[0m \u001b[1;32mfor\u001b[0m \u001b[0ms\u001b[0m \u001b[1;32min\u001b[0m \u001b[0mrange\u001b[0m\u001b[1;33m(\u001b[0m\u001b[0mnum_securities\u001b[0m\u001b[1;33m)\u001b[0m\u001b[1;33m]\u001b[0m\u001b[1;33m,\u001b[0m \u001b[1;34m'ID'\u001b[0m\u001b[1;33m)\u001b[0m\u001b[1;33m\u001b[0m\u001b[1;33m\u001b[0m\u001b[0m\n\u001b[0m\u001b[0;32m      2\u001b[0m \u001b[0mtidx\u001b[0m \u001b[1;33m=\u001b[0m \u001b[0mpd\u001b[0m\u001b[1;33m.\u001b[0m\u001b[0mdate_range\u001b[0m\u001b[1;33m(\u001b[0m\u001b[0mstart\u001b[0m\u001b[1;33m=\u001b[0m\u001b[0mstart_date\u001b[0m\u001b[1;33m,\u001b[0m \u001b[0mperiods\u001b[0m\u001b[1;33m=\u001b[0m\u001b[0mnum_periods\u001b[0m\u001b[1;33m,\u001b[0m \u001b[0mfreq\u001b[0m\u001b[1;33m=\u001b[0m\u001b[0mperiod_frequency\u001b[0m\u001b[1;33m)\u001b[0m\u001b[1;33m\u001b[0m\u001b[1;33m\u001b[0m\u001b[0m\n",
      "\u001b[1;32m~\\anaconda3\\lib\\site-packages\\pandas\\core\\indexes\\base.py\u001b[0m in \u001b[0;36m__new__\u001b[1;34m(cls, data, dtype, copy, name, tupleize_cols, **kwargs)\u001b[0m\n\u001b[0;32m    300\u001b[0m \u001b[1;33m\u001b[0m\u001b[0m\n\u001b[0;32m    301\u001b[0m         \u001b[1;32mif\u001b[0m \u001b[0mdtype\u001b[0m \u001b[1;32mis\u001b[0m \u001b[1;32mnot\u001b[0m \u001b[1;32mNone\u001b[0m\u001b[1;33m:\u001b[0m\u001b[1;33m\u001b[0m\u001b[1;33m\u001b[0m\u001b[0m\n\u001b[1;32m--> 302\u001b[1;33m             \u001b[0mdtype\u001b[0m \u001b[1;33m=\u001b[0m \u001b[0mpandas_dtype\u001b[0m\u001b[1;33m(\u001b[0m\u001b[0mdtype\u001b[0m\u001b[1;33m)\u001b[0m\u001b[1;33m\u001b[0m\u001b[1;33m\u001b[0m\u001b[0m\n\u001b[0m\u001b[0;32m    303\u001b[0m         \u001b[1;32mif\u001b[0m \u001b[1;34m\"tz\"\u001b[0m \u001b[1;32min\u001b[0m \u001b[0mkwargs\u001b[0m\u001b[1;33m:\u001b[0m\u001b[1;33m\u001b[0m\u001b[1;33m\u001b[0m\u001b[0m\n\u001b[0;32m    304\u001b[0m             \u001b[0mtz\u001b[0m \u001b[1;33m=\u001b[0m \u001b[0mkwargs\u001b[0m\u001b[1;33m.\u001b[0m\u001b[0mpop\u001b[0m\u001b[1;33m(\u001b[0m\u001b[1;34m\"tz\"\u001b[0m\u001b[1;33m)\u001b[0m\u001b[1;33m\u001b[0m\u001b[1;33m\u001b[0m\u001b[0m\n",
      "\u001b[1;32m~\\anaconda3\\lib\\site-packages\\pandas\\core\\dtypes\\common.py\u001b[0m in \u001b[0;36mpandas_dtype\u001b[1;34m(dtype)\u001b[0m\n\u001b[0;32m   1761\u001b[0m     \u001b[1;31m# raise a consistent TypeError if failed\u001b[0m\u001b[1;33m\u001b[0m\u001b[1;33m\u001b[0m\u001b[1;33m\u001b[0m\u001b[0m\n\u001b[0;32m   1762\u001b[0m     \u001b[1;32mtry\u001b[0m\u001b[1;33m:\u001b[0m\u001b[1;33m\u001b[0m\u001b[1;33m\u001b[0m\u001b[0m\n\u001b[1;32m-> 1763\u001b[1;33m         \u001b[0mnpdtype\u001b[0m \u001b[1;33m=\u001b[0m \u001b[0mnp\u001b[0m\u001b[1;33m.\u001b[0m\u001b[0mdtype\u001b[0m\u001b[1;33m(\u001b[0m\u001b[0mdtype\u001b[0m\u001b[1;33m)\u001b[0m\u001b[1;33m\u001b[0m\u001b[1;33m\u001b[0m\u001b[0m\n\u001b[0m\u001b[0;32m   1764\u001b[0m     \u001b[1;32mexcept\u001b[0m \u001b[0mSyntaxError\u001b[0m \u001b[1;32mas\u001b[0m \u001b[0merr\u001b[0m\u001b[1;33m:\u001b[0m\u001b[1;33m\u001b[0m\u001b[1;33m\u001b[0m\u001b[0m\n\u001b[0;32m   1765\u001b[0m         \u001b[1;31m# np.dtype uses `eval` which can raise SyntaxError\u001b[0m\u001b[1;33m\u001b[0m\u001b[1;33m\u001b[0m\u001b[1;33m\u001b[0m\u001b[0m\n",
      "\u001b[1;31mTypeError\u001b[0m: data type 'ID' not understood"
     ]
    }
   ],
   "source": [
    "ids = pd.Index(['s{:05d}'.format(s) for s in range(num_securities)], 'ID')\n",
    "tidx = pd.date_range(start=start_date, periods=num_periods, freq=period_frequency)"
   ]
  },
  {
   "cell_type": "code",
   "execution_count": 8,
   "metadata": {},
   "outputs": [
    {
     "data": {
      "text/plain": [
       "DatetimeIndex(['2000-12-31', '2001-01-07', '2001-01-14', '2001-01-21',\n",
       "               '2001-01-28', '2001-02-04', '2001-02-11', '2001-02-18',\n",
       "               '2001-02-25', '2001-03-04',\n",
       "               ...\n",
       "               '2019-12-22', '2019-12-29', '2020-01-05', '2020-01-12',\n",
       "               '2020-01-19', '2020-01-26', '2020-02-02', '2020-02-09',\n",
       "               '2020-02-16', '2020-02-23'],\n",
       "              dtype='datetime64[ns]', length=1000, freq='W-SUN')"
      ]
     },
     "execution_count": 8,
     "metadata": {},
     "output_type": "execute_result"
    }
   ],
   "source": [
    "tidx"
   ]
  },
  {
   "cell_type": "markdown",
   "metadata": {},
   "source": [
    "Divide-se m[0] por 25 para reduzir para algo que se pareça com retornos de ações. Adiciona-se 1e-7 para dar um retorno médio positivo modesto."
   ]
  },
  {
   "cell_type": "code",
   "execution_count": 9,
   "metadata": {},
   "outputs": [
    {
     "ename": "NameError",
     "evalue": "name 'ids' is not defined",
     "output_type": "error",
     "traceback": [
      "\u001b[1;31m---------------------------------------------------------------------------\u001b[0m",
      "\u001b[1;31mNameError\u001b[0m                                 Traceback (most recent call last)",
      "\u001b[1;32m<ipython-input-9-02ee59c77be5>\u001b[0m in \u001b[0;36m<module>\u001b[1;34m\u001b[0m\n\u001b[1;32m----> 1\u001b[1;33m \u001b[0msecurity_returns\u001b[0m \u001b[1;33m=\u001b[0m \u001b[0mpd\u001b[0m\u001b[1;33m.\u001b[0m\u001b[0mDataFrame\u001b[0m\u001b[1;33m(\u001b[0m\u001b[0mm\u001b[0m\u001b[1;33m[\u001b[0m\u001b[1;36m0\u001b[0m\u001b[1;33m]\u001b[0m \u001b[1;33m/\u001b[0m \u001b[1;36m25\u001b[0m \u001b[1;33m+\u001b[0m \u001b[1;36m1e-7\u001b[0m\u001b[1;33m,\u001b[0m \u001b[0mtidx\u001b[0m\u001b[1;33m,\u001b[0m \u001b[0mids\u001b[0m\u001b[1;33m)\u001b[0m\u001b[1;33m\u001b[0m\u001b[1;33m\u001b[0m\u001b[0m\n\u001b[0m\u001b[0;32m      2\u001b[0m \u001b[0msecurity_signals\u001b[0m \u001b[1;33m=\u001b[0m \u001b[0mpd\u001b[0m\u001b[1;33m.\u001b[0m\u001b[0mDataFrame\u001b[0m\u001b[1;33m(\u001b[0m\u001b[0mm\u001b[0m\u001b[1;33m[\u001b[0m\u001b[1;36m1\u001b[0m\u001b[1;33m]\u001b[0m\u001b[1;33m,\u001b[0m \u001b[0mtidx\u001b[0m\u001b[1;33m,\u001b[0m \u001b[0mids\u001b[0m\u001b[1;33m)\u001b[0m\u001b[1;33m\u001b[0m\u001b[1;33m\u001b[0m\u001b[0m\n",
      "\u001b[1;31mNameError\u001b[0m: name 'ids' is not defined"
     ]
    }
   ],
   "source": [
    "security_returns = pd.DataFrame(m[0] / 25 + 1e-7, tidx, ids)\n",
    "security_signals = pd.DataFrame(m[1], tidx, ids)"
   ]
  },
  {
   "cell_type": "code",
   "execution_count": null,
   "metadata": {},
   "outputs": [],
   "source": []
  }
 ],
 "metadata": {
  "kernelspec": {
   "display_name": "Python 3",
   "language": "python",
   "name": "python3"
  },
  "language_info": {
   "codemirror_mode": {
    "name": "ipython",
    "version": 3
   },
   "file_extension": ".py",
   "mimetype": "text/x-python",
   "name": "python",
   "nbconvert_exporter": "python",
   "pygments_lexer": "ipython3",
   "version": "3.8.5"
  }
 },
 "nbformat": 4,
 "nbformat_minor": 4
}
